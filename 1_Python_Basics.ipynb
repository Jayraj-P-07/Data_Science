{
 "cells": [
  {
   "cell_type": "code",
   "execution_count": 1,
   "id": "08bb994d",
   "metadata": {},
   "outputs": [
    {
     "name": "stdout",
     "output_type": "stream",
     "text": [
      "hello\n"
     ]
    }
   ],
   "source": [
    "print(\"hello\")"
   ]
  },
  {
   "cell_type": "code",
   "execution_count": 2,
   "id": "1495b479",
   "metadata": {},
   "outputs": [
    {
     "name": "stdout",
     "output_type": "stream",
     "text": [
      "8\n"
     ]
    }
   ],
   "source": [
    "print(3+5)"
   ]
  },
  {
   "cell_type": "code",
   "execution_count": 3,
   "id": "b7403272",
   "metadata": {},
   "outputs": [
    {
     "name": "stdout",
     "output_type": "stream",
     "text": [
      "string\n",
      "three 7 25\n"
     ]
    }
   ],
   "source": [
    "print(\"str\"+\"ing\")\n",
    "a=5\n",
    "print(\"three\", a+2, a**2)"
   ]
  },
  {
   "cell_type": "code",
   "execution_count": 4,
   "id": "db0b8797",
   "metadata": {},
   "outputs": [
    {
     "name": "stdout",
     "output_type": "stream",
     "text": [
      "['False', 'None', 'True', '__peg_parser__', 'and', 'as', 'assert', 'async', 'await', 'break', 'class', 'continue', 'def', 'del', 'elif', 'else', 'except', 'finally', 'for', 'from', 'global', 'if', 'import', 'in', 'is', 'lambda', 'nonlocal', 'not', 'or', 'pass', 'raise', 'return', 'try', 'while', 'with', 'yield']\n",
      "\n",
      " Number of Keywords = 36\n"
     ]
    }
   ],
   "source": [
    "import keyword\n",
    "print(keyword.kwlist)\n",
    "print(\"\\n Number of Keywords =\", len(keyword.kwlist))"
   ]
  },
  {
   "cell_type": "code",
   "execution_count": 5,
   "id": "e4295335",
   "metadata": {},
   "outputs": [
    {
     "name": "stdout",
     "output_type": "stream",
     "text": [
      "5\n",
      "7\n",
      "9\n"
     ]
    }
   ],
   "source": [
    "for i in range(5,10,2):\n",
    "    print(i)"
   ]
  },
  {
   "cell_type": "code",
   "execution_count": 6,
   "id": "ec7fe39f",
   "metadata": {},
   "outputs": [
    {
     "name": "stdout",
     "output_type": "stream",
     "text": [
      "0, 0\n",
      "4, 4\n",
      "16, 16\n",
      "36, 36\n",
      "64, 64\n"
     ]
    }
   ],
   "source": [
    "for i in range(0,10,2):\n",
    "    print(i**2, end=', ')\n",
    "    print(i*i)"
   ]
  },
  {
   "cell_type": "code",
   "execution_count": 7,
   "id": "21f47575",
   "metadata": {},
   "outputs": [],
   "source": [
    "# comment"
   ]
  },
  {
   "cell_type": "code",
   "execution_count": 8,
   "id": "58e5d6f0",
   "metadata": {},
   "outputs": [
    {
     "name": "stdout",
     "output_type": "stream",
     "text": [
      "1\n"
     ]
    }
   ],
   "source": [
    "# single line statement\n",
    "a=1\n",
    "print(a)"
   ]
  },
  {
   "cell_type": "code",
   "execution_count": 9,
   "id": "dc70299f",
   "metadata": {},
   "outputs": [
    {
     "name": "stdout",
     "output_type": "stream",
     "text": [
      "46\n"
     ]
    }
   ],
   "source": [
    "# multiline statement\n",
    "a=1+2+3+\\\n",
    "5+6+7+3+\\\n",
    "9+10\n",
    "print(a)"
   ]
  },
  {
   "cell_type": "code",
   "execution_count": 10,
   "id": "9329a413",
   "metadata": {},
   "outputs": [
    {
     "name": "stdout",
     "output_type": "stream",
     "text": [
      "10 10.5 Jerry\n"
     ]
    }
   ],
   "source": [
    "# variables assignment\n",
    "x=10\n",
    "y=10.5\n",
    "z=\"Jerry\"\n",
    "\n",
    "print(x,y,z)"
   ]
  },
  {
   "cell_type": "code",
   "execution_count": 11,
   "id": "ca2950b3",
   "metadata": {},
   "outputs": [
    {
     "name": "stdout",
     "output_type": "stream",
     "text": [
      "10 10.5 jerry is\n"
     ]
    }
   ],
   "source": [
    "# multiple variable assignment (concise type)\n",
    "x,y,z=10,10.5,\"jerry is\"\n",
    "print(x,y,z)"
   ]
  },
  {
   "cell_type": "code",
   "execution_count": 12,
   "id": "8a8873af",
   "metadata": {},
   "outputs": [
    {
     "name": "stdout",
     "output_type": "stream",
     "text": [
      "10 10 10\n"
     ]
    }
   ],
   "source": [
    "#multiple assignment\n",
    "a=b=c=10\n",
    "print(a,b,c)"
   ]
  },
  {
   "cell_type": "markdown",
   "id": "db299156",
   "metadata": {},
   "source": [
    "## Memory Location"
   ]
  },
  {
   "cell_type": "code",
   "execution_count": 13,
   "id": "6668662e",
   "metadata": {},
   "outputs": [
    {
     "name": "stdout",
     "output_type": "stream",
     "text": [
      "140216228780336\n"
     ]
    }
   ],
   "source": [
    "# to find out the memory location of a variable\n",
    "x=1\n",
    "print(id(x))"
   ]
  },
  {
   "cell_type": "code",
   "execution_count": 14,
   "id": "6b33ad07",
   "metadata": {},
   "outputs": [
    {
     "name": "stdout",
     "output_type": "stream",
     "text": [
      "140216228780336\n"
     ]
    }
   ],
   "source": [
    "y=1\n",
    "print(id(y))"
   ]
  },
  {
   "cell_type": "code",
   "execution_count": 15,
   "id": "9de84697",
   "metadata": {},
   "outputs": [
    {
     "name": "stdout",
     "output_type": "stream",
     "text": [
      "140216228780304\n"
     ]
    }
   ],
   "source": [
    "y=0\n",
    "print(id(y))"
   ]
  },
  {
   "cell_type": "code",
   "execution_count": 16,
   "id": "cd228366",
   "metadata": {},
   "outputs": [
    {
     "name": "stdout",
     "output_type": "stream",
     "text": [
      "<class 'int'> <class 'float'>\n"
     ]
    }
   ],
   "source": [
    "a=5\n",
    "b=5.5\n",
    "print(type(a),type(b))"
   ]
  },
  {
   "cell_type": "code",
   "execution_count": 17,
   "id": "e45e08fa",
   "metadata": {},
   "outputs": [
    {
     "name": "stdout",
     "output_type": "stream",
     "text": [
      "<class 'complex'>\n",
      "True\n"
     ]
    }
   ],
   "source": [
    "a=1+2j\n",
    "print(type(a))\n",
    "print(isinstance(a, complex))"
   ]
  },
  {
   "cell_type": "code",
   "execution_count": 18,
   "id": "f563b908",
   "metadata": {},
   "outputs": [
    {
     "name": "stdout",
     "output_type": "stream",
     "text": [
      "<class 'bool'> <class 'bool'>\n"
     ]
    }
   ],
   "source": [
    "# Boolean variables\n",
    "a=True\n",
    "b=False\n",
    "print(type(a),type(b))\n"
   ]
  },
  {
   "cell_type": "code",
   "execution_count": 19,
   "id": "524ff059",
   "metadata": {},
   "outputs": [
    {
     "name": "stdout",
     "output_type": "stream",
     "text": [
      "jerry is the king\n",
      "<class 'str'>\n",
      "Jerry is the king \n",
      "alwasy\n",
      "25 <class 'str'>\n"
     ]
    }
   ],
   "source": [
    "a=\"jerry is the king\"\n",
    "print(a)\n",
    "print(type(a))\n",
    "\n",
    "# Multi line string\n",
    "b= \"\"\"Jerry is the king \n",
    "alwasy\"\"\"\n",
    "\n",
    "print(b)\n",
    "\n",
    "print(len(b),type(b))\n"
   ]
  },
  {
   "cell_type": "code",
   "execution_count": 20,
   "id": "dd87633c",
   "metadata": {},
   "outputs": [
    {
     "name": "stdout",
     "output_type": "stream",
     "text": [
      "jerry is the king\n",
      "j\n",
      "g\n"
     ]
    }
   ],
   "source": [
    "print(a)\n",
    "\n",
    "print(a[0])\n",
    "print(a[-1])"
   ]
  },
  {
   "cell_type": "code",
   "execution_count": 21,
   "id": "abd958b9",
   "metadata": {},
   "outputs": [
    {
     "name": "stdout",
     "output_type": "stream",
     "text": [
      "17\n"
     ]
    }
   ],
   "source": [
    "print(len(a))"
   ]
  },
  {
   "cell_type": "code",
   "execution_count": 22,
   "id": "a0ed3795",
   "metadata": {},
   "outputs": [
    {
     "name": "stdout",
     "output_type": "stream",
     "text": [
      "g\n"
     ]
    }
   ],
   "source": [
    "print(a[len(a)-1])"
   ]
  },
  {
   "cell_type": "code",
   "execution_count": 23,
   "id": "c250d0ba",
   "metadata": {},
   "outputs": [
    {
     "name": "stdout",
     "output_type": "stream",
     "text": [
      " is the king\n"
     ]
    }
   ],
   "source": [
    "# slicing of list\n",
    "print(a[5:])"
   ]
  },
  {
   "cell_type": "markdown",
   "id": "8b13c947",
   "metadata": {},
   "source": [
    "## List"
   ]
  },
  {
   "cell_type": "code",
   "execution_count": 24,
   "id": "806bef60",
   "metadata": {},
   "outputs": [
    {
     "name": "stdout",
     "output_type": "stream",
     "text": [
      "[5, 5.5, 'str']\n",
      "<class 'str'>\n",
      "3\n",
      "[6, 5.5, 'str']\n",
      "[6, 5.5, 'str', 123]\n",
      "[6, 5.5, 'str']\n"
     ]
    }
   ],
   "source": [
    "# list\n",
    "\n",
    "list=[5,5.5,\"str\"]\n",
    "print(list)\n",
    "list[1]\n",
    "list[2]\n",
    "print(type(list[2]))\n",
    "print(len(list))\n",
    "list[0]=6\n",
    "print(list)\n",
    "\n",
    "# add an item to the list\n",
    "list.append(123)\n",
    "print(list)\n",
    "\n",
    "#  remove an item from list\n",
    "list.pop(3)\n",
    "print(list)"
   ]
  },
  {
   "cell_type": "markdown",
   "id": "2ffe8688",
   "metadata": {},
   "source": [
    "## Tuple"
   ]
  },
  {
   "cell_type": "code",
   "execution_count": 25,
   "id": "420ea54f",
   "metadata": {},
   "outputs": [
    {
     "name": "stdout",
     "output_type": "stream",
     "text": [
      "1\n"
     ]
    }
   ],
   "source": [
    "# Tuple\n",
    "# You cannot add or delete an item from tuple\n",
    "c=(1,2,3,4,5)\n",
    "print(c[0])"
   ]
  },
  {
   "cell_type": "markdown",
   "id": "91dc2141",
   "metadata": {},
   "source": [
    "## Dictionary"
   ]
  },
  {
   "cell_type": "code",
   "execution_count": 26,
   "id": "f779959f",
   "metadata": {},
   "outputs": [
    {
     "name": "stdout",
     "output_type": "stream",
     "text": [
      "{1, 2, 3, 4, 5, 6}\n"
     ]
    }
   ],
   "source": [
    "# Python set\n",
    "# Set is an unordered collection of items\n",
    "d={1,2,3,4,5,6,6,6,6,6,6,6}\n",
    "print(d)\n",
    "\n",
    "# cannot access the item from a set as its unordered --- print(d[1])\n",
    "# Set doesn't show repeated items"
   ]
  },
  {
   "cell_type": "markdown",
   "id": "98ba1752",
   "metadata": {},
   "source": [
    "## Dictionary"
   ]
  },
  {
   "cell_type": "code",
   "execution_count": 27,
   "id": "f33472b9",
   "metadata": {},
   "outputs": [
    {
     "name": "stdout",
     "output_type": "stream",
     "text": [
      "laught\n",
      "sorrow\n"
     ]
    }
   ],
   "source": [
    "# Dictionary\n",
    "\n",
    "Dict={\"smile\":\"laught\", \"cry\":\"sorrow\", \"key\":\"value\"}\n",
    "print(Dict[\"smile\"])\n",
    "print(Dict[\"cry\"])"
   ]
  },
  {
   "cell_type": "code",
   "execution_count": 28,
   "id": "fe0e0c50",
   "metadata": {},
   "outputs": [
    {
     "name": "stdout",
     "output_type": "stream",
     "text": [
      "true\n"
     ]
    }
   ],
   "source": [
    "if True:\n",
    "    print(\"true\")"
   ]
  },
  {
   "cell_type": "code",
   "execution_count": 29,
   "id": "a843309c",
   "metadata": {},
   "outputs": [
    {
     "data": {
      "text/plain": [
       "'5'"
      ]
     },
     "execution_count": 29,
     "metadata": {},
     "output_type": "execute_result"
    }
   ],
   "source": [
    "float(5)\n",
    "int(5.5)\n",
    "str(5)"
   ]
  },
  {
   "cell_type": "code",
   "execution_count": 30,
   "id": "a0973b1f",
   "metadata": {},
   "outputs": [
    {
     "data": {
      "text/plain": [
       "10"
      ]
     },
     "execution_count": 30,
     "metadata": {},
     "output_type": "execute_result"
    }
   ],
   "source": [
    " int('10')"
   ]
  },
  {
   "cell_type": "code",
   "execution_count": 31,
   "id": "6076b66d",
   "metadata": {},
   "outputs": [
    {
     "name": "stdout",
     "output_type": "stream",
     "text": [
      "jerry is the king3\n"
     ]
    }
   ],
   "source": [
    "b=3\n",
    "print(str(a)+str(b))"
   ]
  },
  {
   "cell_type": "code",
   "execution_count": 32,
   "id": "43e7d7dd",
   "metadata": {},
   "outputs": [
    {
     "name": "stdout",
     "output_type": "stream",
     "text": [
      "The user Jerry wrote 100 lines of code\n"
     ]
    }
   ],
   "source": [
    "user=\"Jerry\"\n",
    "lines=100\n",
    "print(\"The user \"+ user+ \" wrote \"+ str(lines) + \" lines of code\")"
   ]
  },
  {
   "cell_type": "code",
   "execution_count": 33,
   "id": "8b5358c3",
   "metadata": {},
   "outputs": [
    {
     "name": "stdout",
     "output_type": "stream",
     "text": [
      "Jerry\n"
     ]
    }
   ],
   "source": [
    "print(user)"
   ]
  },
  {
   "cell_type": "code",
   "execution_count": 34,
   "id": "42f77b7f",
   "metadata": {},
   "outputs": [
    {
     "data": {
      "text/plain": [
       "{'J', 'e', 'r', 'y'}"
      ]
     },
     "execution_count": 34,
     "metadata": {},
     "output_type": "execute_result"
    }
   ],
   "source": [
    "set(user)"
   ]
  },
  {
   "cell_type": "code",
   "execution_count": 35,
   "id": "cd3199cf",
   "metadata": {},
   "outputs": [
    {
     "data": {
      "text/plain": [
       "str"
      ]
     },
     "execution_count": 35,
     "metadata": {},
     "output_type": "execute_result"
    }
   ],
   "source": [
    "type(user)"
   ]
  },
  {
   "cell_type": "code",
   "execution_count": 36,
   "id": "8be018ca",
   "metadata": {},
   "outputs": [
    {
     "name": "stdout",
     "output_type": "stream",
     "text": [
      "Jerry\n"
     ]
    }
   ],
   "source": [
    "print(user)"
   ]
  },
  {
   "cell_type": "code",
   "execution_count": 37,
   "id": "6de98dfd",
   "metadata": {},
   "outputs": [
    {
     "name": "stdout",
     "output_type": "stream",
     "text": [
      "{'e', 'y', 'J', 'r'}\n"
     ]
    }
   ],
   "source": [
    "print(set(user))"
   ]
  },
  {
   "cell_type": "code",
   "execution_count": 38,
   "id": "86ad4ad3",
   "metadata": {},
   "outputs": [
    {
     "name": "stdout",
     "output_type": "stream",
     "text": [
      "hello\n",
      "the value of r and t is 2, 20\n",
      "the value of r and t is 20, 2\n",
      "the value of r and t is 20, 2 and the name is jerry\n"
     ]
    }
   ],
   "source": [
    "# Standard  Output and its formatting\n",
    "print(\"hello\")\n",
    "r=2;t=20;y=\"jerry\"\n",
    "print(\"the value of r and t is {}, {}\".format(r,t))\n",
    "print(\"the value of r and t is {1}, {0}\".format(r,t))\n",
    "print(\"the value of r and t is {1}, {0} and the name is {y}\".format(r,t,y=\"jerry\"))"
   ]
  },
  {
   "cell_type": "code",
   "execution_count": 39,
   "id": "cae7ace7",
   "metadata": {},
   "outputs": [
    {
     "name": "stdout",
     "output_type": "stream",
     "text": [
      "1\n",
      "1.0\n"
     ]
    }
   ],
   "source": [
    "# standard input\n",
    "number=int(input(\"enter a number\"))\n",
    "print(number)\n",
    "print(float(number))"
   ]
  },
  {
   "cell_type": "code",
   "execution_count": 40,
   "id": "b36c1d4e",
   "metadata": {},
   "outputs": [
    {
     "name": "stdout",
     "output_type": "stream",
     "text": [
      "True\n",
      "True\n",
      "True\n",
      "True\n",
      "False\n"
     ]
    }
   ],
   "source": [
    "# operators\n",
    "print(5<10)\n",
    "print(5==5)\n",
    "print(4<5)\n",
    "print(5!=4)\n",
    "print(5<4 and 5<3)"
   ]
  },
  {
   "cell_type": "code",
   "execution_count": 41,
   "id": "a419ad91",
   "metadata": {},
   "outputs": [
    {
     "name": "stdout",
     "output_type": "stream",
     "text": [
      "0\n"
     ]
    }
   ],
   "source": [
    "a=100\n",
    "a%=10\n",
    "print(a)"
   ]
  },
  {
   "cell_type": "code",
   "execution_count": 42,
   "id": "b3e6f135",
   "metadata": {},
   "outputs": [
    {
     "name": "stdout",
     "output_type": "stream",
     "text": [
      "2\n",
      "1\n",
      "-2\n"
     ]
    }
   ],
   "source": [
    "b=17\n",
    "b%=3\n",
    "print(b)\n",
    "\n",
    "print(3//2)\n",
    "print(-3//2)"
   ]
  },
  {
   "cell_type": "markdown",
   "id": "fef982b3",
   "metadata": {},
   "source": [
    "## Location allocation"
   ]
  },
  {
   "cell_type": "code",
   "execution_count": 43,
   "id": "aca9b8da",
   "metadata": {},
   "outputs": [
    {
     "name": "stdout",
     "output_type": "stream",
     "text": [
      "True\n",
      "True\n",
      "True\n"
     ]
    }
   ],
   "source": [
    "# same memory location is given to simple variables\n",
    "a=5\n",
    "b=5\n",
    "print(a is b)\n",
    "\n",
    "n1=\"jerry\"\n",
    "n2=\"jerry\"\n",
    "\n",
    "print(n1 is n2)\n",
    "print(n1==n2)"
   ]
  },
  {
   "cell_type": "code",
   "execution_count": 44,
   "id": "13bfaf2b",
   "metadata": {},
   "outputs": [
    {
     "name": "stdout",
     "output_type": "stream",
     "text": [
      "False\n",
      "False\n"
     ]
    }
   ],
   "source": [
    "# same memory location cannot be given to complex variables\n",
    "list1=[2,3,4]\n",
    "list2=[3,4,5]\n",
    "print(list1 is list2)\n",
    "print(list1==list2)"
   ]
  },
  {
   "cell_type": "markdown",
   "id": "310f94cc",
   "metadata": {},
   "source": [
    "## Dictionary"
   ]
  },
  {
   "cell_type": "code",
   "execution_count": 45,
   "id": "c4bbcb60",
   "metadata": {},
   "outputs": [
    {
     "name": "stdout",
     "output_type": "stream",
     "text": [
      "True\n",
      "False\n",
      "a\n",
      "c\n",
      "ac\n",
      "True\n",
      "False\n"
     ]
    }
   ],
   "source": [
    "dict_1={1:\"a\",2:\"b\",3:\"c\"}\n",
    "print(1 in dict_1)\n",
    "print(a in dict_1)\n",
    "\n",
    "# Acessing the dictionary\n",
    "print(dict_1[1])\n",
    "print(dict_1[3])\n",
    "print(dict_1[1]+dict_1[3])\n",
    "\n",
    "print(2 in dict_1)\n",
    "print('b' in dict_1) # only look for the key"
   ]
  },
  {
   "cell_type": "markdown",
   "id": "892a3023",
   "metadata": {},
   "source": [
    "## if, elif and else"
   ]
  },
  {
   "cell_type": "code",
   "execution_count": 46,
   "id": "0bcb07ce",
   "metadata": {},
   "outputs": [
    {
     "name": "stdout",
     "output_type": "stream",
     "text": [
      "outside the loop\n"
     ]
    }
   ],
   "source": [
    "# if flow statement (0, None and False)\n",
    "\n",
    "num=0\n",
    "if num:\n",
    "    print(\"jerry\")\n",
    "print(\"outside the loop\")\n",
    "\n",
    "if None:\n",
    "    print(\"jerry\")\n",
    "\n",
    "if 0:\n",
    "    print(\"jerry\")"
   ]
  },
  {
   "cell_type": "code",
   "execution_count": 47,
   "id": "5521a59a",
   "metadata": {},
   "outputs": [
    {
     "name": "stdout",
     "output_type": "stream",
     "text": [
      "x is equal to zero\n"
     ]
    }
   ],
   "source": [
    "x=0\n",
    "if x>0:\n",
    "    print(\"x is not greater than zero\")\n",
    "elif x<0:\n",
    "    print(\"x is not less than zero\")\n",
    "else:\n",
    "    print(\"x is equal to zero\")"
   ]
  },
  {
   "cell_type": "code",
   "execution_count": 48,
   "id": "432c0492",
   "metadata": {},
   "outputs": [
    {
     "name": "stdout",
     "output_type": "stream",
     "text": [
      "x is a positive number\n"
     ]
    }
   ],
   "source": [
    "# nested if example\n",
    "\n",
    "x=int(input(\"enter a number \"))\n",
    "if x>=0:\n",
    "    if x==0:\n",
    "        print(\"x is equal to zero\")\n",
    "    else:\n",
    "        print(\"x is a positive number\")\n",
    "else:\n",
    "    print(\"x is a negative number\")"
   ]
  },
  {
   "cell_type": "code",
   "execution_count": 49,
   "id": "6c51faf9",
   "metadata": {},
   "outputs": [
    {
     "name": "stdout",
     "output_type": "stream",
     "text": [
      "num3:1 is the greatest\n"
     ]
    }
   ],
   "source": [
    "# find the largest of three numbers\n",
    "\n",
    "num1=int(input(\"enter the number 1 \"))\n",
    "num2=int(input(\"enter the number 2 \"))\n",
    "num3=int(input(\"enter the number 3 \"))\n",
    "\n",
    "if num1>num2 and num1>num3:\n",
    "    print(\"num1:{} is the greatest \".format(num1))\n",
    "elif num2>num1 and num2>num3:\n",
    "    print(\"num2:{} is the greatest \".format(num2))\n",
    "else:\n",
    "    print(\"num3:{} is the greatest\".format(num3))"
   ]
  },
  {
   "cell_type": "code",
   "execution_count": 50,
   "id": "20664a97",
   "metadata": {},
   "outputs": [
    {
     "name": "stdout",
     "output_type": "stream",
     "text": [
      "jerry the king 1\n",
      "jerry the king 2\n",
      "jerry the king 3\n",
      "jerry the king 4\n",
      "jerry the king 5\n",
      "jerry the king 6\n",
      "jerry the king 7\n",
      "jerry the king 8\n",
      "jerry the king 9\n",
      "jerry the king 10\n"
     ]
    }
   ],
   "source": [
    "# while loop\n",
    "\n",
    "x=int(input(\"enter a number \"))\n",
    "while x<=10:\n",
    "    print(\"jerry the king {}\".format(x))\n",
    "    x=x+1"
   ]
  },
  {
   "cell_type": "code",
   "execution_count": 51,
   "id": "a033e21e",
   "metadata": {},
   "outputs": [
    {
     "name": "stdout",
     "output_type": "stream",
     "text": [
      "1\n"
     ]
    }
   ],
   "source": [
    "# product of numbers in a list\n",
    "num_list=[1,2,3,4,5,6,7]\n",
    "product=1\n",
    "while i<len(num_list):\n",
    "    product=product*num_list[i]\n",
    "    i=i+1\n",
    "print(product)"
   ]
  },
  {
   "cell_type": "code",
   "execution_count": 52,
   "id": "bbdb18a6",
   "metadata": {},
   "outputs": [
    {
     "ename": "TypeError",
     "evalue": "'list' object is not callable",
     "output_type": "error",
     "traceback": [
      "\u001b[0;31m---------------------------------------------------------------------------\u001b[0m",
      "\u001b[0;31mTypeError\u001b[0m                                 Traceback (most recent call last)",
      "\u001b[0;32m/var/folders/rp/8sq6h5px3mg90rq964p20c_00000gn/T/ipykernel_9420/3043177956.py\u001b[0m in \u001b[0;36m<module>\u001b[0;34m\u001b[0m\n\u001b[0;32m----> 1\u001b[0;31m \u001b[0mlist1\u001b[0m\u001b[0;34m=\u001b[0m\u001b[0mlist\u001b[0m\u001b[0;34m(\u001b[0m\u001b[0minput\u001b[0m\u001b[0;34m(\u001b[0m\u001b[0;34m\"enter the list of items \"\u001b[0m\u001b[0;34m)\u001b[0m\u001b[0;34m)\u001b[0m\u001b[0;34m\u001b[0m\u001b[0;34m\u001b[0m\u001b[0m\n\u001b[0m\u001b[1;32m      2\u001b[0m \u001b[0mprint\u001b[0m\u001b[0;34m(\u001b[0m\u001b[0mlist1\u001b[0m\u001b[0;34m)\u001b[0m\u001b[0;34m\u001b[0m\u001b[0;34m\u001b[0m\u001b[0m\n",
      "\u001b[0;31mTypeError\u001b[0m: 'list' object is not callable"
     ]
    }
   ],
   "source": [
    "list1=list(input(\"enter the list of items \"))\n",
    "print(list1)"
   ]
  },
  {
   "cell_type": "code",
   "execution_count": null,
   "id": "faa89a38",
   "metadata": {},
   "outputs": [
    {
     "name": "stdout",
     "output_type": "stream",
     "text": [
      "[1, 2, 3, 4, 5, 6, 7]\n",
      "1\n",
      "2\n",
      "3\n",
      "4\n",
      "5\n",
      "6\n",
      "7\n",
      "end of loop\n"
     ]
    }
   ],
   "source": [
    "print(num_list)\n",
    "\n",
    "index=0\n",
    "while index<len(num_list):\n",
    "    print(num_list[index])\n",
    "    index+=1\n",
    "print(\"end of loop\")"
   ]
  },
  {
   "cell_type": "code",
   "execution_count": null,
   "id": "d44fac81",
   "metadata": {},
   "outputs": [
    {
     "name": "stdout",
     "output_type": "stream",
     "text": [
      "enter the number 12\n",
      "the given number is prime\n"
     ]
    }
   ],
   "source": [
    "number=int(input(\"enter the number \"))\n",
    "prime=True\n",
    "i=2\n",
    "while i<number:\n",
    "    if i%number==0:\n",
    "        prime=False\n",
    "        print(\"{} is divisible by {}\".format(number, i))\n",
    "    i=i+1\n",
    "if prime:\n",
    "    print(\"the given number is prime\")\n",
    "else:\n",
    "    print(\"the given number is not a prime number\")"
   ]
  },
  {
   "cell_type": "code",
   "execution_count": null,
   "id": "15e812e0",
   "metadata": {},
   "outputs": [
    {
     "name": "stdout",
     "output_type": "stream",
     "text": [
      "5040\n"
     ]
    }
   ],
   "source": [
    "num_list\n",
    "prod=1\n",
    "for element in num_list:\n",
    "    prod*=element\n",
    "print(prod)"
   ]
  },
  {
   "cell_type": "code",
   "execution_count": null,
   "id": "69ad88ad",
   "metadata": {},
   "outputs": [
    {
     "name": "stdout",
     "output_type": "stream",
     "text": [
      "0\n",
      "2\n",
      "4\n",
      "6\n",
      "8\n",
      "10\n",
      "12\n",
      "14\n",
      "16\n",
      "18\n"
     ]
    }
   ],
   "source": [
    "for i in range(10):\n",
    "    print (i+i)"
   ]
  },
  {
   "cell_type": "code",
   "execution_count": null,
   "id": "0471a89f",
   "metadata": {},
   "outputs": [
    {
     "name": "stdout",
     "output_type": "stream",
     "text": [
      "0\n",
      "2\n",
      "4\n",
      "6\n",
      "8\n"
     ]
    }
   ],
   "source": [
    "# range(start, end, step)\n",
    "\n",
    "for i in range(0,10,2):\n",
    "    print(i)"
   ]
  },
  {
   "cell_type": "code",
   "execution_count": null,
   "id": "9b5754fc",
   "metadata": {},
   "outputs": [
    {
     "name": "stdout",
     "output_type": "stream",
     "text": [
      "satish\n",
      "mahesh\n",
      "kamesh\n",
      "veeresh\n",
      "hanumesh\n"
     ]
    }
   ],
   "source": [
    "list1=[\"satish\", \"mahesh\", \"kamesh\", \"veeresh\", \"hanumesh\"]\n",
    "\n",
    "for name in list1:\n",
    "    print(name)"
   ]
  },
  {
   "cell_type": "code",
   "execution_count": null,
   "id": "3ad7d357",
   "metadata": {},
   "outputs": [
    {
     "name": "stdout",
     "output_type": "stream",
     "text": [
      "satish\n",
      "mahesh\n",
      "kamesh\n",
      "veeresh\n",
      "hanumesh\n"
     ]
    }
   ],
   "source": [
    "# using range function to extract elements from a list\n",
    "for name in range(len(list1)):\n",
    "    print(list1[name])"
   ]
  },
  {
   "cell_type": "code",
   "execution_count": null,
   "id": "51a480c2",
   "metadata": {},
   "outputs": [
    {
     "name": "stdout",
     "output_type": "stream",
     "text": [
      "0\n",
      "1\n",
      "2\n",
      "3\n",
      "4\n",
      "5\n",
      "6\n",
      "7\n",
      "no element is left in the list\n"
     ]
    }
   ],
   "source": [
    "# else in for loop\n",
    "\n",
    "num_list=[0,1,2,3,4,5,6,7]\n",
    "\n",
    "for element in num_list:\n",
    "    print(element)\n",
    "else:\n",
    "    print(\"no element is left in the list\")"
   ]
  },
  {
   "cell_type": "code",
   "execution_count": null,
   "id": "06baa4de",
   "metadata": {},
   "outputs": [
    {
     "name": "stdout",
     "output_type": "stream",
     "text": [
      "the prime numbers between 10 and 100 are \n",
      "11\n",
      "13\n",
      "17\n",
      "19\n",
      "23\n",
      "29\n",
      "31\n",
      "37\n",
      "41\n",
      "43\n",
      "47\n",
      "53\n",
      "59\n",
      "61\n",
      "67\n",
      "71\n",
      "73\n",
      "79\n",
      "83\n",
      "89\n",
      "97\n"
     ]
    }
   ],
   "source": [
    "num1=10\n",
    "num2=100\n",
    "print(\"the prime numbers between {} and {} are \".format(num1, num2))\n",
    "for num in range(num1,num2+1):\n",
    "    if num>1:\n",
    "        prime=True\n",
    "        for index in range (2, num):\n",
    "            if num%index==0:\n",
    "                prime=False\n",
    "        if prime:\n",
    "            print(num)"
   ]
  },
  {
   "cell_type": "code",
   "execution_count": null,
   "id": "fd0453a1",
   "metadata": {},
   "outputs": [
    {
     "name": "stdout",
     "output_type": "stream",
     "text": [
      "0\n",
      "1\n",
      "2\n",
      "3\n",
      "4\n",
      "5\n",
      "6\n",
      "7\n",
      "8\n",
      "9\n",
      "10\n",
      "11\n",
      "12\n",
      "13\n",
      "14\n",
      "15\n",
      "16\n",
      "17\n",
      "18\n",
      "19\n",
      "20\n",
      "21\n",
      "22\n",
      "23\n",
      "24\n",
      "25\n",
      "26\n",
      "27\n",
      "28\n",
      "29\n",
      "30\n",
      "31\n",
      "32\n",
      "33\n",
      "34\n",
      "35\n",
      "36\n",
      "37\n",
      "38\n",
      "39\n",
      "40\n",
      "41\n",
      "42\n",
      "43\n",
      "44\n",
      "45\n",
      "46\n",
      "47\n",
      "48\n",
      "49\n",
      "50\n",
      "inside the while loop\n",
      "outside the while loop\n"
     ]
    }
   ],
   "source": [
    "i=0\n",
    "while (i<100):\n",
    "    print(i)\n",
    "    i=i+1\n",
    "    if i==50+1:\n",
    "        print(\"inside the while loop\")\n",
    "        break\n",
    "print(\"outside the while loop\")"
   ]
  },
  {
   "cell_type": "code",
   "execution_count": null,
   "id": "a87b017f",
   "metadata": {},
   "outputs": [
    {
     "name": "stdout",
     "output_type": "stream",
     "text": [
      "0\n",
      "1\n",
      "2\n",
      "3\n",
      "4\n",
      "5\n",
      "until 5\n",
      "outside for looop\n"
     ]
    }
   ],
   "source": [
    "lis2=[0,1,2,3,4,5,6]\n",
    "for num in lis2:\n",
    "    print(num)\n",
    "    if num==5:\n",
    "        print(\"until 5\")\n",
    "        break\n",
    "print(\"outside for looop\")"
   ]
  },
  {
   "cell_type": "code",
   "execution_count": null,
   "id": "2ed6a029",
   "metadata": {},
   "outputs": [
    {
     "name": "stdout",
     "output_type": "stream",
     "text": [
      "enter the number 6\n",
      "the number is not a prime number\n"
     ]
    }
   ],
   "source": [
    "# programme to check whether a given number is prime or not\n",
    "\n",
    "num=int(input(\"enter the number \"))\n",
    "\n",
    "i=2\n",
    "prime=True\n",
    "while i<num:\n",
    "    if num%i==0:\n",
    "        prime = False\n",
    "        break\n",
    "    i+=1\n",
    "if prime:\n",
    "    print(\"the number is a prime number\")\n",
    "else:\n",
    "    print(\"the number is not a prime number\")"
   ]
  },
  {
   "cell_type": "code",
   "execution_count": null,
   "id": "d2472442",
   "metadata": {},
   "outputs": [
    {
     "name": "stdout",
     "output_type": "stream",
     "text": [
      "2\n",
      "4\n",
      "6\n"
     ]
    }
   ],
   "source": [
    "# print the odd numbers in a given list\n",
    "list1=[1,2,3,4,5,6,7,9,11]\n",
    "\n",
    "for number in list1:\n",
    "    if number%2==0:\n",
    "        continue\n",
    "    print(number)"
   ]
  },
  {
   "cell_type": "markdown",
   "id": "d3ebb060",
   "metadata": {},
   "source": [
    "## Lists and its operations"
   ]
  },
  {
   "cell_type": "code",
   "execution_count": null,
   "id": "b8596f1d",
   "metadata": {},
   "outputs": [
    {
     "name": "stdout",
     "output_type": "stream",
     "text": [
      "[1, 1.5, 'shh', '*']\n"
     ]
    }
   ],
   "source": [
    "# LISTS\n",
    "\n",
    "#empty list\n",
    "lis1=[] \n",
    "\n",
    "#integer list\n",
    "lis2=[1,2,3,4,5]\n",
    "\n",
    "#list of lists\n",
    "lis3=[[1,2],[2,3],[5,6]] \n",
    "\n",
    "#list containing different datatypes\n",
    "lis4=[1,1.5,\"shh\",\"*\"]\n",
    "\n",
    "print(lis4)"
   ]
  },
  {
   "cell_type": "code",
   "execution_count": null,
   "id": "d982fd65",
   "metadata": {},
   "outputs": [
    {
     "name": "stdout",
     "output_type": "stream",
     "text": [
      "[10, 9, 8, 7, 6]\n",
      "[10, 9, 8, 7]\n",
      "[10, 9, 8, 7, 6]\n"
     ]
    }
   ],
   "source": [
    "lis2=[10,9,8,7]\n",
    "\n",
    "lis2.append(6)\n",
    "print(lis2)\n",
    "\n",
    "lis2.remove(6)\n",
    "print(lis2)\n",
    "\n",
    "lis2.insert(4,6)\n",
    "print(lis2)\n",
    "\n"
   ]
  },
  {
   "cell_type": "code",
   "execution_count": null,
   "id": "d074f9a2",
   "metadata": {},
   "outputs": [
    {
     "name": "stdout",
     "output_type": "stream",
     "text": [
      "[1, 2, 3, 4, [9, 8, 7, 6, 5]]\n"
     ]
    }
   ],
   "source": [
    "# appending two lists\n",
    "lis1=[1,2,3,4]\n",
    "lis2=[9,8,7,6,5]\n",
    "\n",
    "lis1.append(lis2)\n",
    "print(lis1)"
   ]
  },
  {
   "cell_type": "code",
   "execution_count": null,
   "id": "b7917bb9",
   "metadata": {},
   "outputs": [
    {
     "name": "stdout",
     "output_type": "stream",
     "text": [
      "[1, 2, 3, 4, 9, 8, 7, 6, 5]\n"
     ]
    }
   ],
   "source": [
    "# extending two lists\n",
    "\n",
    "lis1=[1,2,3,4]\n",
    "lis2=[9,8,7,6,5]\n",
    "lis1.extend(lis2)\n",
    "print(lis1)"
   ]
  },
  {
   "cell_type": "code",
   "execution_count": null,
   "id": "fb06cacb",
   "metadata": {},
   "outputs": [
    {
     "name": "stdout",
     "output_type": "stream",
     "text": [
      "[1, 2, 3, 4]\n",
      "[2, 3, 4]\n",
      "3\n",
      "[2, 4]\n"
     ]
    }
   ],
   "source": [
    "lis1=[1,2,3,4]\n",
    "print(lis1)\n",
    "\n",
    "# use of del in a list\n",
    "del lis1[0] #deletes item in a list at particular location\n",
    "print(lis1)\n",
    "\n",
    "# use of pop \n",
    "removed_item=lis1.pop(1)\n",
    "print(removed_item)\n",
    "print(lis1)"
   ]
  },
  {
   "cell_type": "code",
   "execution_count": null,
   "id": "e125c3b9",
   "metadata": {},
   "outputs": [
    {
     "name": "stdout",
     "output_type": "stream",
     "text": [
      "['l', 'm', 'n']\n",
      "['m', 'n']\n"
     ]
    }
   ],
   "source": [
    "# use of remove function in a list\n",
    "\n",
    "lis4=[\"k\",\"l\",\"m\",\"n\"]\n",
    "lis4.remove(\"k\")\n",
    "print(lis4)\n",
    "lis4.remove(\"l\")\n",
    "print(lis4)"
   ]
  },
  {
   "cell_type": "code",
   "execution_count": null,
   "id": "3681106d",
   "metadata": {},
   "outputs": [
    {
     "name": "stdout",
     "output_type": "stream",
     "text": [
      "[8, 7, 6, 5, 4, 3, 2, 1, 0]\n",
      "[0, 1, 2, 3, 4, 5, 6, 7, 8]\n"
     ]
    }
   ],
   "source": [
    "lis5=[0,1,2,3,4,5,6,7,8]\n",
    "\n",
    "# use of reverse function\n",
    "lis5.reverse()\n",
    "print(lis5)\n",
    "\n",
    "# use of sort function\n",
    "lis5.sort()\n",
    "print(lis5)\n"
   ]
  },
  {
   "cell_type": "code",
   "execution_count": null,
   "id": "931e3171",
   "metadata": {},
   "outputs": [
    {
     "name": "stdout",
     "output_type": "stream",
     "text": [
      "[6, 5, 5, 4, 3, 2, 1]\n"
     ]
    }
   ],
   "source": [
    "lis6=[2,5,1,4,5,6,3]\n",
    "lis6.sort(reverse=True)\n",
    "print(lis6)"
   ]
  },
  {
   "cell_type": "markdown",
   "id": "b4ef0939",
   "metadata": {},
   "source": [
    "## Splitting the string by a character"
   ]
  },
  {
   "cell_type": "code",
   "execution_count": null,
   "id": "50f5c9da",
   "metadata": {},
   "outputs": [
    {
     "name": "stdout",
     "output_type": "stream",
     "text": [
      "['jerry', 'is', 'the', 'king']\n",
      "['time', 'is', 'money']\n"
     ]
    }
   ],
   "source": [
    "abc=\"jerry_is_the_king\"\n",
    "x=abc.split(\"_\")\n",
    "print(x)\n",
    "\n",
    "cba=\"time.is.money\"\n",
    "y=cba.split('.')\n",
    "print(y)"
   ]
  },
  {
   "cell_type": "code",
   "execution_count": null,
   "id": "6b8bab76",
   "metadata": {},
   "outputs": [
    {
     "name": "stdout",
     "output_type": "stream",
     "text": [
      "[0, 1, 2, 3, 4, 5, 6, 7, 8, 9, 10]\n",
      "[1, 3, 5, 7, 9]\n",
      "[0, 2, 4, 6, 8, 10]\n"
     ]
    }
   ],
   "source": [
    "lis1=[0,1,2,3,4,5,6,7,8,9,10]\n",
    "\n",
    "print(lis1[:])\n",
    "print(lis1[1:10:2])\n",
    "print(lis1[::2])                 # list[start position: end position: step size]"
   ]
  },
  {
   "cell_type": "code",
   "execution_count": null,
   "id": "cf776069",
   "metadata": {},
   "outputs": [
    {
     "name": "stdout",
     "output_type": "stream",
     "text": [
      "[0, 1, 2, 3, 4, 5, 6, 7, 8, 9, 10, 'tom', 'dick', 'harry']\n"
     ]
    }
   ],
   "source": [
    "# concatenation of lists\n",
    "\n",
    "lis2=[\"tom\", \"dick\", \"harry\"]\n",
    "lis3=lis1+lis2\n",
    "\n",
    "print(lis3)\n"
   ]
  },
  {
   "cell_type": "code",
   "execution_count": null,
   "id": "dc56caad",
   "metadata": {},
   "outputs": [
    {
     "name": "stdout",
     "output_type": "stream",
     "text": [
      "[0, 1, 2, 3, 4, 5, 6, 7, 8, 9, 10]\n",
      "1\n"
     ]
    }
   ],
   "source": [
    "print(lis1)\n",
    "print(lis1.count(1)) #count function to determine the frequency of item in a list\n"
   ]
  },
  {
   "cell_type": "code",
   "execution_count": null,
   "id": "7b4bdf4c",
   "metadata": {},
   "outputs": [
    {
     "name": "stdout",
     "output_type": "stream",
     "text": [
      "[0, 1, 2, 3, 4, 5, 6, 7, 8, 9, 10]\n",
      "0\n",
      "1\n",
      "2\n",
      "3\n",
      "4\n",
      "5\n",
      "6\n",
      "7\n",
      "8\n",
      "9\n",
      "10\n"
     ]
    }
   ],
   "source": [
    "# looping through a list\n",
    "\n",
    "print(lis1)\n",
    "for each_ele in lis1:\n",
    "    print(each_ele)"
   ]
  },
  {
   "cell_type": "code",
   "execution_count": null,
   "id": "b91272c7",
   "metadata": {},
   "outputs": [
    {
     "name": "stdout",
     "output_type": "stream",
     "text": [
      "[0]\n",
      "[0, 1]\n",
      "[0, 1, 2]\n",
      "[0, 1, 2, 3]\n",
      "[0, 1, 2, 3, 4]\n",
      "[0, 1, 2, 3, 4, 5]\n",
      "[0, 1, 2, 3, 4, 5, 6]\n",
      "[0, 1, 2, 3, 4, 5, 6, 7]\n",
      "[0, 1, 2, 3, 4, 5, 6, 7, 8]\n",
      "[0, 1, 2, 3, 4, 5, 6, 7, 8, 9]\n"
     ]
    }
   ],
   "source": [
    "# list comprehensions using c/c++ style\n",
    "\n",
    "intlist=[]\n",
    "for i in range(10):\n",
    "    intlist.append(i)\n",
    "    print(intlist)"
   ]
  },
  {
   "cell_type": "code",
   "execution_count": null,
   "id": "711ad1d5",
   "metadata": {},
   "outputs": [
    {
     "name": "stdout",
     "output_type": "stream",
     "text": [
      "[0]\n",
      "[0, 1]\n",
      "[0, 1, 4]\n",
      "[0, 1, 4, 9]\n",
      "[0, 1, 4, 9, 16]\n",
      "[0, 1, 4, 9, 16, 25]\n",
      "[0, 1, 4, 9, 16, 25, 36]\n",
      "[0, 1, 4, 9, 16, 25, 36, 49]\n",
      "[0, 1, 4, 9, 16, 25, 36, 49, 64]\n",
      "[0, 1, 4, 9, 16, 25, 36, 49, 64, 81]\n"
     ]
    }
   ],
   "source": [
    "squarelist=[]\n",
    "for i in range (10):\n",
    "    squarelist.append(i*i)\n",
    "    print(squarelist)"
   ]
  },
  {
   "cell_type": "code",
   "execution_count": null,
   "id": "3298887e",
   "metadata": {},
   "outputs": [
    {
     "name": "stdout",
     "output_type": "stream",
     "text": [
      "[0, 1, 4, 9, 16, 25, 36, 49, 64, 81]\n",
      "[0, 1, 8, 27, 64, 125, 216, 343, 512, 729]\n"
     ]
    }
   ],
   "source": [
    "# lists comprehensions using python style\n",
    "\n",
    "square_list=[i**2 for i in range (10)]\n",
    "print(square_list)\n",
    "\n",
    "cube_list=[i**3 for i in range (10)]\n",
    "print(cube_list)"
   ]
  },
  {
   "cell_type": "code",
   "execution_count": null,
   "id": "ace35a13",
   "metadata": {},
   "outputs": [
    {
     "name": "stdout",
     "output_type": "stream",
     "text": [
      "[1, 2, 3, 4, 5, 6, 7, 9, 11]\n",
      "[4, 8, 12]\n"
     ]
    }
   ],
   "source": [
    "print(list1)\n",
    "nlist1=[i*2 for i in list1 if i%2==0]\n",
    "print(nlist1)"
   ]
  },
  {
   "cell_type": "code",
   "execution_count": null,
   "id": "d00b370b",
   "metadata": {},
   "outputs": [
    {
     "name": "stdout",
     "output_type": "stream",
     "text": [
      "[1, 2, 3, 4, 5, 6, 7, 9, 11]\n",
      "[1, 3, 5, 7, 9, 11]\n"
     ]
    }
   ],
   "source": [
    "print(list1)\n",
    "oddnum_list=[i for i in list1 if i%2!=0]\n",
    "print(oddnum_list)"
   ]
  },
  {
   "cell_type": "code",
   "execution_count": null,
   "id": "46480e16",
   "metadata": {},
   "outputs": [
    {
     "name": "stdout",
     "output_type": "stream",
     "text": [
      "[(1, 0), (1, 1), (1, 2), (1, 3), (1, 4), (1, 5), (1, 6), (1, 7), (1, 8), (1, 9)]\n"
     ]
    }
   ],
   "source": [
    "# create tuples from range\n",
    "\n",
    "tup=[(1,i) for i in range(10)]\n",
    "print(tup)"
   ]
  },
  {
   "cell_type": "code",
   "execution_count": null,
   "id": "f05136b1",
   "metadata": {},
   "outputs": [
    {
     "name": "stdout",
     "output_type": "stream",
     "text": [
      "[[1, 2, 3, 4], [5, 6, 7, 8], [9, 10, 11, 12]]\n",
      "[[1, 5, 9], [2, 6, 10], [3, 7, 11], [4, 8, 12]]\n"
     ]
    }
   ],
   "source": [
    "matrix=[[1,2,3,4],[5,6,7,8],[9,10,11,12]]\n",
    "print(matrix)\n",
    "transpose_matrix=[]\n",
    "for i in range(4):\n",
    "    lst=[]\n",
    "    for row in matrix:\n",
    "        lst.append(row[i])\n",
    "    transpose_matrix.append(lst)\n",
    "print(transpose_matrix)"
   ]
  },
  {
   "cell_type": "code",
   "execution_count": null,
   "id": "9b2a2b0f",
   "metadata": {},
   "outputs": [
    {
     "name": "stdout",
     "output_type": "stream",
     "text": [
      "[[1, 5, 9], [2, 6, 10], [3, 7, 11], [4, 8, 12]]\n"
     ]
    }
   ],
   "source": [
    "matrix=[[1,2,3,4],[5,6,7,8],[9,10,11,12]]\n",
    "transpose_matrix=[[row[i] for row in matrix] for i in range(4)]\n",
    "print(transpose_matrix)"
   ]
  },
  {
   "cell_type": "markdown",
   "id": "ebac1d6c",
   "metadata": {},
   "source": [
    "## Tuples"
   ]
  },
  {
   "cell_type": "code",
   "execution_count": null,
   "id": "ad924e10",
   "metadata": {},
   "outputs": [
    {
     "name": "stdout",
     "output_type": "stream",
     "text": [
      "() (1, 2, 3, 4) (1, 'j', 1.5, '*') (1, 2, ['x', 'y', 'z'], ['jerry'])\n"
     ]
    }
   ],
   "source": [
    "# tuples\n",
    "\n",
    "# empty tuple\n",
    "tup1=()\n",
    "\n",
    "# diff type of tuples\n",
    "tup2=(1,2,3,4)\n",
    "tup3=(1,\"j\",1.5,\"*\")\n",
    "\n",
    "# nested tuple\n",
    "tup4=(1,2,['x','y','z'],[\"jerry\"])\n",
    "\n",
    "print(tup1, tup2, tup3, tup4)"
   ]
  },
  {
   "cell_type": "code",
   "execution_count": null,
   "id": "ab4be10c",
   "metadata": {},
   "outputs": [
    {
     "name": "stdout",
     "output_type": "stream",
     "text": [
      "<class 'list'>\n",
      "<class 'tuple'>\n",
      "<class 'tuple'>\n",
      "('satish',)\n"
     ]
    }
   ],
   "source": [
    "tup1=('satish')\n",
    "print(type(tup))\n",
    "\n",
    "tup2=('satish',)\n",
    "print(type(tup2))\n",
    "\n",
    "tup3=\"satish\",\n",
    "print(type(tup3))\n",
    "print(tup3)"
   ]
  },
  {
   "cell_type": "code",
   "execution_count": null,
   "id": "f07f6b5a",
   "metadata": {},
   "outputs": [
    {
     "name": "stdout",
     "output_type": "stream",
     "text": [
      "[1, 2, 3, 4]\n",
      "[5, 6, 7, 8]\n",
      "7\n",
      "(9, 10, 11, 12)\n",
      "11\n"
     ]
    }
   ],
   "source": [
    "tup=([1,2,3,4],[5,6,7,8],(9,10,11,12)) # Nested tuple\n",
    "print(tup[0])\n",
    "print(tup[1])\n",
    "print(tup[1][2])\n",
    "print(tup[2])\n",
    "print(tup[2][2])"
   ]
  },
  {
   "cell_type": "code",
   "execution_count": null,
   "id": "ea41f05e",
   "metadata": {},
   "outputs": [
    {
     "name": "stdout",
     "output_type": "stream",
     "text": [
      "[0, 1, 4, 9, 16, 25, 36, 49, 64, 81]\n"
     ]
    }
   ],
   "source": [
    "sq=[i**2 for i in range (10)]\n",
    "print(sq)"
   ]
  },
  {
   "cell_type": "code",
   "execution_count": null,
   "id": "67cd3137",
   "metadata": {},
   "outputs": [
    {
     "name": "stdout",
     "output_type": "stream",
     "text": [
      "6\n",
      "0\n"
     ]
    }
   ],
   "source": [
    "tupx=(0,1,2,3,4,5,6)\n",
    "\n",
    "# accessing the elements of a tuple\n",
    "print(tupx[-1])\n",
    "print(tupx[0])"
   ]
  },
  {
   "cell_type": "code",
   "execution_count": null,
   "id": "d99cebec",
   "metadata": {},
   "outputs": [
    {
     "name": "stdout",
     "output_type": "stream",
     "text": [
      "('satish', 'satish', 'satish', 'satish')\n"
     ]
    }
   ],
   "source": [
    "tupy=(('satish',)*4)\n",
    "print(tupy)"
   ]
  },
  {
   "cell_type": "code",
   "execution_count": null,
   "id": "6eaa84bb",
   "metadata": {},
   "outputs": [
    {
     "name": "stdout",
     "output_type": "stream",
     "text": [
      "0\n",
      "6\n",
      "21\n",
      "7\n",
      "0\n",
      "6\n"
     ]
    }
   ],
   "source": [
    "tupx=(0,1,2,3,4,5,6)\n",
    "print(min(tupx))\n",
    "print(max(tupx))\n",
    "print(sum(tupx))\n",
    "print(len(tupx))\n",
    "print(tupx[0])\n",
    "print(tupx[-1])"
   ]
  },
  {
   "cell_type": "code",
   "execution_count": null,
   "id": "e46f43ad",
   "metadata": {},
   "outputs": [
    {
     "name": "stdout",
     "output_type": "stream",
     "text": [
      "3\n"
     ]
    },
    {
     "data": {
      "text/plain": [
       "0"
      ]
     },
     "execution_count": 50,
     "metadata": {},
     "output_type": "execute_result"
    }
   ],
   "source": [
    "tupc=(2,2,3,4,5,2)\n",
    "print(tupc.count(2))\n",
    "tupc.index(2)"
   ]
  },
  {
   "cell_type": "markdown",
   "id": "eb120929",
   "metadata": {},
   "source": [
    "## Sets"
   ]
  },
  {
   "cell_type": "code",
   "execution_count": null,
   "id": "62325e96",
   "metadata": {},
   "outputs": [
    {
     "ename": "TypeError",
     "evalue": "'set' object is not subscriptable",
     "output_type": "error",
     "traceback": [
      "\u001b[0;31m---------------------------------------------------------------------------\u001b[0m",
      "\u001b[0;31mTypeError\u001b[0m                                 Traceback (most recent call last)",
      "\u001b[0;32m/var/folders/rp/8sq6h5px3mg90rq964p20c_00000gn/T/ipykernel_1039/290708505.py\u001b[0m in \u001b[0;36m<module>\u001b[0;34m\u001b[0m\n\u001b[1;32m      1\u001b[0m \u001b[0;31m# set doesn't support indexing\u001b[0m\u001b[0;34m\u001b[0m\u001b[0;34m\u001b[0m\u001b[0m\n\u001b[1;32m      2\u001b[0m \u001b[0mset1\u001b[0m\u001b[0;34m=\u001b[0m\u001b[0;34m{\u001b[0m\u001b[0;36m1\u001b[0m\u001b[0;34m,\u001b[0m\u001b[0;36m2\u001b[0m\u001b[0;34m,\u001b[0m\u001b[0;36m3\u001b[0m\u001b[0;34m}\u001b[0m\u001b[0;34m\u001b[0m\u001b[0;34m\u001b[0m\u001b[0m\n\u001b[0;32m----> 3\u001b[0;31m \u001b[0mprint\u001b[0m\u001b[0;34m(\u001b[0m\u001b[0mset1\u001b[0m\u001b[0;34m[\u001b[0m\u001b[0;36m1\u001b[0m\u001b[0;34m]\u001b[0m\u001b[0;34m)\u001b[0m\u001b[0;34m\u001b[0m\u001b[0;34m\u001b[0m\u001b[0m\n\u001b[0m\u001b[1;32m      4\u001b[0m \u001b[0mclear\u001b[0m\u001b[0;34m\u001b[0m\u001b[0;34m\u001b[0m\u001b[0m\n",
      "\u001b[0;31mTypeError\u001b[0m: 'set' object is not subscriptable"
     ]
    }
   ],
   "source": [
    "# set doesn't support indexing\n",
    "set1={1,2,3}\n",
    "print(set1[1])"
   ]
  },
  {
   "cell_type": "code",
   "execution_count": null,
   "id": "99cf8c04",
   "metadata": {},
   "outputs": [
    {
     "name": "stdout",
     "output_type": "stream",
     "text": [
      "{1, 2, 3, 4, 5}\n",
      "{1, 2, 3, 4, 5, 6}\n"
     ]
    }
   ],
   "source": [
    "# converting a list to set and add an element to a set\n",
    "\n",
    "list1=[1,2,3,4,5]\n",
    "print(set(list1))\n",
    "\n",
    "set1=set(list1)\n",
    "\n",
    "set1.add(6)\n",
    "\n",
    "print(set1)\n",
    "\n"
   ]
  },
  {
   "cell_type": "code",
   "execution_count": null,
   "id": "64749158",
   "metadata": {},
   "outputs": [
    {
     "name": "stdout",
     "output_type": "stream",
     "text": [
      "{1, 4, 5, 6}\n",
      "{1, 4, 5, 6}\n",
      "{1, 4, 5, 6}\n",
      "None\n"
     ]
    }
   ],
   "source": [
    "print(set1)\n",
    "print(set1)\n",
    "\n",
    "# to remove an item from set\n",
    "set1.discard(2)\n",
    "print(set1)\n",
    "\n",
    "print(set1.clear())\n",
    "\n",
    "\n"
   ]
  },
  {
   "cell_type": "code",
   "execution_count": null,
   "id": "84940e22",
   "metadata": {},
   "outputs": [
    {
     "name": "stdout",
     "output_type": "stream",
     "text": [
      "{1, 2, 3, 4, 5, 'jerry'}\n"
     ]
    }
   ],
   "source": [
    "# set doesn't allow duplicates\n",
    "\n",
    "s={1,2,2,3,4,5,\"jerry\"}\n",
    "print(s)\n"
   ]
  },
  {
   "cell_type": "code",
   "execution_count": null,
   "id": "e117ab13",
   "metadata": {},
   "outputs": [
    {
     "name": "stdout",
     "output_type": "stream",
     "text": [
      "<class 'set'>\n"
     ]
    }
   ],
   "source": [
    "# create a set using set() function\n",
    "set1=set()\n",
    "print(type(set1))"
   ]
  },
  {
   "cell_type": "code",
   "execution_count": null,
   "id": "07aede86",
   "metadata": {},
   "outputs": [
    {
     "name": "stdout",
     "output_type": "stream",
     "text": [
      "{2, 3, 'c', 5, 'x', 7, 'jerry', 9, 11, 'y', 123}\n",
      "{2, 3, 'c', 5, 'x', 7, 'jerry', 9, 11, 'y', 123}\n",
      "{2, 3, 'c', 5, 'x', 7, 'jerry', 9, 11, 'y', 123}\n",
      "[1, 2, 3, 4, 6]\n"
     ]
    }
   ],
   "source": [
    "print(s)\n",
    "\n",
    "# using add function\n",
    "s.add(123)\n",
    "print(s)\n",
    "\n",
    "# using update function to add items to a list\n",
    "s.update(['c','y','x'],(7,9,11))\n",
    "print(s)\n",
    "\n"
   ]
  },
  {
   "cell_type": "code",
   "execution_count": null,
   "id": "94252c68",
   "metadata": {},
   "outputs": [
    {
     "name": "stdout",
     "output_type": "stream",
     "text": [
      "[1, 2, 3, 4, 6]\n",
      "[1, 2, 3, 4]\n"
     ]
    },
    {
     "data": {
      "text/plain": [
       "6"
      ]
     },
     "execution_count": 51,
     "metadata": {},
     "output_type": "execute_result"
    }
   ],
   "source": [
    "# using remove()\n",
    "set2=[1,2,3,4,5,6]\n",
    "set2.remove(5)\n",
    "print(set2)\n",
    "\n",
    "# using pop() function; randomly removes an item and returns it from the list\n",
    "r= set2.pop()\n",
    "print(set2)\n",
    "r"
   ]
  },
  {
   "cell_type": "code",
   "execution_count": null,
   "id": "6c349e3a",
   "metadata": {},
   "outputs": [
    {
     "name": "stdout",
     "output_type": "stream",
     "text": [
      "[]\n",
      "set()\n"
     ]
    }
   ],
   "source": [
    "list3=[2,3,4,5,6,7]\n",
    "list3.clear()\n",
    "print(set3)\n",
    "\n",
    "set4={1,2,3,4,5,67,8}\n",
    "set4.clear()\n",
    "print(set4)"
   ]
  },
  {
   "cell_type": "code",
   "execution_count": null,
   "id": "8739b1e6",
   "metadata": {},
   "outputs": [
    {
     "name": "stdout",
     "output_type": "stream",
     "text": [
      "{1, 2, 3, 4, 5, 6, 7}\n",
      "{1, 2, 3, 4, 5, 6, 7}\n",
      "{3, 4, 5}\n",
      "{3, 4, 5}\n",
      "{1, 2}\n",
      "{1, 2}\n",
      "{6, 7}\n",
      "{1, 2, 6, 7}\n",
      "{1, 2, 6, 7}\n",
      "False\n"
     ]
    }
   ],
   "source": [
    "# set operations\n",
    "\n",
    "set_1={1,2,3,4,5}\n",
    "set_2={3,4,5,6,7}\n",
    "\n",
    "# union of sets\n",
    "print(set_1|set_2)\n",
    "print(set_1.union(set_2))\n",
    "\n",
    "# intersection of sets\n",
    "print(set_1&set_2)\n",
    "print(set_1.intersection(set_2))\n",
    "\n",
    "# set difference\n",
    "\n",
    "print(set_1-set_2)\n",
    "print(set_1.difference(set_2))\n",
    "print(set_2-set_1) \n",
    "\n",
    "# symmetric difference\n",
    "print(set_1^set_2)\n",
    "print(set_1.symmetric_difference(set_2))\n",
    "\n",
    "print(set_1.issubset(set_2)) "
   ]
  },
  {
   "cell_type": "code",
   "execution_count": null,
   "id": "3fa6f19b",
   "metadata": {},
   "outputs": [
    {
     "name": "stdout",
     "output_type": "stream",
     "text": [
      "frozenset({1, 2, 3, 4, 5}) frozenset({3, 4, 5, 6, 7})\n",
      "frozenset({1, 2, 3, 4, 5, 6, 7})\n",
      "frozenset({3, 4, 5})\n",
      "frozenset({1, 2})\n",
      "frozenset({6, 7})\n",
      "frozenset({1, 2, 6, 7})\n"
     ]
    }
   ],
   "source": [
    "# frozenset\n",
    "# frozenset doesn't support indexing\n",
    "# all set operations can be carried out\n",
    "\n",
    "setf1=frozenset([1,2,3,4,5])\n",
    "setf2=frozenset([3,4,5,6,7])\n",
    "\n",
    "print(setf1,setf2)\n",
    "\n",
    "#  can't do setf1.add(2)\n",
    "\n",
    "print(setf1|setf2)\n",
    "print(setf1&setf2)\n",
    "print(setf1-setf2)\n",
    "print(setf2-setf1)\n",
    "print(setf1^setf2)"
   ]
  },
  {
   "cell_type": "markdown",
   "id": "0ff0d2ef",
   "metadata": {},
   "source": [
    "## Dictionary"
   ]
  },
  {
   "cell_type": "code",
   "execution_count": null,
   "id": "81ecd33e",
   "metadata": {},
   "outputs": [
    {
     "name": "stdout",
     "output_type": "stream",
     "text": [
      "abc cde jerry\n",
      "abc\n",
      "None\n",
      "{'1': 'abc', 2: 'cde', 'name': 'jerry', 'x': 'x', 'name2': 'harry'}\n",
      "{'1': 'abc', 2: 'cde', 'name': 'jerry1', 'x': 'x', 'name2': 'harry'}\n",
      "('x', 'x')\n"
     ]
    }
   ],
   "source": [
    "# creating and accessing a dictionary (here only key is used)\n",
    "\n",
    "mydict={'1':'abc',2:\"cde\",'name':\"jerry\",'x':'x'}\n",
    "print(mydict['1'],mydict[2],mydict[\"name\"])\n",
    "print(mydict.get(\"1\"))\n",
    "print(mydict.get(\"abc\"))\n",
    "\n",
    "# add or modifiy dictionary\n",
    "\n",
    "mydict['name2']='harry'\n",
    "print(mydict)\n",
    "\n",
    "mydict['name']='jerry1'\n",
    "print(mydict)\n",
    "\n",
    "# removes an arbitary key and its value in a dictionary\n",
    "mydict.popitem()\n",
    "\n",
    "# removed value\n",
    "print(mydict.popitem())"
   ]
  },
  {
   "cell_type": "code",
   "execution_count": null,
   "id": "e6663989",
   "metadata": {},
   "outputs": [
    {
     "name": "stdout",
     "output_type": "stream",
     "text": [
      "{'1': 'abc', 2: 'cde', 'name': 'jerry1'}\n",
      "jerry1\n",
      "{'1': 'abc', 2: 'cde'}\n"
     ]
    }
   ],
   "source": [
    "# to remove a particular item in a dictionary using pop() function\n",
    "print(mydict)\n",
    "print(mydict.pop(\"name\"))\n",
    "print(mydict)"
   ]
  },
  {
   "cell_type": "code",
   "execution_count": null,
   "id": "0c48546d",
   "metadata": {},
   "outputs": [
    {
     "name": "stdout",
     "output_type": "stream",
     "text": [
      "{2: 'cde'}\n",
      "{}\n"
     ]
    }
   ],
   "source": [
    "# remove an item using del function\n",
    "\n",
    "print(mydict)\n",
    "del mydict[2]\n",
    "print(mydict)"
   ]
  },
  {
   "cell_type": "code",
   "execution_count": null,
   "id": "49d25259",
   "metadata": {},
   "outputs": [
    {
     "name": "stdout",
     "output_type": "stream",
     "text": [
      "{1: 1, 2: 4}\n"
     ]
    }
   ],
   "source": [
    "squares={1:1,2:4}\n",
    "print(squares)\n",
    "del squares"
   ]
  },
  {
   "cell_type": "code",
   "execution_count": null,
   "id": "45a3ba22",
   "metadata": {},
   "outputs": [
    {
     "name": "stdout",
     "output_type": "stream",
     "text": [
      "{1: 1, 2: 4, 3: 9, 4: 16}\n"
     ]
    }
   ],
   "source": [
    "# copying from one dictionary to another dictionary\n",
    "squares_={1:1,2:4,3:9,4:16}\n",
    "abc_dict=squares_.copy()\n",
    "print(abc_dict)"
   ]
  },
  {
   "cell_type": "code",
   "execution_count": null,
   "id": "8222b1a0",
   "metadata": {},
   "outputs": [
    {
     "name": "stdout",
     "output_type": "stream",
     "text": [
      "{'math': 40, 'science': 40, 'social': 40}\n"
     ]
    }
   ],
   "source": [
    "subj={}.fromkeys(['math',\"science\",'social'],40)\n",
    "print(subj)"
   ]
  },
  {
   "cell_type": "code",
   "execution_count": null,
   "id": "51333efe",
   "metadata": {},
   "outputs": [
    {
     "name": "stdout",
     "output_type": "stream",
     "text": [
      "{'math': 40, 'science': 40, 'social': 40}\n",
      "dict_keys(['math', 'science', 'social'])\n",
      "dict_values([40, 40, 40])\n",
      "dict_items([('math', 40), ('science', 40), ('social', 40)])\n",
      "['__class__', '__class_getitem__', '__contains__', '__delattr__', '__delitem__', '__dir__', '__doc__', '__eq__', '__format__', '__ge__', '__getattribute__', '__getitem__', '__gt__', '__hash__', '__init__', '__init_subclass__', '__ior__', '__iter__', '__le__', '__len__', '__lt__', '__ne__', '__new__', '__or__', '__reduce__', '__reduce_ex__', '__repr__', '__reversed__', '__ror__', '__setattr__', '__setitem__', '__sizeof__', '__str__', '__subclasshook__', 'clear', 'copy', 'fromkeys', 'get', 'items', 'keys', 'pop', 'popitem', 'setdefault', 'update', 'values']\n"
     ]
    }
   ],
   "source": [
    "print(subj)\n",
    "\n",
    "# accessing keys of dictionary\n",
    "print(subj.keys())\n",
    "\n",
    "# accessing values of dictionary\n",
    "print(subj.values())\n",
    "\n",
    "# items() is a function to visualise dictionary\n",
    "print(subj.items())\n",
    "\n",
    "# attributes used for dict\n",
    "\n",
    "dict_={}\n",
    "print(dir(dict_))\n"
   ]
  },
  {
   "cell_type": "code",
   "execution_count": null,
   "id": "fe7ad52d",
   "metadata": {},
   "outputs": [
    {
     "name": "stdout",
     "output_type": "stream",
     "text": [
      "{'bc': 6, 'cc': 9}\n",
      "{'ad': 1, 'bd': 4, 'cd': 9}\n"
     ]
    }
   ],
   "source": [
    "# dictionary comprehension\n",
    "dict_1={'a':1,'b':2,'c':3}\n",
    "\n",
    "dict_2={k+'c':v*3 for k, v in dict_1.items() if v>1}\n",
    "print(dict_2)\n",
    "\n",
    "dict_3={key+'d':value**2 for key,value in dict_1.items() if value<5}\n",
    "print(dict_3)\n"
   ]
  },
  {
   "cell_type": "markdown",
   "id": "3f7c0b3c",
   "metadata": {},
   "source": [
    "## Strings"
   ]
  },
  {
   "cell_type": "code",
   "execution_count": null,
   "id": "d4309228",
   "metadata": {},
   "outputs": [
    {
     "name": "stdout",
     "output_type": "stream",
     "text": [
      "jerry jerry jerry\n",
      "je\n",
      "y\n"
     ]
    }
   ],
   "source": [
    "mystring='jerry'\n",
    "mystring2=\"jerry\"\n",
    "mystring3='''jerry'''\n",
    "\n",
    "print(mystring,mystring2,mystring3)\n",
    "print(mystring[0:2])\n",
    "print(mystring[-1])\n",
    "\n",
    "# mystring[-1]='i' item assignment is not allowed in string"
   ]
  },
  {
   "cell_type": "code",
   "execution_count": null,
   "id": "27b721c7",
   "metadata": {},
   "outputs": [
    {
     "name": "stdout",
     "output_type": "stream",
     "text": [
      "jerryjerry\n",
      "jerryjerryjerry\n"
     ]
    }
   ],
   "source": [
    "print(mystring+mystring2)\n",
    "print(mystring*3)"
   ]
  },
  {
   "cell_type": "code",
   "execution_count": null,
   "id": "bfce69fd",
   "metadata": {},
   "outputs": [
    {
     "name": "stdout",
     "output_type": "stream",
     "text": [
      "2 number of r's were found in the sentence\n"
     ]
    }
   ],
   "source": [
    "name=\"jerry the king\"\n",
    "count=0\n",
    "for alphabet in name:\n",
    "    if alphabet=='r':\n",
    "        count=count+1\n",
    "print(count,\"number of r's were found in the sentence\")"
   ]
  },
  {
   "cell_type": "code",
   "execution_count": null,
   "id": "77d4717c",
   "metadata": {},
   "outputs": [
    {
     "name": "stdout",
     "output_type": "stream",
     "text": [
      "True\n",
      "False\n"
     ]
    }
   ],
   "source": [
    "# membership in a string\n",
    "name=\"jerry the king\"\n",
    "print('er' in name)\n",
    "print('to' in name)"
   ]
  },
  {
   "cell_type": "code",
   "execution_count": null,
   "id": "bf915915",
   "metadata": {},
   "outputs": [
    {
     "name": "stdout",
     "output_type": "stream",
     "text": [
      "JERRY IS THE MOST BENOVELENT KING\n",
      "jerry is the most benovelent king\n",
      "2\n"
     ]
    },
    {
     "data": {
      "text/plain": [
       "'jerry is the most benovelent king'"
      ]
     },
     "execution_count": 109,
     "metadata": {},
     "output_type": "execute_result"
    }
   ],
   "source": [
    "string=\"jerry is the most benovelent king\"\n",
    "\n",
    "print(string.upper())\n",
    "print(string.lower())\n",
    "print(string.find(\"rr\"))\n",
    "string.split()\n",
    "' '.join(['jerry', 'is', 'the', 'most', 'benovelent', 'king'])\n"
   ]
  },
  {
   "cell_type": "code",
   "execution_count": null,
   "id": "5c609943",
   "metadata": {},
   "outputs": [
    {
     "name": "stdout",
     "output_type": "stream",
     "text": [
      "bad morning\n",
      "good morning\n"
     ]
    }
   ],
   "source": [
    "name=\"good morning\"\n",
    "x=name.replace(\"good\", \"bad\")\n",
    "print(x)\n",
    "print(name)"
   ]
  },
  {
   "cell_type": "code",
   "execution_count": null,
   "id": "70ee19e5",
   "metadata": {},
   "outputs": [
    {
     "name": "stdout",
     "output_type": "stream",
     "text": [
      "enter the string Lool\n",
      "the given string is palindrome\n"
     ]
    }
   ],
   "source": [
    "# checking a given string palindrome or not using [::-1]\n",
    "\n",
    "string=str(input('enter the string '))\n",
    "nstring=string.upper()\n",
    "if nstring==nstring[::-1]:\n",
    "    print(\"the given string is palindrome\")\n",
    "else:\n",
    "    print(\"the given string is not palindrome\")"
   ]
  },
  {
   "cell_type": "code",
   "execution_count": null,
   "id": "11a41597",
   "metadata": {},
   "outputs": [
    {
     "name": "stdout",
     "output_type": "stream",
     "text": [
      "it is a palindrom\n"
     ]
    }
   ],
   "source": [
    "# converting string to list and compare\n",
    "\n",
    "mystr=\"Madam\"\n",
    "nmystr=mystr.upper()\n",
    "rmystr=reversed(nmystr)\n",
    "if list(nmystr)==list(rmystr):\n",
    "    print(\"it is a palindrom\")\n",
    "else:\n",
    "    print(\"its not a palindrome\")"
   ]
  },
  {
   "cell_type": "code",
   "execution_count": null,
   "id": "cda2b490",
   "metadata": {},
   "outputs": [
    {
     "name": "stdout",
     "output_type": "stream",
     "text": [
      "['python', 'programme', 'to', 'sort', 'words', 'in', 'a', 'given', 'string']\n",
      "a\n",
      "given\n",
      "in\n",
      "programme\n",
      "python\n",
      "sort\n",
      "string\n",
      "to\n",
      "words\n"
     ]
    }
   ],
   "source": [
    "# python programme to sort words in a given string\n",
    "string='python programme to sort words in a given string'\n",
    "words=string.split()\n",
    "print(words)\n",
    "words.sort()\n",
    "\n",
    "for word in words:\n",
    "    print(word)\n"
   ]
  },
  {
   "cell_type": "code",
   "execution_count": null,
   "id": "a2d475a4",
   "metadata": {},
   "outputs": [
    {
     "data": {
      "text/plain": [
       "'python-programme-to-sort-words-in-a-given-string'"
      ]
     },
     "execution_count": 145,
     "metadata": {},
     "output_type": "execute_result"
    }
   ],
   "source": [
    "'-'.join(['python', 'programme', 'to', 'sort', 'words', 'in', 'a', 'given', 'string'])"
   ]
  },
  {
   "cell_type": "markdown",
   "id": "a797c4ed",
   "metadata": {},
   "source": [
    "## Functions"
   ]
  },
  {
   "cell_type": "code",
   "execution_count": null,
   "id": "fdace5cb",
   "metadata": {},
   "outputs": [
    {
     "name": "stdout",
     "output_type": "stream",
     "text": [
      "hello jerry\n",
      "\n",
      "    this function prints the name\n",
      "    \n"
     ]
    }
   ],
   "source": [
    "def print_name(name):\n",
    "    \"\"\"\n",
    "    this function prints the name\n",
    "    \"\"\"\n",
    "    print(\"hello \"+ str(name))\n",
    "\n",
    "print_name('jerry')\n",
    "\n",
    "# to find out what the function does use -- function_name.__doc__\n",
    "\n",
    "print(print_name.__doc__)"
   ]
  },
  {
   "cell_type": "code",
   "execution_count": null,
   "id": "7d402f6f",
   "metadata": {},
   "outputs": [
    {
     "name": "stdout",
     "output_type": "stream",
     "text": [
      "15\n",
      "\n",
      "    this function returns the sum of elements in a list\n",
      "    \n"
     ]
    }
   ],
   "source": [
    "# creating a function to sum up all the items in a list\n",
    "\n",
    "def sum_list(lst):\n",
    "    \"\"\"\n",
    "    this function returns the sum of elements in a list\n",
    "    \"\"\"\n",
    "    sum_1=0 #local variable inside the function\n",
    "    for ele in lst:\n",
    "        sum_1+=ele\n",
    "    return sum_1\n",
    "x=sum_list([1,2,3,4,5])\n",
    "print(x)\n",
    "print(sum_list.__doc__)"
   ]
  },
  {
   "cell_type": "code",
   "execution_count": null,
   "id": "e08cd465",
   "metadata": {},
   "outputs": [
    {
     "name": "stdout",
     "output_type": "stream",
     "text": [
      "this is a local variable\n",
      "this is global variable\n"
     ]
    }
   ],
   "source": [
    "glob_var=\"this is global variable\"\n",
    "\n",
    "def test_scope():\n",
    "    \"\"\"this function tests the scope of a variable\n",
    "    \"\"\"\n",
    "    local_var=\"this is a local variable\"\n",
    "    print(local_var)\n",
    "test_scope()\n",
    "\n",
    "print(glob_var)\n",
    "# print(local_var)\n"
   ]
  },
  {
   "cell_type": "code",
   "execution_count": null,
   "id": "ba957c89",
   "metadata": {},
   "outputs": [
    {
     "name": "stdout",
     "output_type": "stream",
     "text": [
      "hcf of 98 and 78 is 2\n"
     ]
    }
   ],
   "source": [
    "def compute_hcf(x,y):\n",
    "    \n",
    "    \"\"\"function to find out hcf of two numbers\n",
    "    \"\"\"\n",
    "    smaller = x if x<y else y\n",
    "    \n",
    "    hcf=1\n",
    "    \n",
    "    for i in range(1,smaller+1):\n",
    "        if (x%i==0) & (y%i==0):\n",
    "            hcf=i\n",
    "    return hcf\n",
    "\n",
    "num1=98\n",
    "num2=78\n",
    "print(\"hcf of {} and {} is {}\".format(num1, num2, compute_hcf(num1,num2)))"
   ]
  },
  {
   "cell_type": "code",
   "execution_count": null,
   "id": "90efbe82",
   "metadata": {},
   "outputs": [
    {
     "name": "stdout",
     "output_type": "stream",
     "text": [
      "100\n"
     ]
    }
   ],
   "source": [
    "# built in functions\n",
    "# abs() function to convert given number to its absolute state\n",
    "x=-10\n",
    "\n",
    "print(abs(x))\n",
    "num=abs(-100)\n",
    "print(num)\n",
    "\n",
    " "
   ]
  },
  {
   "cell_type": "code",
   "execution_count": null,
   "id": "3d6a723d",
   "metadata": {},
   "outputs": [
    {
     "name": "stdout",
     "output_type": "stream",
     "text": [
      "1.0\n",
      "2.0\n"
     ]
    }
   ],
   "source": [
    "# complex numbers in python\n",
    "\n",
    "import cmath\n",
    "y=1+2j\n",
    "\n",
    "print(y.real)\n",
    "print(y.imag)"
   ]
  },
  {
   "cell_type": "code",
   "execution_count": null,
   "id": "570a68f4",
   "metadata": {},
   "outputs": [
    {
     "name": "stdout",
     "output_type": "stream",
     "text": [
      "True\n",
      "[1, 4, 9, 16, 25]\n"
     ]
    }
   ],
   "source": [
    "# all() function to whether a given variable is iterable\n",
    "tup=(1,2,3,4,5)\n",
    "print(all(tup))\n",
    "\n",
    "x=[i*i for i in tup]\n",
    "print(x)"
   ]
  },
  {
   "cell_type": "code",
   "execution_count": null,
   "id": "5165cff2",
   "metadata": {},
   "outputs": [
    {
     "data": {
      "text/plain": [
       "['__add__',\n",
       " '__class__',\n",
       " '__class_getitem__',\n",
       " '__contains__',\n",
       " '__delattr__',\n",
       " '__dir__',\n",
       " '__doc__',\n",
       " '__eq__',\n",
       " '__format__',\n",
       " '__ge__',\n",
       " '__getattribute__',\n",
       " '__getitem__',\n",
       " '__getnewargs__',\n",
       " '__gt__',\n",
       " '__hash__',\n",
       " '__init__',\n",
       " '__init_subclass__',\n",
       " '__iter__',\n",
       " '__le__',\n",
       " '__len__',\n",
       " '__lt__',\n",
       " '__mul__',\n",
       " '__ne__',\n",
       " '__new__',\n",
       " '__reduce__',\n",
       " '__reduce_ex__',\n",
       " '__repr__',\n",
       " '__rmul__',\n",
       " '__setattr__',\n",
       " '__sizeof__',\n",
       " '__str__',\n",
       " '__subclasshook__',\n",
       " 'count',\n",
       " 'index']"
      ]
     },
     "execution_count": 58,
     "metadata": {},
     "output_type": "execute_result"
    }
   ],
   "source": [
    "# use of dir() function. It returns the list of attributes applicable for the given object\n",
    "dir(tup)"
   ]
  },
  {
   "cell_type": "code",
   "execution_count": null,
   "id": "6de992f0",
   "metadata": {},
   "outputs": [
    {
     "data": {
      "text/plain": [
       "(3, 0)"
      ]
     },
     "execution_count": 61,
     "metadata": {},
     "output_type": "execute_result"
    }
   ],
   "source": [
    "# use of divmod() function - it returns the quotient and remainder of given two numbers\n",
    "\n",
    "divmod(9,3)\n",
    "\n",
    "# here 3 is quotient and 0 is remainder"
   ]
  },
  {
   "cell_type": "code",
   "execution_count": null,
   "id": "864969f5",
   "metadata": {},
   "outputs": [
    {
     "name": "stdout",
     "output_type": "stream",
     "text": [
      "index 0 has value 1 in tup\n",
      "index 1 has value 2 in tup\n",
      "index 2 has value 3 in tup\n",
      "index 3 has value 4 in tup\n",
      "index 4 has value 5 in tup\n",
      "index 5 has value 6 in tup\n",
      "\n",
      "\n",
      "index 1 has value 1 in tup\n",
      "index 2 has value 2 in tup\n",
      "index 3 has value 3 in tup\n",
      "index 4 has value 4 in tup\n",
      "index 5 has value 5 in tup\n",
      "index 6 has value 6 in tup\n"
     ]
    }
   ],
   "source": [
    "tup=(1,2,3,4,5,6)\n",
    "\n",
    "for index, eachnum in enumerate(tup):\n",
    "    print(\"index {} has value {} in tup\".format(index, eachnum))\n",
    "print(\"\\n\")\n",
    "\n",
    "for index, eachnum in enumerate(tup,1):\n",
    "    print(\"index {} has value {} in tup\".format(index, eachnum))"
   ]
  },
  {
   "cell_type": "markdown",
   "id": "3613f19f",
   "metadata": {},
   "source": [
    "## Enumerate function"
   ]
  },
  {
   "cell_type": "code",
   "execution_count": null,
   "id": "292d14aa",
   "metadata": {},
   "outputs": [],
   "source": [
    "tup=(1,2,3,4,5,6)\n",
    "\n",
    "for index, eachnum in enumerate(tup):\n",
    "    print(\"index {} has value {} in tup\".format(index, eachnum))\n",
    "print(\"\\n\")\n",
    "\n",
    "for index, eachnum in enumerate(tup,1):\n",
    "    print(\"index {} has value {} in tup\".format(index, eachnum))"
   ]
  },
  {
   "cell_type": "markdown",
   "id": "8628bdde",
   "metadata": {},
   "source": [
    "## Filter function"
   ]
  },
  {
   "cell_type": "code",
   "execution_count": null,
   "id": "af5e43f3",
   "metadata": {},
   "outputs": [
    {
     "name": "stdout",
     "output_type": "stream",
     "text": [
      "[-10, -9, -8, -7, -6, -5, -4, -3, -2, -1, 0, 1, 2, 3, 4, 5, 6, 7, 8, 9]\n",
      "[-10, -9, -8, -7, -6, -5, -4, -3, -2, -1]\n"
     ]
    }
   ],
   "source": [
    "def find_negative_num(num):\n",
    "    \"\"\" this function returns the negative number\n",
    "    \"\"\"\n",
    "    if num<0:\n",
    "        return num\n",
    "\n",
    "num_list= range(-10,10)\n",
    "print(list(num_list))\n",
    "\n",
    "negative_num_list=list(filter(find_negative_num,num_list))\n",
    "\n",
    "print(negative_num_list)"
   ]
  },
  {
   "cell_type": "markdown",
   "id": "9e7e7e34",
   "metadata": {},
   "source": [
    "## isinstance function"
   ]
  },
  {
   "cell_type": "code",
   "execution_count": null,
   "id": "40fd16b9",
   "metadata": {},
   "outputs": [],
   "source": [
    "# isinstance(object, classinfo) - to check a variable of particular data type\n",
    "\n",
    "lst=[1,2,3,4]\n",
    "tup=(1,2,3,4)\n",
    "print(isinstance(lst,int))\n",
    "print(isinstance(tup,float))\n",
    "print(isinstance(lst,list))"
   ]
  },
  {
   "cell_type": "markdown",
   "id": "4ce93806",
   "metadata": {},
   "source": [
    "## Use of map function"
   ]
  },
  {
   "cell_type": "code",
   "execution_count": null,
   "id": "cf8fe3be",
   "metadata": {},
   "outputs": [
    {
     "name": "stdout",
     "output_type": "stream",
     "text": [
      "[1, 4, 9, 16, 25]\n",
      "[1, 2, 3, 4, 5]\n",
      "[1, 8, 27, 64, 125]\n"
     ]
    }
   ],
   "source": [
    "num=[1,2,3,4,5]\n",
    "squared_num=[]\n",
    "for number in num:\n",
    "    squared_num.append(number**2)\n",
    "print(squared_num)\n",
    "\n",
    "\n",
    "# use of map() function\n",
    "\n",
    "def powerofthree(num):\n",
    "    \"\"\"this function returns the cube of a given number\n",
    "    \"\"\"\n",
    "    return num**3\n",
    "\n",
    "print(num)\n",
    "\n",
    "cubed_num=list(map(powerofthree,num))\n",
    "print(cubed_num)"
   ]
  },
  {
   "cell_type": "code",
   "execution_count": null,
   "id": "549df068",
   "metadata": {},
   "outputs": [
    {
     "name": "stdout",
     "output_type": "stream",
     "text": [
      "enter the choice\n",
      " 1.addition\n",
      " 2.subtraction\n",
      " 3.division\n",
      " 4.multiplication\n",
      "the subtraction of 23 and 23 is 0\n"
     ]
    }
   ],
   "source": [
    "def addition(x,y):\n",
    "    return x + y\n",
    "def subtraction (x,y):\n",
    "    return x - y\n",
    "def division(x,y):\n",
    "    return x / y\n",
    "def multiplication(x,y):\n",
    "    return x * y\n",
    "\n",
    "print(\"enter the choice\")\n",
    "print(\" 1.addition\\n 2.subtraction\\n 3.division\\n 4.multiplication\")\n",
    "\n",
    "choice=int(input(\"enter the choice = \"))\n",
    "\n",
    "num1=int(input(\"enter the number 1 = \"))\n",
    "num2=int(input(\"enter the number 2 = \"))\n",
    "if choice==1:\n",
    "    print(\"the addition of {} and {} is {}\".format(num1,num2,addition(num1,num2)))\n",
    "elif choice==2:\n",
    "    print(\"the subtraction of {} and {} is {}\".format(num1,num2,subtraction(num1,num2)))\n",
    "elif choice==3:\n",
    "    print(\"the division of {} and {} is {}\".format(num1,num2,division(num1,num2)))\n",
    "elif choice==4:\n",
    "    print(\"the multiplication of {} and {} is {}\".format(num1,num2, multiplication(num1,num2)))\n",
    "else:\n",
    "    print(\"invalid choice dear\")\n"
   ]
  },
  {
   "cell_type": "code",
   "execution_count": null,
   "id": "e645db72",
   "metadata": {},
   "outputs": [
    {
     "name": "stdout",
     "output_type": "stream",
     "text": [
      "hey jerry, good morning\n",
      "hey, jerry, good night\n",
      "hey, jerry, good morning\n"
     ]
    }
   ],
   "source": [
    "def greet(name,msg):\n",
    "    print(\"hey {}, {}\".format(name,msg))\n",
    "\n",
    "greet('jerry','good morning')\n",
    "\n",
    "# setting default in function while creating it\n",
    "\n",
    "def greeti(name,msg='good morning'):\n",
    "    print(\"hey, {}, {}\".format(name,msg))\n",
    "\n",
    "greeti(\"jerry\",\"good night\")\n",
    "greeti(\"jerry\")\n"
   ]
  },
  {
   "cell_type": "code",
   "execution_count": null,
   "id": "c824568c",
   "metadata": {},
   "outputs": [],
   "source": [
    "# arbitary functions\n",
    "\n",
    "def greeti_(*names):\n",
    "    \n",
    "    print(names)\n",
    "    \n",
    "    for name in names:\n",
    "        print(\"hello {}, good morning\".format(name))\n",
    "greeti_('jerry', 'ferry', \"merry\",'sherry')"
   ]
  },
  {
   "cell_type": "markdown",
   "id": "98868c6e",
   "metadata": {},
   "source": [
    "## Recursive function"
   ]
  },
  {
   "cell_type": "code",
   "execution_count": null,
   "id": "5c9ab148",
   "metadata": {},
   "outputs": [],
   "source": [
    "def fact(num):\n",
    "    return 1 if num==1 else (num*fact(num-1))\n",
    "\n",
    "fact(5)"
   ]
  },
  {
   "cell_type": "code",
   "execution_count": null,
   "id": "91ba38a1",
   "metadata": {},
   "outputs": [
    {
     "name": "stdout",
     "output_type": "stream",
     "text": [
      "0 1 1 2 3 5 8 13 21 34 "
     ]
    }
   ],
   "source": [
    "def fibonacci(n):\n",
    "    return n if n==1 or n==0 else fibonacci(n-1)+fibonacci(n-2)\n",
    "for num in range(10):\n",
    "    print(fibonacci(num), end=' ')"
   ]
  },
  {
   "cell_type": "markdown",
   "id": "f363362d",
   "metadata": {},
   "source": [
    "## Arbitary arguments"
   ]
  },
  {
   "cell_type": "code",
   "execution_count": null,
   "id": "c76128ae",
   "metadata": {},
   "outputs": [
    {
     "data": {
      "text/plain": [
       "[1, 9, 16, 3136, 49, 81]"
      ]
     },
     "execution_count": 86,
     "metadata": {},
     "output_type": "execute_result"
    }
   ],
   "source": [
    "# When we don't know the number of arguments that will be passed into the function we use function(**kwargs)\n",
    "def squared(*num):\n",
    "    list=[]\n",
    "    for ele in num:\n",
    "        list.append(ele**2)\n",
    "    return list\n",
    "\n",
    "squared(1,3,4,56,7,9)"
   ]
  },
  {
   "cell_type": "markdown",
   "id": "d3217961",
   "metadata": {},
   "source": [
    "## Lambda function"
   ]
  },
  {
   "cell_type": "code",
   "execution_count": null,
   "id": "e5bf72d3",
   "metadata": {},
   "outputs": [
    {
     "name": "stdout",
     "output_type": "stream",
     "text": [
      "6\n"
     ]
    }
   ],
   "source": [
    "# use of lambda function - it simplifies the function writing\n",
    "\n",
    "triple=lambda x:x*3\n",
    "\n",
    "print(triple(2))"
   ]
  },
  {
   "cell_type": "code",
   "execution_count": null,
   "id": "3d5f2d67",
   "metadata": {},
   "outputs": [
    {
     "name": "stdout",
     "output_type": "stream",
     "text": [
      "[8, 18, 32, 50, 72, 98, 128, 162]\n",
      "\n",
      "\n",
      "[8, 27, 64, 125, 216, 343, 512, 729]\n"
     ]
    }
   ],
   "source": [
    "cubed=lambda x:x**3\n",
    "\n",
    "cubed(2)\n",
    "\n",
    "squareoftwo=lambda x,y:x**2+y**2\n",
    "\n",
    "squareoftwo(2,3)\n",
    "squareoftwo(1,1)\n",
    "\n",
    "list_x=[2,3,4,5,6,7,8,9]\n",
    "\n",
    "ex1=list(map(squareoftwo,list_x, list_x))\n",
    "print(ex1)\n",
    "\n",
    "print('\\n')\n",
    "ex2=list(map(cubed, list_x))\n",
    "print(ex2)"
   ]
  },
  {
   "cell_type": "markdown",
   "id": "6af26b2d",
   "metadata": {},
   "source": [
    "## map(), reduce() and filter() function"
   ]
  },
  {
   "cell_type": "code",
   "execution_count": null,
   "id": "d7e756ad",
   "metadata": {},
   "outputs": [
    {
     "name": "stdout",
     "output_type": "stream",
     "text": [
      "[2, 4, 6, 8, 10]\n",
      "[1, 3, 5, 7, 9]\n",
      "[1, 4, 9, 16, 25, 36, 49, 64, 81, 100]\n",
      "55\n"
     ]
    }
   ],
   "source": [
    "#  lambda function with filter(), map(), and reduce() functions which are useful for data science\n",
    "\n",
    "list1=[1,2,3,4,5,6,7,8,9,10]\n",
    "\n",
    "even_list=list(filter(lambda x:x%2==0, list1))\n",
    "print(even_list)\n",
    "\n",
    "odd_list=list(filter(lambda x:x%2!=0, list1))  # applies the functions and returns the values on which the functios works\n",
    "print(odd_list)\n",
    "\n",
    "squared_list=list(map(lambda x:x**2, list1))  # changes all the values according to the defined function\n",
    "print(squared_list)\n",
    "\n",
    "from functools import reduce\n",
    "sum_list1=reduce(lambda x,y:x+y,list1)\n",
    "print(sum_list1)"
   ]
  },
  {
   "cell_type": "markdown",
   "id": "e1da10ca",
   "metadata": {},
   "source": [
    "## Importing a module and renaming it"
   ]
  },
  {
   "cell_type": "code",
   "execution_count": null,
   "id": "f139d429",
   "metadata": {},
   "outputs": [
    {
     "name": "stdout",
     "output_type": "stream",
     "text": [
      "3.141592653589793\n",
      "1.0\n"
     ]
    }
   ],
   "source": [
    "# import without renaming\n",
    "import math # or from math import *\n",
    "print(math.pi)\n",
    "\n",
    "# import with renaming\n",
    "import math as m\n",
    "print(m.log(10,10))"
   ]
  },
  {
   "cell_type": "code",
   "execution_count": null,
   "id": "76546211",
   "metadata": {},
   "outputs": [],
   "source": [
    "# when the module is huge we use this kind of importing\n",
    "\n",
    "from sklearn import model_selection"
   ]
  },
  {
   "cell_type": "code",
   "execution_count": null,
   "id": "3834f4d4",
   "metadata": {},
   "outputs": [
    {
     "data": {
      "text/plain": [
       "datetime.datetime(2022, 3, 30, 21, 29, 22, 147918)"
      ]
     },
     "execution_count": 91,
     "metadata": {},
     "output_type": "execute_result"
    }
   ],
   "source": [
    "# importing a module \n",
    "import datetime\n",
    "datetime.datetime.now()\n",
    "\n",
    "# use of from in importing a module\n",
    "from datetime import datetime\n",
    "datetime.now()"
   ]
  },
  {
   "cell_type": "markdown",
   "id": "d856912e",
   "metadata": {},
   "source": [
    "./ -------> current directory\n",
    "../ ---------> parent directory"
   ]
  },
  {
   "cell_type": "markdown",
   "id": "32dd68ac",
   "metadata": {},
   "source": [
    "## Miscellenous"
   ]
  },
  {
   "cell_type": "code",
   "execution_count": 3,
   "id": "9f4d3956",
   "metadata": {},
   "outputs": [
    {
     "name": "stdout",
     "output_type": "stream",
     "text": [
      "Hello\n",
      "     hello\n",
      "  hello   \n"
     ]
    }
   ],
   "source": [
    "s=\"hello\"\n",
    "print(s.capitalize())\n",
    "print(s.rjust(10))\n",
    "print(s.center(10))"
   ]
  },
  {
   "cell_type": "code",
   "execution_count": 2,
   "id": "a155fe4a",
   "metadata": {},
   "outputs": [
    {
     "data": {
      "text/plain": [
       "array([0, 1, 2, 3])"
      ]
     },
     "execution_count": 2,
     "metadata": {},
     "output_type": "execute_result"
    }
   ],
   "source": [
    "import numpy as np\n",
    "np.arange(4)"
   ]
  },
  {
   "cell_type": "code",
   "execution_count": 3,
   "id": "a1b0de41",
   "metadata": {},
   "outputs": [
    {
     "name": "stdout",
     "output_type": "stream",
     "text": [
      "[1 5 8]\n"
     ]
    }
   ],
   "source": [
    "a=np.array([[1,2,3],[4,5,6],[6,7,8]])\n",
    "b=np.arange(3)\n",
    "c=np.array([0,1,2])\n",
    "print(a[b,c])"
   ]
  },
  {
   "cell_type": "code",
   "execution_count": 9,
   "id": "d8140934",
   "metadata": {},
   "outputs": [
    {
     "name": "stdout",
     "output_type": "stream",
     "text": [
      "[[1 2 3]\n",
      " [4 5 6]\n",
      " [6 7 8]]\n",
      "[5 6]\n",
      "[2 5 7]\n",
      "[6 7 8]\n"
     ]
    }
   ],
   "source": [
    "a=np.array([[1,2,3],[4,5,6],[6,7,8]])\n",
    "a\n",
    "\n",
    "# rank 1 view of matrix \n",
    "print(a[:,:])\n",
    "print(a[1,1:])\n",
    "print(a[:,1])\n",
    "print(a[2,:])"
   ]
  },
  {
   "cell_type": "code",
   "execution_count": 10,
   "id": "71d96a97",
   "metadata": {},
   "outputs": [
    {
     "name": "stdout",
     "output_type": "stream",
     "text": [
      "[[ 1  2  3]\n",
      " [ 4  5  6]\n",
      " [ 7  8  9]\n",
      " [10 11 12]]\n"
     ]
    }
   ],
   "source": [
    "a = np.array([[1,2,3], [4,5,6], [7,8,9], [10, 11, 12]])\n",
    "print(a)"
   ]
  },
  {
   "cell_type": "code",
   "execution_count": 15,
   "id": "24d7ae08",
   "metadata": {},
   "outputs": [
    {
     "data": {
      "text/plain": [
       "array([[1, 2, 3],\n",
       "       [1, 2, 3],\n",
       "       [1, 2, 3],\n",
       "       [1, 2, 3]])"
      ]
     },
     "execution_count": 15,
     "metadata": {},
     "output_type": "execute_result"
    }
   ],
   "source": [
    "v=np.array([1,2,3])\n",
    "vv=np.tile(v,(4,1))\n",
    "vv"
   ]
  },
  {
   "cell_type": "code",
   "execution_count": 19,
   "id": "561958ec",
   "metadata": {},
   "outputs": [
    {
     "data": {
      "image/png": "[encoded data removed]",
      "text/plain": [
       "<Figure size 432x288 with 1 Axes>"
      ]
     },
     "metadata": {
      "needs_background": "light"
     },
     "output_type": "display_data"
    }
   ],
   "source": [
    "x=np.arange(0,3*np.pi,0.1)\n",
    "x\n",
    "\n",
    "x_cos=np.cos(x)\n",
    "y_sin=np.sin(x)\n",
    "z_tan=np.tan(x)\n",
    "\n",
    "import matplotlib.pyplot as plt\n",
    "plt.plot(x,x_cos)\n",
    "plt.plot(x,y_sin)\n",
    "# plt.plot(x,z_tan)\n",
    "plt.xlabel('x axis ------->')\n",
    "plt.ylabel('y axis ------->')\n",
    "plt.title('plots')\n",
    "plt.legend(['Sine', 'Cosine', 'Tan'])\n",
    "plt.show()"
   ]
  },
  {
   "cell_type": "code",
   "execution_count": 30,
   "id": "b257c014",
   "metadata": {},
   "outputs": [
    {
     "data": {
      "image/png": "[encoded data removed]",
      "text/plain": [
       "<Figure size 432x288 with 4 Axes>"
      ]
     },
     "metadata": {
      "needs_background": "light"
     },
     "output_type": "display_data"
    }
   ],
   "source": [
    "plt.subplot(3,2,1)\n",
    "plt.plot(x,x_cos)\n",
    "plt.title(\"1st plot\")\n",
    "\n",
    "plt.subplot(3,2,2) \n",
    "plt.plot(x,y_sin)\n",
    "plt.title(\"2nd plot\")\n",
    "\n",
    "plt.subplot(3,2,5)\n",
    "plt.plot(x,y_sin)\n",
    "\n",
    "plt.subplot(3,2,6)\n",
    "plt.plot(x,y_sin)\n",
    "plt.show()"
   ]
  },
  {
   "cell_type": "markdown",
   "id": "edac3beb",
   "metadata": {},
   "source": [
    "## Quicksort Algorithm"
   ]
  },
  {
   "cell_type": "code",
   "execution_count": 18,
   "id": "e3e0a572",
   "metadata": {},
   "outputs": [],
   "source": [
    "def quicksort(arr):\n",
    "    if len(arr)<=1: \n",
    "        return arr\n",
    "    middle_num=arr[len(arr)//2]\n",
    "    \n",
    "    right_num=[ x for x in arr if x>middle_num]\n",
    "    middle=[x for x in arr if x==middle_num]\n",
    "    left_num=[x for x in arr if x<middle_num]\n",
    "    return quicksort(left_num)+middle+quicksort(right_num)\n",
    "\n"
   ]
  },
  {
   "cell_type": "code",
   "execution_count": 19,
   "id": "3cc4f2c6",
   "metadata": {},
   "outputs": [
    {
     "data": {
      "text/plain": [
       "[1, 2, 5, 7, 8, 9]"
      ]
     },
     "execution_count": 19,
     "metadata": {},
     "output_type": "execute_result"
    }
   ],
   "source": [
    "arra=[9,8,7,5,2,1]\n",
    "\n",
    "quicksort(arra)"
   ]
  },
  {
   "cell_type": "code",
   "execution_count": 31,
   "id": "345ddcaa",
   "metadata": {},
   "outputs": [
    {
     "name": "stdout",
     "output_type": "stream",
     "text": [
      "{1: 1, 2: 4, 3: 9, 4: 16}\n"
     ]
    }
   ],
   "source": [
    "l=[1,2,3,4]\n",
    "dict={x: x**2 for x in l}\n",
    "print(dict)"
   ]
  },
  {
   "cell_type": "code",
   "execution_count": null,
   "id": "5dbb45a7",
   "metadata": {},
   "outputs": [],
   "source": []
  }
 ],
 "metadata": {
  "kernelspec": {
   "display_name": "Python 3 (ipykernel)",
   "language": "python",
   "name": "python3"
  },
  "language_info": {
   "codemirror_mode": {
    "name": "ipython",
    "version": 3
   },
   "file_extension": ".py",
   "mimetype": "text/x-python",
   "name": "python",
   "nbconvert_exporter": "python",
   "pygments_lexer": "ipython3",
   "version": "3.10.0"
  }
 },
 "nbformat": 4,
 "nbformat_minor": 5
}
