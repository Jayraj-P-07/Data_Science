{
 "cells": [
  {
   "cell_type": "code",
   "execution_count": 3,
   "id": "eac13b81",
   "metadata": {},
   "outputs": [
    {
     "name": "stdout",
     "output_type": "stream",
     "text": [
      "786 µs ± 216 µs per loop (mean ± std. dev. of 7 runs, 1000 loops each)\n"
     ]
    }
   ],
   "source": [
    "#  without numpy creating a list\n",
    "\n",
    "a=range(1000)\n",
    "%timeit [i**2 for i in a]\n"
   ]
  },
  {
   "cell_type": "code",
   "execution_count": 4,
   "id": "06e54e65",
   "metadata": {},
   "outputs": [
    {
     "name": "stdout",
     "output_type": "stream",
     "text": [
      "1.33 µs ± 20.8 ns per loop (mean ± std. dev. of 7 runs, 1000000 loops each)\n"
     ]
    }
   ],
   "source": [
    "#  with numpy creating a list. Check the time of processing\n",
    "\n",
    "import numpy as np\n",
    "a=np.arange(1000)\n",
    "%timeit a**2\n"
   ]
  },
  {
   "cell_type": "code",
   "execution_count": 5,
   "id": "eae33716",
   "metadata": {},
   "outputs": [
    {
     "name": "stdout",
     "output_type": "stream",
     "text": [
      "[  0   1   8  27  64 125 216 343 512 729]\n"
     ]
    },
    {
     "data": {
      "text/plain": [
       "(10,)"
      ]
     },
     "execution_count": 5,
     "metadata": {},
     "output_type": "execute_result"
    }
   ],
   "source": [
    "b=np.arange(10)\n",
    "b=b**3\n",
    "print(b)\n",
    "b.ndim\n",
    "b.shape"
   ]
  },
  {
   "cell_type": "code",
   "execution_count": 6,
   "id": "cd021e1f",
   "metadata": {},
   "outputs": [
    {
     "name": "stdout",
     "output_type": "stream",
     "text": [
      "[1 2 3]\n"
     ]
    }
   ],
   "source": [
    "a=np.array([1,2,3])\n",
    "a\n",
    "print(a)"
   ]
  },
  {
   "cell_type": "code",
   "execution_count": 7,
   "id": "272703ad",
   "metadata": {},
   "outputs": [
    {
     "name": "stdout",
     "output_type": "stream",
     "text": [
      "[[0 1 2]\n",
      " [3 4 5]\n",
      " [6 7 8]]\n",
      "2\n",
      "(3, 3)\n",
      "3\n"
     ]
    }
   ],
   "source": [
    "b=np.array([[0,1,2],[3,4,5],[6,7,8]])\n",
    "print(b)\n",
    "print(b.ndim)\n",
    "print(b.shape)\n",
    "print(len(b))"
   ]
  },
  {
   "cell_type": "code",
   "execution_count": 8,
   "id": "086d36a8",
   "metadata": {},
   "outputs": [
    {
     "data": {
      "text/plain": [
       "(3, 2, 2)"
      ]
     },
     "execution_count": 8,
     "metadata": {},
     "output_type": "execute_result"
    }
   ],
   "source": [
    "# three dimensional array\n",
    "\n",
    "c=np.array([[[0,1],[1,2]],[[2,3],[4,5]],[[5,6],[6,7]]])\n",
    "c.ndim\n",
    "c.shape"
   ]
  },
  {
   "cell_type": "code",
   "execution_count": 9,
   "id": "50a472f3",
   "metadata": {},
   "outputs": [
    {
     "name": "stdout",
     "output_type": "stream",
     "text": [
      "3\n",
      "(2, 2, 2)\n",
      "2\n"
     ]
    }
   ],
   "source": [
    "# another three dimensional array\n",
    "d=np.array([[[0,1],[1,2]],[[3,4],[4,5]]])\n",
    "print(d.ndim)\n",
    "print(d.shape)\n",
    "print(len(d))"
   ]
  },
  {
   "cell_type": "code",
   "execution_count": 10,
   "id": "79613e9f",
   "metadata": {},
   "outputs": [
    {
     "name": "stdout",
     "output_type": "stream",
     "text": [
      "[0 2 4 6 8]\n"
     ]
    }
   ],
   "source": [
    "e=np.arange(0,10,2)\n",
    "e\n",
    "print(e)"
   ]
  },
  {
   "cell_type": "code",
   "execution_count": 11,
   "id": "e4e69c53",
   "metadata": {},
   "outputs": [
    {
     "data": {
      "text/plain": [
       "array([0.        , 0.33333333, 0.66666667, 1.        ])"
      ]
     },
     "execution_count": 11,
     "metadata": {},
     "output_type": "execute_result"
    }
   ],
   "source": [
    "np.linspace(0,1,3)\n",
    "np.linspace(0,1,5)\n",
    "np.linspace(0,1,4)"
   ]
  },
  {
   "cell_type": "code",
   "execution_count": 12,
   "id": "3dfee001",
   "metadata": {},
   "outputs": [
    {
     "name": "stdout",
     "output_type": "stream",
     "text": [
      "[1. 1. 1. 1.]\n",
      "[[1 0 0 0]\n",
      " [0 2 0 0]\n",
      " [0 0 3 0]\n",
      " [0 0 0 4]]\n",
      "[[1. 0. 0. 0.]\n",
      " [0. 1. 0. 0.]\n",
      " [0. 0. 1. 0.]\n",
      " [0. 0. 0. 1.]]\n"
     ]
    }
   ],
   "source": [
    "# creates a one dimensional array of 1's\n",
    "print(np.ones(4))\n",
    "\n",
    "# creates a matrix having diagonal elements given in a list\n",
    "print(np.diag([1,2,3,4]))\n",
    "\n",
    "# np.eye(rows,columns) creates a 2D array of 1 \n",
    "print(np.eye(4,4))"
   ]
  },
  {
   "cell_type": "code",
   "execution_count": 13,
   "id": "8b8da04e",
   "metadata": {},
   "outputs": [
    {
     "name": "stdout",
     "output_type": "stream",
     "text": [
      "[[[[0.48419354 0.07245958]\n",
      "   [0.95782049 0.88366776]]\n",
      "\n",
      "  [[0.62901641 0.82410542]\n",
      "   [0.62138782 0.79084074]]]\n",
      "\n",
      "\n",
      " [[[0.77439854 0.6026159 ]\n",
      "   [0.17168329 0.17261948]]\n",
      "\n",
      "  [[0.25396291 0.72803118]\n",
      "   [0.41319752 0.31492766]]]\n",
      "\n",
      "\n",
      " [[[0.41029916 0.61393995]\n",
      "   [0.39782428 0.04508464]]\n",
      "\n",
      "  [[0.29393391 0.55639054]\n",
      "   [0.92855067 0.26564393]]]\n",
      "\n",
      "\n",
      " [[[0.4229338  0.13746717]\n",
      "   [0.07125643 0.50275895]]\n",
      "\n",
      "  [[0.9651947  0.74679223]\n",
      "   [0.61767963 0.89447656]]]]\n"
     ]
    }
   ],
   "source": [
    "# create an array of random unoformly distributed numbers\n",
    "rand_array=np.random.rand(4,2,2,2)\n",
    "print(rand_array)\n"
   ]
  },
  {
   "cell_type": "code",
   "execution_count": 14,
   "id": "a2e2ae55",
   "metadata": {},
   "outputs": [
    {
     "name": "stdout",
     "output_type": "stream",
     "text": [
      "[[[[0.48419354 0.07245958]\n",
      "   [0.95782049 0.88366776]]\n",
      "\n",
      "  [[0.62901641 0.82410542]\n",
      "   [0.62138782 0.79084074]]]\n",
      "\n",
      "\n",
      " [[[0.77439854 0.6026159 ]\n",
      "   [0.17168329 0.17261948]]\n",
      "\n",
      "  [[0.25396291 0.72803118]\n",
      "   [0.41319752 0.31492766]]]\n",
      "\n",
      "\n",
      " [[[0.41029916 0.61393995]\n",
      "   [0.39782428 0.04508464]]\n",
      "\n",
      "  [[0.29393391 0.55639054]\n",
      "   [0.92855067 0.26564393]]]\n",
      "\n",
      "\n",
      " [[[0.4229338  0.13746717]\n",
      "   [0.07125643 0.50275895]]\n",
      "\n",
      "  [[0.9651947  0.74679223]\n",
      "   [0.61767963 0.89447656]]]]\n"
     ]
    }
   ],
   "source": [
    "# create an array of random normally distributed numbers\n",
    "rand_array2=np.random.randn(4,2,2,2)\n",
    "print(rand_array)\n"
   ]
  },
  {
   "cell_type": "code",
   "execution_count": 15,
   "id": "9df8f9c9",
   "metadata": {},
   "outputs": [
    {
     "name": "stdout",
     "output_type": "stream",
     "text": [
      "[0. 1. 2. 3. 4. 5. 6. 7. 8. 9.]\n"
     ]
    },
    {
     "data": {
      "text/plain": [
       "dtype('float64')"
      ]
     },
     "execution_count": 15,
     "metadata": {},
     "output_type": "execute_result"
    }
   ],
   "source": [
    "# create an array with float type items\n",
    "\n",
    "f=np.arange(10, dtype='float64')\n",
    "\n",
    "print(f)\n",
    "f.dtype\n",
    "\n",
    "g=np.zeros([4,4])\n",
    "g.dtype"
   ]
  },
  {
   "cell_type": "code",
   "execution_count": 16,
   "id": "96f2019e",
   "metadata": {},
   "outputs": [
    {
     "name": "stdout",
     "output_type": "stream",
     "text": [
      "[[1.+2.j 3.+2.j]\n",
      " [5.+1.j 2.+6.j]]\n"
     ]
    },
    {
     "data": {
      "text/plain": [
       "dtype('complex128')"
      ]
     },
     "execution_count": 16,
     "metadata": {},
     "output_type": "execute_result"
    }
   ],
   "source": [
    "# create an array of complex data type\n",
    "\n",
    "h=np.array([[1+2j,3+2j],[5+1j,2+6j]])\n",
    "print(h)\n",
    "h.ndim\n",
    "h.shape\n",
    "h.dtype"
   ]
  },
  {
   "cell_type": "code",
   "execution_count": 17,
   "id": "c08d9f1f",
   "metadata": {},
   "outputs": [
    {
     "name": "stdout",
     "output_type": "stream",
     "text": [
      "[[list(['ram', 'lakhan', 'jiya'])]\n",
      " [list(['amanda'])]]\n"
     ]
    },
    {
     "name": "stderr",
     "output_type": "stream",
     "text": [
      "/var/folders/rp/8sq6h5px3mg90rq964p20c_00000gn/T/ipykernel_14193/4110179168.py:3: VisibleDeprecationWarning: Creating an ndarray from ragged nested sequences (which is a list-or-tuple of lists-or-tuples-or ndarrays with different lengths or shapes) is deprecated. If you meant to do this, you must specify 'dtype=object' when creating the ndarray.\n",
      "  s=np.array([[['ram', 'lakhan', 'jiya']],[['amanda']]])\n"
     ]
    }
   ],
   "source": [
    "# create an array of string datatype\n",
    "\n",
    "s=np.array([[['ram', 'lakhan', 'jiya']],[['amanda']]])\n",
    "print(s)"
   ]
  },
  {
   "cell_type": "code",
   "execution_count": 18,
   "id": "73c207f7",
   "metadata": {},
   "outputs": [
    {
     "name": "stdout",
     "output_type": "stream",
     "text": [
      "[1 3 5 7 9]\n",
      "[9]\n",
      "[1 2 3 4 5]\n",
      "[5 4 3 2 1]\n"
     ]
    },
    {
     "data": {
      "text/plain": [
       "False"
      ]
     },
     "execution_count": 18,
     "metadata": {},
     "output_type": "execute_result"
    }
   ],
   "source": [
    "z=np.arange(1,10,2)\n",
    "print(z)\n",
    "print(z[4:])\n",
    "y=np.arange(1,6)\n",
    "print(y)\n",
    "z[0:]=y[::-1]\n",
    "print(z)\n",
    "np.shares_memory(z,y)"
   ]
  },
  {
   "cell_type": "code",
   "execution_count": 19,
   "id": "bd6accd8",
   "metadata": {},
   "outputs": [
    {
     "name": "stdout",
     "output_type": "stream",
     "text": [
      "[0 1 2 3 4 5 6 7 8 9]\n",
      "[0 2 4 6 8]\n"
     ]
    },
    {
     "data": {
      "text/plain": [
       "True"
      ]
     },
     "execution_count": 19,
     "metadata": {},
     "output_type": "execute_result"
    }
   ],
   "source": [
    "a=np.arange(10)\n",
    "print(a)\n",
    "b=a[::2]\n",
    "print(b)\n",
    "np.shares_memory(a,b)"
   ]
  },
  {
   "cell_type": "code",
   "execution_count": 20,
   "id": "56e816c0",
   "metadata": {},
   "outputs": [
    {
     "name": "stdout",
     "output_type": "stream",
     "text": [
      "[0 1 2 3 4 5 6 7 8 9]\n",
      "[0 2 4 6 8]\n",
      "[100   2   4   6   8]\n",
      "[0 1 2 3 4 5 6 7 8 9]\n"
     ]
    }
   ],
   "source": [
    "\n",
    "a=np.arange(10)\n",
    "print(a)\n",
    "\n",
    "c=a[::2].copy()\n",
    "print(c)\n",
    "\n",
    "c[0]=100\n",
    "print(c)\n",
    "print(a)"
   ]
  },
  {
   "cell_type": "code",
   "execution_count": 21,
   "id": "153a1390",
   "metadata": {},
   "outputs": [
    {
     "name": "stdout",
     "output_type": "stream",
     "text": [
      "[15  7 12  7 13 12 16 13 16  2]\n",
      "[12 12 16 16  2]\n",
      "[ 15   7 100   7  13 100 100  13 100 100]\n"
     ]
    }
   ],
   "source": [
    "# random integers from 1 to 20 in 10 points\n",
    "a=np.random.randint(1,20,10)\n",
    "print(a)\n",
    "\n",
    "mask=(a%2==0)\n",
    "\n",
    "b=(a[mask])\n",
    "print(b)\n",
    "\n",
    "a[mask]=100\n",
    "print(a)"
   ]
  },
  {
   "cell_type": "code",
   "execution_count": 22,
   "id": "83455d6a",
   "metadata": {},
   "outputs": [
    {
     "name": "stdout",
     "output_type": "stream",
     "text": [
      "[1, 2, 3, 4, 5] [1. 1. 1. 1. 1.]\n",
      "[2. 3. 4. 5. 6.]\n",
      "[1. 2. 3. 4. 5.]\n"
     ]
    }
   ],
   "source": [
    "a=([1,2,3,4,5])\n",
    "b=np.ones(5)\n",
    "print(a,b)\n",
    "\n",
    "# all mathematical operations happen element wise\n",
    "print(a+b)\n",
    "print(a*b)"
   ]
  },
  {
   "cell_type": "code",
   "execution_count": 23,
   "id": "a8b55b0d",
   "metadata": {},
   "outputs": [
    {
     "name": "stdout",
     "output_type": "stream",
     "text": [
      "[[1 0 0 0]\n",
      " [0 2 0 0]\n",
      " [0 0 3 0]\n",
      " [0 0 0 4]]\n",
      "[[ 1  0  0  0]\n",
      " [ 0  4  0  0]\n",
      " [ 0  0  9  0]\n",
      " [ 0  0  0 16]]\n",
      "[[ 1  0  0  0]\n",
      " [ 0  4  0  0]\n",
      " [ 0  0  9  0]\n",
      " [ 0  0  0 16]]\n"
     ]
    }
   ],
   "source": [
    "c=np.diag([1,2,3,4])\n",
    "print(c)\n",
    "\n",
    "# simple matrix multiplication\n",
    "print(c*c)\n",
    "\n",
    "# matrix multiplication can also be done using .dot()\n",
    "print(c.dot(c))"
   ]
  },
  {
   "cell_type": "code",
   "execution_count": 24,
   "id": "a0ca954f",
   "metadata": {},
   "outputs": [
    {
     "name": "stdout",
     "output_type": "stream",
     "text": [
      "[False  True False  True]\n"
     ]
    }
   ],
   "source": [
    "a=np.array([1,2,3,4])\n",
    "b=np.array([2,2,0,4])\n",
    "\n",
    "print(a==b)\n"
   ]
  },
  {
   "cell_type": "code",
   "execution_count": 25,
   "id": "872e41c3",
   "metadata": {},
   "outputs": [
    {
     "data": {
      "text/plain": [
       "array([False, False,  True, False])"
      ]
     },
     "execution_count": 25,
     "metadata": {},
     "output_type": "execute_result"
    }
   ],
   "source": [
    "a>b"
   ]
  },
  {
   "cell_type": "code",
   "execution_count": 26,
   "id": "f1b99a4f",
   "metadata": {},
   "outputs": [
    {
     "name": "stdout",
     "output_type": "stream",
     "text": [
      "False\n"
     ]
    },
    {
     "data": {
      "text/plain": [
       "True"
      ]
     },
     "execution_count": 26,
     "metadata": {},
     "output_type": "execute_result"
    }
   ],
   "source": [
    "# to check each element in both the matrix are equal or not\n",
    "\n",
    "a=np.array([1,2,3,4])\n",
    "b=np.array([2,3,4,5])\n",
    "c=np.array([1,2,3,4])\n",
    "\n",
    "print(np.array_equal(a,b))\n",
    "np.array_equal(a,c)"
   ]
  },
  {
   "cell_type": "code",
   "execution_count": 27,
   "id": "5e392b93",
   "metadata": {},
   "outputs": [
    {
     "name": "stdout",
     "output_type": "stream",
     "text": [
      "[ True  True  True  True  True]\n"
     ]
    },
    {
     "data": {
      "text/plain": [
       "array([False, False, False, False, False])"
      ]
     },
     "execution_count": 27,
     "metadata": {},
     "output_type": "execute_result"
    }
   ],
   "source": [
    "x=np.array([0,1,0,1,0], dtype=bool)\n",
    "y=np.array([1,0,1,0,1], dtype=bool)\n",
    "\n",
    "print(np.logical_or(x,y))\n",
    "np.logical_and(x,y)"
   ]
  },
  {
   "cell_type": "code",
   "execution_count": 28,
   "id": "97146c46",
   "metadata": {},
   "outputs": [
    {
     "name": "stdout",
     "output_type": "stream",
     "text": [
      "[0 1 2 3 4]\n",
      "[ 0.84147098  0.90929743  0.14112001 -0.7568025 ]\n",
      "[ 0.54030231 -0.41614684 -0.9899925  -0.65364362]\n",
      "[0.         0.69314718 1.09861229 1.38629436]\n",
      "[ 2.71828183  7.3890561  20.08553692 54.59815003]\n",
      "10\n",
      "[0 1 2 3 4]\n"
     ]
    }
   ],
   "source": [
    "v=np.arange(5)\n",
    "print(v)\n",
    "\n",
    "v1=np.sin(a)\n",
    "print(v1)\n",
    "\n",
    "v2=np.cos(a)\n",
    "print(v2)\n",
    "\n",
    "v3=np.log(a)\n",
    "print(v3)\n",
    "\n",
    "# here exp=2.71\n",
    "v4=np.exp(a)\n",
    "print(v4)\n",
    "\n",
    "# addition along row\n",
    "v5=np.sum(v)\n",
    "print(v5)\n",
    "\n",
    "# addition along column\n",
    "v.sum(axis=0)\n",
    "print(v)"
   ]
  },
  {
   "cell_type": "code",
   "execution_count": 29,
   "id": "da036f11",
   "metadata": {},
   "outputs": [
    {
     "name": "stdout",
     "output_type": "stream",
     "text": [
      "[0, 1, 4, 9, 16]\n"
     ]
    }
   ],
   "source": [
    "# list comprhension\n",
    "lst=list(i*i for i in range(5))\n",
    "print(lst)"
   ]
  },
  {
   "cell_type": "code",
   "execution_count": 30,
   "id": "9824d9e1",
   "metadata": {},
   "outputs": [
    {
     "name": "stdout",
     "output_type": "stream",
     "text": [
      "[[2 3]\n",
      " [3 4]]\n"
     ]
    },
    {
     "data": {
      "text/plain": [
       "array([5, 7])"
      ]
     },
     "execution_count": 30,
     "metadata": {},
     "output_type": "execute_result"
    }
   ],
   "source": [
    "# sum along column\n",
    "\n",
    "h=np.array([[2,3],[3,4]])\n",
    "print(h)\n",
    "\n",
    "h.sum(axis=0)"
   ]
  },
  {
   "cell_type": "code",
   "execution_count": 31,
   "id": "aca36697",
   "metadata": {},
   "outputs": [
    {
     "name": "stdout",
     "output_type": "stream",
     "text": [
      "[1 3 5 7 9]\n",
      "1\n",
      "9\n",
      "0\n",
      "4\n"
     ]
    }
   ],
   "source": [
    "x=np.arange(1,10,2)\n",
    "print(x)\n",
    "print(x.min())\n",
    "print(x.max())\n",
    "print(x.argmin())   # argmin() returns index of min element\n",
    "print(x.argmax())   # argmax() returns index of max element"
   ]
  },
  {
   "cell_type": "code",
   "execution_count": 32,
   "id": "1218f1db",
   "metadata": {},
   "outputs": [
    {
     "data": {
      "text/plain": [
       "False"
      ]
     },
     "execution_count": 32,
     "metadata": {},
     "output_type": "execute_result"
    }
   ],
   "source": [
    "np.all([True, False, True])"
   ]
  },
  {
   "cell_type": "code",
   "execution_count": 33,
   "id": "52d7efe6",
   "metadata": {},
   "outputs": [
    {
     "name": "stdout",
     "output_type": "stream",
     "text": [
      "False\n"
     ]
    },
    {
     "data": {
      "text/plain": [
       "True"
      ]
     },
     "execution_count": 33,
     "metadata": {},
     "output_type": "execute_result"
    }
   ],
   "source": [
    "print(np.any([False, False, False]))\n",
    "np.any([True, False, False])"
   ]
  },
  {
   "cell_type": "code",
   "execution_count": 34,
   "id": "550fc2f4",
   "metadata": {},
   "outputs": [
    {
     "data": {
      "text/plain": [
       "False"
      ]
     },
     "execution_count": 34,
     "metadata": {},
     "output_type": "execute_result"
    }
   ],
   "source": [
    "zero=np.zeros((50,50))\n",
    "np.any(zero!=0)"
   ]
  },
  {
   "cell_type": "code",
   "execution_count": 35,
   "id": "40610bb9",
   "metadata": {},
   "outputs": [
    {
     "data": {
      "text/plain": [
       "True"
      ]
     },
     "execution_count": 35,
     "metadata": {},
     "output_type": "execute_result"
    }
   ],
   "source": [
    "np.all(zero==zero)"
   ]
  },
  {
   "cell_type": "code",
   "execution_count": 36,
   "id": "ee2bf87c",
   "metadata": {},
   "outputs": [
    {
     "name": "stdout",
     "output_type": "stream",
     "text": [
      "[1 2 3 4 5] [5 6 7 8 9] [1 2 3 4 5]\n"
     ]
    },
    {
     "data": {
      "text/plain": [
       "False"
      ]
     },
     "execution_count": 36,
     "metadata": {},
     "output_type": "execute_result"
    }
   ],
   "source": [
    "a=np.array([1,2,3,4,5])\n",
    "b=np.arange(5,10)\n",
    "c=np.array([1,2,3,4,5])\n",
    "\n",
    "print(a,b,c)\n",
    "\n",
    "(a<c).all()"
   ]
  },
  {
   "cell_type": "code",
   "execution_count": 37,
   "id": "21344b2d",
   "metadata": {},
   "outputs": [
    {
     "name": "stdout",
     "output_type": "stream",
     "text": [
      "2.5\n",
      "2.5\n",
      "1.118033988749895\n"
     ]
    }
   ],
   "source": [
    "stat=np.array([[1,2,3,4],[1,2,3,4]])\n",
    "\n",
    "print(stat.mean())\n",
    "print(np.median(stat))\n",
    "print(stat.std())"
   ]
  },
  {
   "cell_type": "code",
   "execution_count": 38,
   "id": "725ac5f0",
   "metadata": {},
   "outputs": [
    {
     "ename": "OSError",
     "evalue": "populations.txt not found.",
     "output_type": "error",
     "traceback": [
      "\u001b[0;31m---------------------------------------------------------------------------\u001b[0m",
      "\u001b[0;31mOSError\u001b[0m                                   Traceback (most recent call last)",
      "\u001b[0;32m/var/folders/rp/8sq6h5px3mg90rq964p20c_00000gn/T/ipykernel_14193/2117096811.py\u001b[0m in \u001b[0;36m<module>\u001b[0;34m\u001b[0m\n\u001b[1;32m      1\u001b[0m \u001b[0;32mimport\u001b[0m \u001b[0mos\u001b[0m\u001b[0;34m\u001b[0m\u001b[0;34m\u001b[0m\u001b[0m\n\u001b[1;32m      2\u001b[0m \u001b[0;34m\u001b[0m\u001b[0m\n\u001b[0;32m----> 3\u001b[0;31m \u001b[0mdata\u001b[0m\u001b[0;34m=\u001b[0m\u001b[0mnp\u001b[0m\u001b[0;34m.\u001b[0m\u001b[0mloadtxt\u001b[0m\u001b[0;34m(\u001b[0m\u001b[0;34m'populations.txt'\u001b[0m\u001b[0;34m)\u001b[0m\u001b[0;34m\u001b[0m\u001b[0;34m\u001b[0m\u001b[0m\n\u001b[0m\u001b[1;32m      4\u001b[0m \u001b[0mdata\u001b[0m\u001b[0;34m\u001b[0m\u001b[0;34m\u001b[0m\u001b[0m\n",
      "\u001b[0;32m~/opt/anaconda3/lib/python3.9/site-packages/numpy/lib/npyio.py\u001b[0m in \u001b[0;36mloadtxt\u001b[0;34m(fname, dtype, comments, delimiter, converters, skiprows, usecols, unpack, ndmin, encoding, max_rows, like)\u001b[0m\n\u001b[1;32m   1063\u001b[0m             \u001b[0mfname\u001b[0m \u001b[0;34m=\u001b[0m \u001b[0mos_fspath\u001b[0m\u001b[0;34m(\u001b[0m\u001b[0mfname\u001b[0m\u001b[0;34m)\u001b[0m\u001b[0;34m\u001b[0m\u001b[0;34m\u001b[0m\u001b[0m\n\u001b[1;32m   1064\u001b[0m         \u001b[0;32mif\u001b[0m \u001b[0m_is_string_like\u001b[0m\u001b[0;34m(\u001b[0m\u001b[0mfname\u001b[0m\u001b[0;34m)\u001b[0m\u001b[0;34m:\u001b[0m\u001b[0;34m\u001b[0m\u001b[0;34m\u001b[0m\u001b[0m\n\u001b[0;32m-> 1065\u001b[0;31m             \u001b[0mfh\u001b[0m \u001b[0;34m=\u001b[0m \u001b[0mnp\u001b[0m\u001b[0;34m.\u001b[0m\u001b[0mlib\u001b[0m\u001b[0;34m.\u001b[0m\u001b[0m_datasource\u001b[0m\u001b[0;34m.\u001b[0m\u001b[0mopen\u001b[0m\u001b[0;34m(\u001b[0m\u001b[0mfname\u001b[0m\u001b[0;34m,\u001b[0m \u001b[0;34m'rt'\u001b[0m\u001b[0;34m,\u001b[0m \u001b[0mencoding\u001b[0m\u001b[0;34m=\u001b[0m\u001b[0mencoding\u001b[0m\u001b[0;34m)\u001b[0m\u001b[0;34m\u001b[0m\u001b[0;34m\u001b[0m\u001b[0m\n\u001b[0m\u001b[1;32m   1066\u001b[0m             \u001b[0mfencoding\u001b[0m \u001b[0;34m=\u001b[0m \u001b[0mgetattr\u001b[0m\u001b[0;34m(\u001b[0m\u001b[0mfh\u001b[0m\u001b[0;34m,\u001b[0m \u001b[0;34m'encoding'\u001b[0m\u001b[0;34m,\u001b[0m \u001b[0;34m'latin1'\u001b[0m\u001b[0;34m)\u001b[0m\u001b[0;34m\u001b[0m\u001b[0;34m\u001b[0m\u001b[0m\n\u001b[1;32m   1067\u001b[0m             \u001b[0mfh\u001b[0m \u001b[0;34m=\u001b[0m \u001b[0miter\u001b[0m\u001b[0;34m(\u001b[0m\u001b[0mfh\u001b[0m\u001b[0;34m)\u001b[0m\u001b[0;34m\u001b[0m\u001b[0;34m\u001b[0m\u001b[0m\n",
      "\u001b[0;32m~/opt/anaconda3/lib/python3.9/site-packages/numpy/lib/_datasource.py\u001b[0m in \u001b[0;36mopen\u001b[0;34m(path, mode, destpath, encoding, newline)\u001b[0m\n\u001b[1;32m    192\u001b[0m \u001b[0;34m\u001b[0m\u001b[0m\n\u001b[1;32m    193\u001b[0m     \u001b[0mds\u001b[0m \u001b[0;34m=\u001b[0m \u001b[0mDataSource\u001b[0m\u001b[0;34m(\u001b[0m\u001b[0mdestpath\u001b[0m\u001b[0;34m)\u001b[0m\u001b[0;34m\u001b[0m\u001b[0;34m\u001b[0m\u001b[0m\n\u001b[0;32m--> 194\u001b[0;31m     \u001b[0;32mreturn\u001b[0m \u001b[0mds\u001b[0m\u001b[0;34m.\u001b[0m\u001b[0mopen\u001b[0m\u001b[0;34m(\u001b[0m\u001b[0mpath\u001b[0m\u001b[0;34m,\u001b[0m \u001b[0mmode\u001b[0m\u001b[0;34m,\u001b[0m \u001b[0mencoding\u001b[0m\u001b[0;34m=\u001b[0m\u001b[0mencoding\u001b[0m\u001b[0;34m,\u001b[0m \u001b[0mnewline\u001b[0m\u001b[0;34m=\u001b[0m\u001b[0mnewline\u001b[0m\u001b[0;34m)\u001b[0m\u001b[0;34m\u001b[0m\u001b[0;34m\u001b[0m\u001b[0m\n\u001b[0m\u001b[1;32m    195\u001b[0m \u001b[0;34m\u001b[0m\u001b[0m\n\u001b[1;32m    196\u001b[0m \u001b[0;34m\u001b[0m\u001b[0m\n",
      "\u001b[0;32m~/opt/anaconda3/lib/python3.9/site-packages/numpy/lib/_datasource.py\u001b[0m in \u001b[0;36mopen\u001b[0;34m(self, path, mode, encoding, newline)\u001b[0m\n\u001b[1;32m    529\u001b[0m                                       encoding=encoding, newline=newline)\n\u001b[1;32m    530\u001b[0m         \u001b[0;32melse\u001b[0m\u001b[0;34m:\u001b[0m\u001b[0;34m\u001b[0m\u001b[0;34m\u001b[0m\u001b[0m\n\u001b[0;32m--> 531\u001b[0;31m             \u001b[0;32mraise\u001b[0m \u001b[0mIOError\u001b[0m\u001b[0;34m(\u001b[0m\u001b[0;34m\"%s not found.\"\u001b[0m \u001b[0;34m%\u001b[0m \u001b[0mpath\u001b[0m\u001b[0;34m)\u001b[0m\u001b[0;34m\u001b[0m\u001b[0;34m\u001b[0m\u001b[0m\n\u001b[0m\u001b[1;32m    532\u001b[0m \u001b[0;34m\u001b[0m\u001b[0m\n\u001b[1;32m    533\u001b[0m \u001b[0;34m\u001b[0m\u001b[0m\n",
      "\u001b[0;31mOSError\u001b[0m: populations.txt not found."
     ]
    }
   ],
   "source": [
    "import os\n",
    "\n",
    "data=np.loadtxt('populations.txt')\n",
    "data"
   ]
  },
  {
   "cell_type": "code",
   "execution_count": null,
   "id": "ba1eb14c",
   "metadata": {},
   "outputs": [],
   "source": [
    "years, hares, lynxes, carrots=data.T"
   ]
  },
  {
   "cell_type": "code",
   "execution_count": null,
   "id": "4eeb99b9",
   "metadata": {},
   "outputs": [
    {
     "data": {
      "text/plain": [
       "array([1900., 1901., 1902., 1903., 1904., 1905., 1906., 1907., 1908.,\n",
       "       1909., 1910., 1911., 1912., 1913., 1914., 1915., 1916., 1917.,\n",
       "       1918., 1919., 1920.])"
      ]
     },
     "execution_count": 38,
     "metadata": {},
     "output_type": "execute_result"
    }
   ],
   "source": [
    "years"
   ]
  },
  {
   "cell_type": "code",
   "execution_count": null,
   "id": "6a5f5fb0",
   "metadata": {},
   "outputs": [
    {
     "data": {
      "text/plain": [
       "array([30000., 47200., 70200., 77400., 36300., 20600., 18100., 21400.,\n",
       "       22000., 25400., 27100., 40300., 57000., 76600., 52300., 19500.,\n",
       "       11200.,  7600., 14600., 16200., 24700.])"
      ]
     },
     "execution_count": 39,
     "metadata": {},
     "output_type": "execute_result"
    }
   ],
   "source": [
    "hares"
   ]
  },
  {
   "cell_type": "code",
   "execution_count": null,
   "id": "3a0d16c5",
   "metadata": {},
   "outputs": [
    {
     "data": {
      "text/plain": [
       "array([ 4000.,  6100.,  9800., 35200., 59400., 41700., 19000., 13000.,\n",
       "        8300.,  9100.,  7400.,  8000., 12300., 19500., 45700., 51100.,\n",
       "       29700., 15800.,  9700., 10100.,  8600.])"
      ]
     },
     "execution_count": 40,
     "metadata": {},
     "output_type": "execute_result"
    }
   ],
   "source": [
    "lynxes"
   ]
  },
  {
   "cell_type": "code",
   "execution_count": null,
   "id": "b0284714",
   "metadata": {},
   "outputs": [
    {
     "data": {
      "text/plain": [
       "array([48300., 48200., 41500., 38200., 40600., 39800., 38600., 42300.,\n",
       "       44500., 42100., 46000., 46800., 43800., 40900., 39400., 39000.,\n",
       "       36700., 41800., 43300., 41300., 47300.])"
      ]
     },
     "execution_count": 41,
     "metadata": {},
     "output_type": "execute_result"
    }
   ],
   "source": [
    "carrots"
   ]
  },
  {
   "cell_type": "code",
   "execution_count": null,
   "id": "522caa29",
   "metadata": {},
   "outputs": [
    {
     "data": {
      "text/plain": [
       "array([[30000.,  4000., 48300.],\n",
       "       [47200.,  6100., 48200.],\n",
       "       [70200.,  9800., 41500.],\n",
       "       [77400., 35200., 38200.],\n",
       "       [36300., 59400., 40600.],\n",
       "       [20600., 41700., 39800.],\n",
       "       [18100., 19000., 38600.],\n",
       "       [21400., 13000., 42300.],\n",
       "       [22000.,  8300., 44500.],\n",
       "       [25400.,  9100., 42100.],\n",
       "       [27100.,  7400., 46000.],\n",
       "       [40300.,  8000., 46800.],\n",
       "       [57000., 12300., 43800.],\n",
       "       [76600., 19500., 40900.],\n",
       "       [52300., 45700., 39400.],\n",
       "       [19500., 51100., 39000.],\n",
       "       [11200., 29700., 36700.],\n",
       "       [ 7600., 15800., 41800.],\n",
       "       [14600.,  9700., 43300.],\n",
       "       [16200., 10100., 41300.],\n",
       "       [24700.,  8600., 47300.]])"
      ]
     },
     "execution_count": 42,
     "metadata": {},
     "output_type": "execute_result"
    }
   ],
   "source": [
    "# excluding the year column\n",
    "populations=data[:,1:]\n",
    "populations"
   ]
  },
  {
   "cell_type": "code",
   "execution_count": null,
   "id": "84d60989",
   "metadata": {},
   "outputs": [
    {
     "data": {
      "text/plain": [
       "array([20897.90645809, 16254.59153691,  3322.50622558])"
      ]
     },
     "execution_count": 43,
     "metadata": {},
     "output_type": "execute_result"
    }
   ],
   "source": [
    "# to compute standard deviation\n",
    "\n",
    "populations.std(axis=0)"
   ]
  },
  {
   "cell_type": "code",
   "execution_count": null,
   "id": "223b8666",
   "metadata": {},
   "outputs": [
    {
     "data": {
      "text/plain": [
       "array([2, 2, 0, 0, 1, 1, 2, 2, 2, 2, 2, 2, 0, 0, 0, 1, 2, 2, 2, 2, 2])"
      ]
     },
     "execution_count": 44,
     "metadata": {},
     "output_type": "execute_result"
    }
   ],
   "source": [
    "# to find out which animal has highest population every year\n",
    "\n",
    "np.argmax(populations, axis=1)"
   ]
  },
  {
   "cell_type": "code",
   "execution_count": null,
   "id": "a78e38eb",
   "metadata": {},
   "outputs": [
    {
     "data": {
      "text/plain": [
       "array([1, 1, 1, 1, 0, 0, 0, 1, 1, 1, 1, 1, 1, 1, 2, 0, 0, 0, 1, 1, 1])"
      ]
     },
     "execution_count": 45,
     "metadata": {},
     "output_type": "execute_result"
    }
   ],
   "source": [
    "# to find out the which animal has lowest population every year\n",
    "\n",
    "np.argmin(populations, axis=1)"
   ]
  },
  {
   "cell_type": "code",
   "execution_count": null,
   "id": "b03afa1c",
   "metadata": {},
   "outputs": [
    {
     "name": "stdout",
     "output_type": "stream",
     "text": [
      "[[10 20 30 40 50 60 70 80 90]\n",
      " [10 20 30 40 50 60 70 80 90]\n",
      " [10 20 30 40 50 60 70 80 90]]\n"
     ]
    }
   ],
   "source": [
    "x=np.tile(np.arange(10,100,10),(3,1))\n",
    "print(x)"
   ]
  },
  {
   "cell_type": "code",
   "execution_count": null,
   "id": "a72b2f11",
   "metadata": {},
   "outputs": [
    {
     "name": "stdout",
     "output_type": "stream",
     "text": [
      "[[10 10 10]\n",
      " [20 20 20]\n",
      " [30 30 30]\n",
      " [40 40 40]\n",
      " [50 50 50]\n",
      " [60 60 60]\n",
      " [70 70 70]\n",
      " [80 80 80]\n",
      " [90 90 90]]\n"
     ]
    },
    {
     "data": {
      "text/plain": [
       "(9, 3)"
      ]
     },
     "execution_count": 47,
     "metadata": {},
     "output_type": "execute_result"
    }
   ],
   "source": [
    "print(x.T)\n",
    "x=x.T\n",
    "np.shape(x)"
   ]
  },
  {
   "cell_type": "code",
   "execution_count": null,
   "id": "07dd4ad3",
   "metadata": {},
   "outputs": [
    {
     "name": "stdout",
     "output_type": "stream",
     "text": [
      "(3,)\n",
      "[[11 12 13]\n",
      " [21 22 23]\n",
      " [31 32 33]\n",
      " [41 42 43]\n",
      " [51 52 53]\n",
      " [61 62 63]\n",
      " [71 72 73]\n",
      " [81 82 83]\n",
      " [91 92 93]]\n"
     ]
    }
   ],
   "source": [
    "y=np.array([1,2,3])\n",
    "print(np.shape(y))\n",
    "print(x+y)"
   ]
  },
  {
   "cell_type": "code",
   "execution_count": null,
   "id": "03739d8c",
   "metadata": {},
   "outputs": [
    {
     "name": "stdout",
     "output_type": "stream",
     "text": [
      "(4,)\n",
      "(4, 1)\n"
     ]
    }
   ],
   "source": [
    "a=np.array([1,2,3,4])\n",
    "print(np.shape(a))\n",
    "\n",
    "# adding new axis\n",
    "a=a[:,np.newaxis]\n",
    "print(np.shape(a))"
   ]
  },
  {
   "cell_type": "code",
   "execution_count": null,
   "id": "026a683e",
   "metadata": {},
   "outputs": [
    {
     "name": "stdout",
     "output_type": "stream",
     "text": [
      "[[1 2 3]\n",
      " [4 5 6]\n",
      " [6 7 8]]\n",
      "[1 2 3 4 5 6 6 7 8]\n"
     ]
    }
   ],
   "source": [
    "a=np.array([[1,2,3],[4,5,6],[6,7,8]])\n",
    "print(a)\n",
    "\n",
    "# flattening\n",
    "z= a.ravel()\n",
    "print(z)"
   ]
  },
  {
   "cell_type": "code",
   "execution_count": 40,
   "id": "918c92af",
   "metadata": {},
   "outputs": [
    {
     "name": "stdout",
     "output_type": "stream",
     "text": [
      "[[1 2 3]]\n"
     ]
    }
   ],
   "source": [
    "import numpy as np\n",
    "a=[1,2,3]\n",
    "b=np.expand_dims(a,axis=0)\n",
    "print(b)"
   ]
  },
  {
   "cell_type": "code",
   "execution_count": null,
   "id": "a89cf024",
   "metadata": {},
   "outputs": [
    {
     "name": "stdout",
     "output_type": "stream",
     "text": [
      "[[1 4 6]\n",
      " [2 5 7]\n",
      " [3 6 8]]\n"
     ]
    }
   ],
   "source": [
    "# transposing a matrix\n",
    "print(a.T)"
   ]
  },
  {
   "cell_type": "code",
   "execution_count": null,
   "id": "5b841fac",
   "metadata": {},
   "outputs": [
    {
     "name": "stdout",
     "output_type": "stream",
     "text": [
      "[[1 2 3]\n",
      " [4 5 6]\n",
      " [6 7 8]]\n"
     ]
    }
   ],
   "source": [
    "print(a)"
   ]
  },
  {
   "cell_type": "code",
   "execution_count": null,
   "id": "f5602c4e",
   "metadata": {},
   "outputs": [
    {
     "name": "stdout",
     "output_type": "stream",
     "text": [
      "[1 2 3 4 5 6 6 7 8]\n"
     ]
    },
    {
     "data": {
      "text/plain": [
       "array([[1, 2, 3],\n",
       "       [4, 5, 6],\n",
       "       [6, 7, 8]])"
      ]
     },
     "execution_count": 53,
     "metadata": {},
     "output_type": "execute_result"
    }
   ],
   "source": [
    "b=a.ravel()\n",
    "print(b)\n",
    "b.reshape((3,3))"
   ]
  },
  {
   "cell_type": "code",
   "execution_count": null,
   "id": "0ff57e4f",
   "metadata": {},
   "outputs": [
    {
     "name": "stdout",
     "output_type": "stream",
     "text": [
      "[3 4 2 0 1]\n"
     ]
    }
   ],
   "source": [
    "a=np.array([5,6,3,1,2])\n",
    "b=np.argsort(a)\n",
    "print(b)"
   ]
  },
  {
   "cell_type": "code",
   "execution_count": null,
   "id": "b298fe0f",
   "metadata": {},
   "outputs": [
    {
     "name": "stdout",
     "output_type": "stream",
     "text": [
      "[5 6 3 1 2]\n"
     ]
    }
   ],
   "source": [
    "print(a)"
   ]
  },
  {
   "cell_type": "code",
   "execution_count": null,
   "id": "44dd19be",
   "metadata": {},
   "outputs": [
    {
     "name": "stdout",
     "output_type": "stream",
     "text": [
      "[1 2 3 5 6]\n"
     ]
    }
   ],
   "source": [
    "a.sort()\n",
    "print(a)"
   ]
  },
  {
   "cell_type": "code",
   "execution_count": null,
   "id": "dbb615b0",
   "metadata": {},
   "outputs": [
    {
     "name": "stdout",
     "output_type": "stream",
     "text": [
      "[[[ 1  2  3]\n",
      "  [ 4  5  6]]\n",
      "\n",
      " [[ 6  7  8]\n",
      "  [ 8  9 10]]]\n"
     ]
    },
    {
     "data": {
      "text/plain": [
       "3"
      ]
     },
     "execution_count": 63,
     "metadata": {},
     "output_type": "execute_result"
    }
   ],
   "source": [
    "threedarr=np.array([[[1,2,3],[4,5,6]],[[6,7,8],[8,9,10]]])\n",
    "print(threedarr)\n",
    "threedarr.shape\n",
    "threedarr.ndim"
   ]
  },
  {
   "cell_type": "code",
   "execution_count": null,
   "id": "d7120404",
   "metadata": {},
   "outputs": [
    {
     "data": {
      "text/plain": [
       "array([ 1.,  8., 15., 22., 29., 36., 43., 50.])"
      ]
     },
     "execution_count": 70,
     "metadata": {},
     "output_type": "execute_result"
    }
   ],
   "source": [
    "np.linspace(1, 50, 8)"
   ]
  },
  {
   "cell_type": "code",
   "execution_count": null,
   "id": "c0ce977c",
   "metadata": {},
   "outputs": [
    {
     "data": {
      "text/plain": [
       "array([0., 0., 0., 0., 0., 0., 0., 0., 0., 0., 0., 0., 0., 0., 0.])"
      ]
     },
     "execution_count": 71,
     "metadata": {},
     "output_type": "execute_result"
    }
   ],
   "source": [
    "y=np.zeros(15)\n",
    "y"
   ]
  },
  {
   "cell_type": "code",
   "execution_count": null,
   "id": "1119bb43",
   "metadata": {},
   "outputs": [
    {
     "data": {
      "text/plain": [
       "[<matplotlib.lines.Line2D at 0x11cb2b790>]"
      ]
     },
     "execution_count": 77,
     "metadata": {},
     "output_type": "execute_result"
    },
    {
     "data": {
      "image/png": "[encoded data removed]",
      "text/plain": [
       "<Figure size 432x288 with 1 Axes>"
      ]
     },
     "metadata": {
      "needs_background": "light"
     },
     "output_type": "display_data"
    }
   ],
   "source": [
    "x=np.linspace(0,90,3)\n",
    "x\n",
    "y=np.sin(x)\n",
    "y\n",
    "\n",
    "import matplotlib.pyplot as plt\n",
    "plt.plot(x,y,'*')"
   ]
  },
  {
   "cell_type": "code",
   "execution_count": null,
   "id": "74c17971",
   "metadata": {},
   "outputs": [
    {
     "data": {
      "text/plain": [
       "array([2., 2.])"
      ]
     },
     "execution_count": 80,
     "metadata": {},
     "output_type": "execute_result"
    }
   ],
   "source": [
    "o = np.ones(2)+1\n",
    "o"
   ]
  },
  {
   "cell_type": "code",
   "execution_count": null,
   "id": "23e06a58",
   "metadata": {},
   "outputs": [
    {
     "name": "stdout",
     "output_type": "stream",
     "text": [
      "2\n",
      "[[3 3]\n",
      " [3 3]]\n"
     ]
    },
    {
     "data": {
      "text/plain": [
       "array([[6, 6],\n",
       "       [3, 3]])"
      ]
     },
     "execution_count": 87,
     "metadata": {},
     "output_type": "execute_result"
    }
   ],
   "source": [
    "x= np.array([[2,2],[1,1]])\n",
    "y=np.array([[3,3],[3,3]])\n",
    "print(x.ndim)\n",
    "print(y)\n",
    "x*y"
   ]
  },
  {
   "cell_type": "code",
   "execution_count": null,
   "id": "6d337ec4",
   "metadata": {},
   "outputs": [
    {
     "data": {
      "text/plain": [
       "[<matplotlib.lines.Line2D at 0x11d9f2230>]"
      ]
     },
     "execution_count": 111,
     "metadata": {},
     "output_type": "execute_result"
    },
    {
     "data": {
      "image/png": "[encoded data removed]",
      "text/plain": [
       "<Figure size 432x288 with 2 Axes>"
      ]
     },
     "metadata": {
      "needs_background": "light"
     },
     "output_type": "display_data"
    },
    {
     "data": {
      "image/png": "[encoded data removed]",
      "text/plain": [
       "<Figure size 432x288 with 1 Axes>"
      ]
     },
     "metadata": {
      "needs_background": "light"
     },
     "output_type": "display_data"
    },
    {
     "data": {
      "image/png": "[encoded data removed]",
      "text/plain": [
       "<Figure size 432x288 with 1 Axes>"
      ]
     },
     "metadata": {
      "needs_background": "light"
     },
     "output_type": "display_data"
    }
   ],
   "source": [
    "plt.figure(1)\n",
    "plt.subplot(211)\n",
    "x=np.arange(1,10)\n",
    "y=np.sin(x)\n",
    "plt.plot(x,y)\n",
    "plt.subplot(212)\n",
    "\n",
    "plt.figure(2)\n",
    "plt.plot(x,y)\n",
    "\n",
    "plt.figure(3)\n",
    "plt.subplot(311)\n",
    "plt.plot([1,2,3], [3,2,1])"
   ]
  },
  {
   "cell_type": "markdown",
   "id": "1fdf5f00",
   "metadata": {},
   "source": [
    "Slcing a 2D array"
   ]
  },
  {
   "cell_type": "code",
   "execution_count": 46,
   "id": "376f188f",
   "metadata": {},
   "outputs": [
    {
     "name": "stdout",
     "output_type": "stream",
     "text": [
      "[[5 0]\n",
      " [0 5]]\n"
     ]
    }
   ],
   "source": [
    "a=np.diag((5,5))\n",
    "print(a)"
   ]
  },
  {
   "cell_type": "code",
   "execution_count": 53,
   "id": "fd83c264",
   "metadata": {},
   "outputs": [
    {
     "name": "stdout",
     "output_type": "stream",
     "text": [
      "[[1 2]\n",
      " [3 4]\n",
      " [5 6]]\n",
      "[[1 2]\n",
      " [3 4]\n",
      " [5 6]]\n",
      "[]\n"
     ]
    }
   ],
   "source": [
    "b=np.array([[1,2],[3,4], [5,6]])\n",
    "print(b)\n",
    "\n",
    "print(b[:,:])\n"
   ]
  },
  {
   "cell_type": "code",
   "execution_count": 61,
   "id": "b55f60fc",
   "metadata": {},
   "outputs": [
    {
     "name": "stdout",
     "output_type": "stream",
     "text": [
      "[[4]\n",
      " [6]]\n"
     ]
    }
   ],
   "source": [
    "print(b[1:,1:])"
   ]
  },
  {
   "cell_type": "markdown",
   "id": "b5aee402",
   "metadata": {},
   "source": [
    "3D Array"
   ]
  },
  {
   "cell_type": "code",
   "execution_count": 67,
   "id": "ebae809a",
   "metadata": {},
   "outputs": [
    {
     "name": "stdout",
     "output_type": "stream",
     "text": [
      "[[[ 1  2]\n",
      "  [ 2  3]\n",
      "  [ 4  5]]\n",
      "\n",
      " [[ 6  7]\n",
      "  [ 8  9]\n",
      "  [10 11]]\n",
      "\n",
      " [[12 13]\n",
      "  [14 15]\n",
      "  [16 17]]]\n"
     ]
    }
   ],
   "source": [
    "threedimarr=np.array([[[1,2],[2,3],[4,5]], [[6,7],[8,9],[10,11]], [[12,13],[14,15],[16,17]]])\n",
    "print(threedimarr)"
   ]
  },
  {
   "cell_type": "code",
   "execution_count": 68,
   "id": "b4696ebe",
   "metadata": {},
   "outputs": [
    {
     "name": "stdout",
     "output_type": "stream",
     "text": [
      "[ 1  2  2  3  4  5  6  7  8  9 10 11 12 13 14 15 16 17]\n"
     ]
    }
   ],
   "source": [
    "print(threedimarr.flatten())"
   ]
  },
  {
   "cell_type": "code",
   "execution_count": 71,
   "metadata": {},
   "outputs": [
    {
     "name": "stdout",
     "output_type": "stream",
     "text": [
      "[[[ 8  9]\n",
      "  [10 11]]\n",
      "\n",
      " [[14 15]\n",
      "  [16 17]]]\n"
     ]
    }
   ],
   "source": [
    "print(threedimarr[1:,1:,0:])"
   ]
  },
  {
   "cell_type": "markdown",
   "id": "cb5eb82b",
   "metadata": {},
   "source": [
    "## Stacking and Concatentaing Arrays"
   ]
  },
  {
   "cell_type": "code",
   "execution_count": 78,
   "id": "c4465865",
   "metadata": {},
   "outputs": [
    {
     "name": "stdout",
     "output_type": "stream",
     "text": [
      "[[0 1 2 3 4]\n",
      " [5 6 7 8 9]]\n",
      "[0 1 2 3 4 5 6 7 8 9]\n"
     ]
    }
   ],
   "source": [
    "a=np.arange(0,5)\n",
    "b=np.arange(5,10)\n",
    "\n",
    "# Vertical stacking\n",
    "print(np.vstack((a,b)))\n",
    "\n",
    "# Horizontal stacking\n",
    "print(np.hstack((a,b)))"
   ]
  },
  {
   "cell_type": "code",
   "execution_count": 86,
   "id": "749299eb",
   "metadata": {},
   "outputs": [
    {
     "name": "stdout",
     "output_type": "stream",
     "text": [
      "[0 1 2 3 4 5 6 7 8 9]\n"
     ]
    }
   ],
   "source": [
    "a.reshape(1,5)\n",
    "b.reshape(1,5)\n",
    "\n",
    "print(np.concatenate((a,b),axis=0))"
   ]
  },
  {
   "cell_type": "code",
   "execution_count": 91,
   "id": "9e95cfa4",
   "metadata": {},
   "outputs": [
    {
     "data": {
      "text/plain": [
       "array([0, 1, 2, 3, 4, 5])"
      ]
     },
     "execution_count": 91,
     "metadata": {},
     "output_type": "execute_result"
    }
   ],
   "source": [
    "np.append(a, [5], axis=0)"
   ]
  },
  {
   "cell_type": "code",
   "execution_count": 94,
   "id": "9cdc2f87",
   "metadata": {},
   "outputs": [
    {
     "data": {
      "text/plain": [
       "array([[1, 2],\n",
       "       [3, 4]])"
      ]
     },
     "execution_count": 94,
     "metadata": {},
     "output_type": "execute_result"
    }
   ],
   "source": [
    "a=np.array([[1,2],[3,4]])\n",
    "a"
   ]
  },
  {
   "cell_type": "code",
   "execution_count": 101,
   "id": "8e8afeeb",
   "metadata": {},
   "outputs": [
    {
     "name": "stdout",
     "output_type": "stream",
     "text": [
      "[[1 2 5 6]\n",
      " [3 4 6 7]]\n",
      "[[1 2]\n",
      " [3 4]\n",
      " [5 6]\n",
      " [6 7]]\n"
     ]
    }
   ],
   "source": [
    "print(np.append(a,[[5,6],[6,7]], axis=1))\n",
    "print(np.append(a,[[5,6],[6,7]], axis=0))"
   ]
  },
  {
   "cell_type": "markdown",
   "id": "fdb29da9",
   "metadata": {},
   "source": [
    "## Broadcasting of arrays"
   ]
  },
  {
   "cell_type": "code",
   "execution_count": 103,
   "id": "1f8b6a3c",
   "metadata": {},
   "outputs": [
    {
     "name": "stdout",
     "output_type": "stream",
     "text": [
      "[0 1 2 3 4 5 6 7 8 9]\n",
      "[[2]\n",
      " [2]]\n",
      "[[ 2  3  4  5  6  7  8  9 10 11]\n",
      " [ 2  3  4  5  6  7  8  9 10 11]]\n"
     ]
    }
   ],
   "source": [
    "a=np.arange(0,10)\n",
    "print(a)\n",
    "print(b)\n",
    "b=np.array([[2],[2]])\n",
    "\n",
    "print(a+b)"
   ]
  },
  {
   "cell_type": "code",
   "execution_count": 105,
   "id": "42ac7571",
   "metadata": {},
   "outputs": [
    {
     "name": "stdout",
     "output_type": "stream",
     "text": [
      "[ 0  2  4  6  8 10 12 14 16 18]\n"
     ]
    }
   ],
   "source": [
    "print(a*2)"
   ]
  },
  {
   "cell_type": "code",
   "execution_count": 115,
   "id": "3b783e3d",
   "metadata": {},
   "outputs": [
    {
     "name": "stdout",
     "output_type": "stream",
     "text": [
      "[[1. 1. 1.]\n",
      " [1. 1. 1.]\n",
      " [1. 1. 1.]]\n",
      "[[3. 3. 3.]\n",
      " [3. 3. 3.]\n",
      " [3. 3. 3.]]\n"
     ]
    }
   ],
   "source": [
    "c=np.ones((3,3))\n",
    "print(c)\n",
    "\n",
    "d=np.array([2])\n",
    "\n",
    "print(c+d)"
   ]
  },
  {
   "cell_type": "code",
   "execution_count": 116,
   "id": "3af01994",
   "metadata": {},
   "outputs": [
    {
     "data": {
      "text/plain": [
       "array([0, 1, 2, 3, 4, 5, 6, 7, 8, 9])"
      ]
     },
     "execution_count": 116,
     "metadata": {},
     "output_type": "execute_result"
    }
   ],
   "source": [
    "a"
   ]
  },
  {
   "cell_type": "code",
   "execution_count": 118,
   "id": "ecfcbb1f",
   "metadata": {},
   "outputs": [
    {
     "name": "stdout",
     "output_type": "stream",
     "text": [
      "[0 1 0 1 0 1 0 1 0 1]\n",
      "[0 0 1 1 2 2 3 3 4 4]\n"
     ]
    }
   ],
   "source": [
    "print(a%2)\n",
    "print(a//2)"
   ]
  },
  {
   "cell_type": "code",
   "execution_count": 122,
   "id": "de82e7f8",
   "metadata": {},
   "outputs": [
    {
     "data": {
      "text/plain": [
       "0"
      ]
     },
     "execution_count": 122,
     "metadata": {},
     "output_type": "execute_result"
    }
   ],
   "source": [
    "np.min(a, axis=0)"
   ]
  },
  {
   "cell_type": "code",
   "execution_count": 124,
   "id": "5a927702",
   "metadata": {},
   "outputs": [
    {
     "data": {
      "text/plain": [
       "array([[2, 3],\n",
       "       [5, 6]])"
      ]
     },
     "execution_count": 124,
     "metadata": {},
     "output_type": "execute_result"
    }
   ],
   "source": [
    "a=np.array([[2,3], [5,6]])\n",
    "a"
   ]
  },
  {
   "cell_type": "code",
   "execution_count": 126,
   "id": "1d982cdd",
   "metadata": {},
   "outputs": [
    {
     "data": {
      "text/plain": [
       "array([5, 6])"
      ]
     },
     "execution_count": 126,
     "metadata": {},
     "output_type": "execute_result"
    }
   ],
   "source": [
    "np.min(a, axis=0)\n",
    "np.max(a, axis=0)"
   ]
  },
  {
   "cell_type": "code",
   "execution_count": 127,
   "id": "71a9015e",
   "metadata": {},
   "outputs": [
    {
     "name": "stdout",
     "output_type": "stream",
     "text": [
      "[2 5]\n"
     ]
    }
   ],
   "source": [
    "print(np.min(a, axis=1))"
   ]
  },
  {
   "cell_type": "markdown",
   "id": "2a3d4841",
   "metadata": {},
   "source": [
    "## Sorting in Numpy Arrays"
   ]
  },
  {
   "cell_type": "code",
   "execution_count": 129,
   "id": "7c126798",
   "metadata": {},
   "outputs": [
    {
     "data": {
      "text/plain": [
       "array([[2, 3],\n",
       "       [5, 6]])"
      ]
     },
     "execution_count": 129,
     "metadata": {},
     "output_type": "execute_result"
    }
   ],
   "source": [
    "np.sort(a, axis=0)"
   ]
  },
  {
   "cell_type": "code",
   "execution_count": 130,
   "id": "7dcadecf",
   "metadata": {},
   "outputs": [
    {
     "data": {
      "text/plain": [
       "array([[2, 3],\n",
       "       [5, 6]])"
      ]
     },
     "execution_count": 130,
     "metadata": {},
     "output_type": "execute_result"
    }
   ],
   "source": [
    "np.sort(a, axis=1)"
   ]
  },
  {
   "cell_type": "markdown",
   "id": "fdbe0175",
   "metadata": {},
   "source": [
    "## Numpy arrays and Images"
   ]
  },
  {
   "cell_type": "code",
   "execution_count": 5,
   "id": "e458d12e",
   "metadata": {},
   "outputs": [],
   "source": [
    "import numpy as np\n",
    "import matplotlib.pyplot as plt"
   ]
  },
  {
   "cell_type": "code",
   "execution_count": 9,
   "id": "ff2623d6",
   "metadata": {},
   "outputs": [
    {
     "name": "stdout",
     "output_type": "stream",
     "text": [
      "[[[202 172 149 255]\n",
      "  [207 179 154 255]\n",
      "  [212 183 157 255]\n",
      "  ...\n",
      "  [ 57  36  29 255]\n",
      "  [ 60  38  31 255]\n",
      "  [ 68  42  34 255]]\n",
      "\n",
      " [[202 172 149 255]\n",
      "  [206 177 152 255]\n",
      "  [210 181 157 255]\n",
      "  ...\n",
      "  [ 58  39  31 255]\n",
      "  [ 61  38  30 255]\n",
      "  [ 68  41  35 255]]\n",
      "\n",
      " [[203 173 149 255]\n",
      "  [208 178 153 255]\n",
      "  [211 181 157 255]\n",
      "  ...\n",
      "  [ 55  36  27 255]\n",
      "  [ 60  39  30 255]\n",
      "  [ 67  39  31 255]]\n",
      "\n",
      " ...\n",
      "\n",
      " [[ 29  34  55 255]\n",
      "  [ 30  36  55 255]\n",
      "  [ 31  39  59 255]\n",
      "  ...\n",
      "  [ 61  80 115 255]\n",
      "  [ 67  85 122 255]\n",
      "  [ 65  84 120 255]]\n",
      "\n",
      " [[ 27  32  51 255]\n",
      "  [ 29  34  55 255]\n",
      "  [ 30  38  58 255]\n",
      "  ...\n",
      "  [ 61  80 116 255]\n",
      "  [ 63  82 117 255]\n",
      "  [ 65  82 119 255]]\n",
      "\n",
      " [[ 76  80  98 255]\n",
      "  [ 75  82  98 255]\n",
      "  [ 77  84 100 255]\n",
      "  ...\n",
      "  [102 115 145 255]\n",
      "  [100 114 144 255]\n",
      "  [101 114 143 255]]]\n",
      "(705, 466, 4)\n",
      "3\n"
     ]
    }
   ],
   "source": [
    "# Read the image\n",
    "import imageio\n",
    "im = imageio.imread('/Users/jayraj/Applied_AI_Course/Applied_ai_course/Images/My pic.png')\n",
    "print(im)\n",
    "print(im.shape)\n",
    "print(im.ndim)"
   ]
  },
  {
   "cell_type": "code",
   "execution_count": 1,
   "id": "85619077",
   "metadata": {},
   "outputs": [
    {
     "name": "stdout",
     "output_type": "stream",
     "text": [
      "Hello\n"
     ]
    }
   ],
   "source": []
  },
  {
   "cell_type": "code",
   "execution_count": null,
   "id": "fa723ca5",
   "metadata": {},
   "outputs": [],
   "source": []
  }
 ],
 "metadata": {
  "kernelspec": {
   "display_name": "Python 3 (ipykernel)",
   "language": "python",
   "name": "python3"
  },
  "language_info": {
   "codemirror_mode": {
    "name": "ipython",
    "version": 3
   },
   "file_extension": ".py",
   "mimetype": "text/x-python",
   "name": "python",
   "nbconvert_exporter": "python",
   "pygments_lexer": "ipython3",
   "version": "3.9.7"
  }
 },
 "nbformat": 4,
 "nbformat_minor": 5
}
