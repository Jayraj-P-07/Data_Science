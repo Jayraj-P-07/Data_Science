{
 "cells": [
  {
   "cell_type": "code",
   "execution_count": null,
   "metadata": {},
   "outputs": [],
   "source": []
  },
  {
   "cell_type": "markdown",
   "metadata": {},
   "source": [
    "## To find confidence interval of mean, median, standard deviation of given random variable of any distribution using Bootstrapping\n",
    "- Computational technique\n",
    "- Non parametric statistics"
   ]
  },
  {
   "cell_type": "code",
   "execution_count": 30,
   "metadata": {},
   "outputs": [],
   "source": [
    "import numpy\n",
    "from pandas import read_csv\n",
    "from sklearn.utils import resample\n",
    "from matplotlib import pyplot"
   ]
  },
  {
   "cell_type": "code",
   "execution_count": 31,
   "metadata": {},
   "outputs": [
    {
     "data": {
      "text/plain": [
       "array([179, 165, 159, 155, 170, 166, 176, 187, 171, 174])"
      ]
     },
     "execution_count": 31,
     "metadata": {},
     "output_type": "execute_result"
    }
   ],
   "source": [
    "# loading dataset\n",
    "x= numpy.array([179, 165, 159, 155, 170, 166, 176, 187, 171, 174])\n",
    "x"
   ]
  },
  {
   "cell_type": "code",
   "execution_count": 32,
   "metadata": {},
   "outputs": [],
   "source": [
    "# configuring bootstrap\n",
    "n_iterations =1000\n",
    "n_size=int(len(x))"
   ]
  },
  {
   "cell_type": "code",
   "execution_count": 33,
   "metadata": {},
   "outputs": [],
   "source": [
    "# running bootstrap\n",
    "medians=list()\n",
    "for i in range(n_iterations):\n",
    "    # prepare train and test sets\n",
    "    s=resample(x, n_samples=n_size)\n",
    "    m=numpy.median(s)\n",
    "    medians.append(m)"
   ]
  },
  {
   "cell_type": "code",
   "execution_count": 34,
   "metadata": {},
   "outputs": [
    {
     "data": {
      "image/png": "[encoded data removed]",
      "text/plain": [
       "<Figure size 432x288 with 1 Axes>"
      ]
     },
     "metadata": {
      "needs_background": "light"
     },
     "output_type": "display_data"
    }
   ],
   "source": [
    "# plot scores\n",
    "pyplot.hist(medians)\n",
    "pyplot.show()"
   ]
  },
  {
   "cell_type": "code",
   "execution_count": 35,
   "metadata": {},
   "outputs": [
    {
     "name": "stdout",
     "output_type": "stream",
     "text": [
      "95.0 confidence interval 162.5 and 176.0\n"
     ]
    }
   ],
   "source": [
    "# computing confidence interval of median at 95%\n",
    "alpha=0.95\n",
    "p=((1.0-alpha)/2.0)*100 # 2.5%\n",
    "lower = numpy.percentile(medians, p)\n",
    "\n",
    "p=(alpha+((1.0-alpha)/2.0))*100\n",
    "upper=numpy.percentile(medians, p)\n",
    "print('%.1f confidence interval %.1f and %.1f' %(alpha*100,lower, upper))\n"
   ]
  },
  {
   "cell_type": "code",
   "execution_count": null,
   "metadata": {},
   "outputs": [],
   "source": []
  }
 ],
 "metadata": {
  "interpreter": {
   "hash": "aee8b7b246df8f9039afb4144a1f6fd8d2ca17a180786b69acc140d282b71a49"
  },
  "kernelspec": {
   "display_name": "Python 3.10.0 64-bit",
   "language": "python",
   "name": "python3"
  },
  "language_info": {
   "codemirror_mode": {
    "name": "ipython",
    "version": 3
   },
   "file_extension": ".py",
   "mimetype": "text/x-python",
   "name": "python",
   "nbconvert_exporter": "python",
   "pygments_lexer": "ipython3",
   "version": "3.10.0"
  },
  "orig_nbformat": 4
 },
 "nbformat": 4,
 "nbformat_minor": 2
}
