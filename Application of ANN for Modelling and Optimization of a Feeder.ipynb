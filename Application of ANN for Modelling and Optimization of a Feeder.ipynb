{
 "cells": [
  {
   "cell_type": "code",
   "execution_count": 1,
   "metadata": {},
   "outputs": [],
   "source": [
    "import pandas as pd\n",
    "import numpy as np\n",
    "import warnings\n",
    "warnings.filterwarnings(\"ignore\")"
   ]
  },
  {
   "cell_type": "code",
   "execution_count": 2,
   "metadata": {},
   "outputs": [
    {
     "data": {
      "text/html": [
       "<div>\n",
       "<style scoped>\n",
       "    .dataframe tbody tr th:only-of-type {\n",
       "        vertical-align: middle;\n",
       "    }\n",
       "\n",
       "    .dataframe tbody tr th {\n",
       "        vertical-align: top;\n",
       "    }\n",
       "\n",
       "    .dataframe thead th {\n",
       "        text-align: right;\n",
       "    }\n",
       "</style>\n",
       "<table border=\"1\" class=\"dataframe\">\n",
       "  <thead>\n",
       "    <tr style=\"text-align: right;\">\n",
       "      <th></th>\n",
       "      <th>1</th>\n",
       "      <th>40</th>\n",
       "      <th>50</th>\n",
       "      <th>50.1</th>\n",
       "      <th>135.13</th>\n",
       "    </tr>\n",
       "  </thead>\n",
       "  <tbody>\n",
       "    <tr>\n",
       "      <th>0</th>\n",
       "      <td>2</td>\n",
       "      <td>12</td>\n",
       "      <td>75</td>\n",
       "      <td>50</td>\n",
       "      <td>25.63</td>\n",
       "    </tr>\n",
       "    <tr>\n",
       "      <th>1</th>\n",
       "      <td>3</td>\n",
       "      <td>16</td>\n",
       "      <td>25</td>\n",
       "      <td>30</td>\n",
       "      <td>32.93</td>\n",
       "    </tr>\n",
       "    <tr>\n",
       "      <th>2</th>\n",
       "      <td>4</td>\n",
       "      <td>12</td>\n",
       "      <td>25</td>\n",
       "      <td>50</td>\n",
       "      <td>25.22</td>\n",
       "    </tr>\n",
       "    <tr>\n",
       "      <th>3</th>\n",
       "      <td>5</td>\n",
       "      <td>24</td>\n",
       "      <td>50</td>\n",
       "      <td>50</td>\n",
       "      <td>69.41</td>\n",
       "    </tr>\n",
       "    <tr>\n",
       "      <th>4</th>\n",
       "      <td>6</td>\n",
       "      <td>32</td>\n",
       "      <td>75</td>\n",
       "      <td>30</td>\n",
       "      <td>80.22</td>\n",
       "    </tr>\n",
       "  </tbody>\n",
       "</table>\n",
       "</div>"
      ],
      "text/plain": [
       "   1  40  50  50.1  135.13\n",
       "0  2  12  75    50   25.63\n",
       "1  3  16  25    30   32.93\n",
       "2  4  12  25    50   25.22\n",
       "3  5  24  50    50   69.41\n",
       "4  6  32  75    30   80.22"
      ]
     },
     "execution_count": 2,
     "metadata": {},
     "output_type": "execute_result"
    }
   ],
   "source": [
    "data=pd.read_csv(r\"C:\\Users\\ASUS\\Desktop\\Applied_AI_Course\\Ritu Project\\Feeder data for ANN.csv\")\n",
    "data.head()"
   ]
  },
  {
   "cell_type": "code",
   "execution_count": 3,
   "metadata": {},
   "outputs": [
    {
     "data": {
      "text/plain": [
       "(89, 5)"
      ]
     },
     "execution_count": 3,
     "metadata": {},
     "output_type": "execute_result"
    }
   ],
   "source": [
    "data.shape"
   ]
  },
  {
   "cell_type": "code",
   "execution_count": 4,
   "metadata": {},
   "outputs": [],
   "source": [
    "data.columns=['sl', 'No. of metering holes', 'Drum fill level (%)','Shaft speed (rpm)','Feed rate (kg/ha)']"
   ]
  },
  {
   "cell_type": "code",
   "execution_count": 5,
   "metadata": {},
   "outputs": [
    {
     "name": "stdout",
     "output_type": "stream",
     "text": [
      "    No. of metering holes  Drum fill level (%)  Shaft speed (rpm)\n",
      "0                      12                   75                 50\n",
      "1                      16                   25                 30\n",
      "2                      12                   25                 50\n",
      "3                      24                   50                 50\n",
      "4                      32                   75                 30\n",
      "..                    ...                  ...                ...\n",
      "84                      8                   25                 50\n",
      "85                     36                   50                 40\n",
      "86                      4                   75                 50\n",
      "87                     20                   75                 40\n",
      "88                     16                   50                 50\n",
      "\n",
      "[89 rows x 3 columns]     Feed rate (kg/ha)\n",
      "0               25.63\n",
      "1               32.93\n",
      "2               25.22\n",
      "3               69.41\n",
      "4               80.22\n",
      "..                ...\n",
      "84              15.05\n",
      "85             142.99\n",
      "86               7.57\n",
      "87              47.97\n",
      "88              42.66\n",
      "\n",
      "[89 rows x 1 columns]\n"
     ]
    }
   ],
   "source": [
    "# Separate Target Variable and Predictor Variables\n",
    "X=data[['No. of metering holes', 'Drum fill level (%)','Shaft speed (rpm)']]\n",
    "y=data[['Feed rate (kg/ha)']]\n",
    "print(X,y)"
   ]
  },
  {
   "cell_type": "code",
   "execution_count": 6,
   "metadata": {},
   "outputs": [
    {
     "name": "stdout",
     "output_type": "stream",
     "text": [
      "(62, 3)\n",
      "(62, 1)\n",
      "(27, 3)\n",
      "(27, 1)\n"
     ]
    }
   ],
   "source": [
    "### Sandardization of data ###\n",
    "from sklearn.preprocessing import StandardScaler\n",
    "PredictorScaler=StandardScaler()\n",
    "TargetVarScaler=StandardScaler()\n",
    "\n",
    "# Storing the fit object for later reference\n",
    "PredictorScalerFit=PredictorScaler.fit(X)\n",
    "TargetVarScalerFit=TargetVarScaler.fit(y)\n",
    "\n",
    "# Generating the standardized values of X and y\n",
    "X=PredictorScalerFit.transform(X)\n",
    "y=TargetVarScalerFit.transform(y)\n",
    "\n",
    "# Split the data into training and testing set\n",
    "from sklearn.model_selection import train_test_split\n",
    "X_train, X_test, y_train, y_test = train_test_split(X, y, test_size=0.3, random_state=42)\n",
    "\n",
    "# Quick sanity check with the shapes of Training and testing datasets\n",
    "print(X_train.shape)\n",
    "print(y_train.shape)\n",
    "print(X_test.shape)\n",
    "print(y_test.shape)"
   ]
  },
  {
   "cell_type": "code",
   "execution_count": 7,
   "metadata": {},
   "outputs": [
    {
     "data": {
      "text/plain": [
       "\"\\ntraindata=pd.DataFrame(TargetVarScalerFit.inverse_transform(y_test))\\ntraindata.to_excel('y_test(ANN).xlsx', sheet_name='sheet1', index=False)\\n\\n\""
      ]
     },
     "execution_count": 7,
     "metadata": {},
     "output_type": "execute_result"
    }
   ],
   "source": [
    "# Code for extracting x, y train and test into an excel file\n",
    "\n",
    "'''\n",
    "traindata=pd.DataFrame(TargetVarScalerFit.inverse_transform(y_test))\n",
    "traindata.to_excel('y_test(ANN).xlsx', sheet_name='sheet1', index=False)\n",
    "\n",
    "'''"
   ]
  },
  {
   "cell_type": "code",
   "execution_count": 8,
   "metadata": {},
   "outputs": [
    {
     "name": "stdout",
     "output_type": "stream",
     "text": [
      "Epoch 1/50\n",
      "4/4 [==============================] - 0s 1ms/step - loss: 1.1180\n",
      "Epoch 2/50\n",
      "4/4 [==============================] - 0s 1ms/step - loss: 1.1176\n",
      "Epoch 3/50\n",
      "4/4 [==============================] - 0s 359us/step - loss: 1.1172\n",
      "Epoch 4/50\n",
      "4/4 [==============================] - 0s 0s/step - loss: 1.1170\n",
      "Epoch 5/50\n",
      "4/4 [==============================] - 0s 3ms/step - loss: 1.1168\n",
      "Epoch 6/50\n",
      "4/4 [==============================] - 0s 999us/step - loss: 1.1165\n",
      "Epoch 7/50\n",
      "4/4 [==============================] - 0s 1ms/step - loss: 1.1159\n",
      "Epoch 8/50\n",
      "4/4 [==============================] - 0s 1000us/step - loss: 1.1154\n",
      "Epoch 9/50\n",
      "4/4 [==============================] - 0s 667us/step - loss: 1.1150\n",
      "Epoch 10/50\n",
      "4/4 [==============================] - 0s 666us/step - loss: 1.1143\n",
      "Epoch 11/50\n",
      "4/4 [==============================] - 0s 1ms/step - loss: 1.1134\n",
      "Epoch 12/50\n",
      "4/4 [==============================] - 0s 666us/step - loss: 1.1121\n",
      "Epoch 13/50\n",
      "4/4 [==============================] - 0s 667us/step - loss: 1.1111\n",
      "Epoch 14/50\n",
      "4/4 [==============================] - 0s 1000us/step - loss: 1.1092\n",
      "Epoch 15/50\n",
      "4/4 [==============================] - 0s 996us/step - loss: 1.1073\n",
      "Epoch 16/50\n",
      "4/4 [==============================] - 0s 667us/step - loss: 1.1049\n",
      "Epoch 17/50\n",
      "4/4 [==============================] - 0s 666us/step - loss: 1.1018\n",
      "Epoch 18/50\n",
      "4/4 [==============================] - 0s 666us/step - loss: 1.0987\n",
      "Epoch 19/50\n",
      "4/4 [==============================] - 0s 1000us/step - loss: 1.0948\n",
      "Epoch 20/50\n",
      "4/4 [==============================] - 0s 667us/step - loss: 1.0908\n",
      "Epoch 21/50\n",
      "4/4 [==============================] - 0s 668us/step - loss: 1.0851\n",
      "Epoch 22/50\n",
      "4/4 [==============================] - 0s 666us/step - loss: 1.0794\n",
      "Epoch 23/50\n",
      "4/4 [==============================] - 0s 1000us/step - loss: 1.0719\n",
      "Epoch 24/50\n",
      "4/4 [==============================] - 0s 667us/step - loss: 1.0637\n",
      "Epoch 25/50\n",
      "4/4 [==============================] - 0s 667us/step - loss: 1.0542\n",
      "Epoch 26/50\n",
      "4/4 [==============================] - 0s 1000us/step - loss: 1.0440\n",
      "Epoch 27/50\n",
      "4/4 [==============================] - 0s 667us/step - loss: 1.0321\n",
      "Epoch 28/50\n",
      "4/4 [==============================] - 0s 1ms/step - loss: 1.0192\n",
      "Epoch 29/50\n",
      "4/4 [==============================] - 0s 667us/step - loss: 1.0049\n",
      "Epoch 30/50\n",
      "4/4 [==============================] - 0s 1ms/step - loss: 0.9910\n",
      "Epoch 31/50\n",
      "4/4 [==============================] - 0s 714us/step - loss: 0.9733\n",
      "Epoch 32/50\n",
      "4/4 [==============================] - 0s 844us/step - loss: 0.9552\n",
      "Epoch 33/50\n",
      "4/4 [==============================] - 0s 1ms/step - loss: 0.9342\n",
      "Epoch 34/50\n",
      "4/4 [==============================] - 0s 667us/step - loss: 0.9136\n",
      "Epoch 35/50\n",
      "4/4 [==============================] - 0s 667us/step - loss: 0.8921\n",
      "Epoch 36/50\n",
      "4/4 [==============================] - 0s 913us/step - loss: 0.8678\n",
      "Epoch 37/50\n",
      "4/4 [==============================] - 0s 1000us/step - loss: 0.8424\n",
      "Epoch 38/50\n",
      "4/4 [==============================] - 0s 667us/step - loss: 0.8166\n",
      "Epoch 39/50\n",
      "4/4 [==============================] - 0s 667us/step - loss: 0.7892\n",
      "Epoch 40/50\n",
      "4/4 [==============================] - 0s 1000us/step - loss: 0.7612\n",
      "Epoch 41/50\n",
      "4/4 [==============================] - 0s 666us/step - loss: 0.7311\n",
      "Epoch 42/50\n",
      "4/4 [==============================] - 0s 1000us/step - loss: 0.7030\n",
      "Epoch 43/50\n",
      "4/4 [==============================] - 0s 1000us/step - loss: 0.6698\n",
      "Epoch 44/50\n",
      "4/4 [==============================] - 0s 667us/step - loss: 0.6367\n",
      "Epoch 45/50\n",
      "4/4 [==============================] - 0s 1ms/step - loss: 0.6033\n",
      "Epoch 46/50\n",
      "4/4 [==============================] - 0s 1000us/step - loss: 0.5697\n",
      "Epoch 47/50\n",
      "4/4 [==============================] - 0s 667us/step - loss: 0.5370\n",
      "Epoch 48/50\n",
      "4/4 [==============================] - 0s 1ms/step - loss: 0.5066\n",
      "Epoch 49/50\n",
      "4/4 [==============================] - 0s 667us/step - loss: 0.4787\n",
      "Epoch 50/50\n",
      "4/4 [==============================] - 0s 1000us/step - loss: 0.4529\n"
     ]
    },
    {
     "data": {
      "text/plain": [
       "<keras.callbacks.History at 0x2bc1ab44dc0>"
      ]
     },
     "execution_count": 8,
     "metadata": {},
     "output_type": "execute_result"
    }
   ],
   "source": [
    "# importing the libraries\n",
    "from keras.models import Sequential\n",
    "from keras.layers import Dense\n",
    "\n",
    "# create ANN model\n",
    "model = Sequential()\n",
    "\n",
    "# Defining the Input layer and FIRST hidden layer, both are same!\n",
    "model.add(Dense(units=5, input_dim=3, kernel_initializer='normal', activation='relu'))\n",
    "\n",
    "# Defining the Second layer of the model\n",
    "# after the first layer we don't have to specify input_dim as keras configure it automatically\n",
    "model.add(Dense(units=5, kernel_initializer='normal', activation='tanh'))\n",
    "\n",
    "# The output neuron is a single fully connected node \n",
    "# Since we will be predicting a single number\n",
    "model.add(Dense(1, kernel_initializer='normal'))\n",
    "\n",
    "# Compiling the model\n",
    "model.compile(loss='mean_squared_error', optimizer='adam')\n",
    "\n",
    "# Fitting the ANN to the Training set\n",
    "model.fit(X_train, y_train ,batch_size = 20, epochs = 50, verbose=1)"
   ]
  },
  {
   "cell_type": "markdown",
   "metadata": {},
   "source": [
    "## Finding best set of parameters using manual grid search"
   ]
  },
  {
   "cell_type": "code",
   "execution_count": 9,
   "metadata": {},
   "outputs": [
    {
     "name": "stdout",
     "output_type": "stream",
     "text": [
      "1/1 [==============================] - 0s 70ms/step\n",
      "1 Parameters: batch_size: 5 - epochs: 5 Accuracy: 121.92948442365787\n",
      "1/1 [==============================] - 0s 31ms/step\n",
      "2 Parameters: batch_size: 5 - epochs: 10 Accuracy: 113.15920761514882\n",
      "1/1 [==============================] - 0s 26ms/step\n",
      "3 Parameters: batch_size: 5 - epochs: 50 Accuracy: 93.0703256828271\n",
      "1/1 [==============================] - 0s 27ms/step\n",
      "4 Parameters: batch_size: 5 - epochs: 100 Accuracy: 98.32445854941157\n",
      "WARNING:tensorflow:5 out of the last 5 calls to <function Model.make_predict_function.<locals>.predict_function at 0x000002BC1D545310> triggered tf.function retracing. Tracing is expensive and the excessive number of tracings could be due to (1) creating @tf.function repeatedly in a loop, (2) passing tensors with different shapes, (3) passing Python objects instead of tensors. For (1), please define your @tf.function outside of the loop. For (2), @tf.function has reduce_retracing=True option that can avoid unnecessary retracing. For (3), please refer to https://www.tensorflow.org/guide/function#controlling_retracing and https://www.tensorflow.org/api_docs/python/tf/function for  more details.\n",
      "1/1 [==============================] - 0s 41ms/step\n",
      "5 Parameters: batch_size: 5 - epochs: 500 Accuracy: 111.57095302480103\n",
      "WARNING:tensorflow:6 out of the last 6 calls to <function Model.make_predict_function.<locals>.predict_function at 0x000002BC1D68AD30> triggered tf.function retracing. Tracing is expensive and the excessive number of tracings could be due to (1) creating @tf.function repeatedly in a loop, (2) passing tensors with different shapes, (3) passing Python objects instead of tensors. For (1), please define your @tf.function outside of the loop. For (2), @tf.function has reduce_retracing=True option that can avoid unnecessary retracing. For (3), please refer to https://www.tensorflow.org/guide/function#controlling_retracing and https://www.tensorflow.org/api_docs/python/tf/function for  more details.\n",
      "1/1 [==============================] - 0s 35ms/step\n",
      "6 Parameters: batch_size: 10 - epochs: 5 Accuracy: 119.52476343239266\n",
      "1/1 [==============================] - 0s 27ms/step\n",
      "7 Parameters: batch_size: 10 - epochs: 10 Accuracy: 122.27840732191204\n",
      "1/1 [==============================] - 0s 25ms/step\n",
      "8 Parameters: batch_size: 10 - epochs: 50 Accuracy: 102.8800101308658\n",
      "1/1 [==============================] - 0s 26ms/step\n",
      "9 Parameters: batch_size: 10 - epochs: 100 Accuracy: 86.62646600880713\n",
      "1/1 [==============================] - 0s 28ms/step\n",
      "10 Parameters: batch_size: 10 - epochs: 500 Accuracy: 100.61858805785228\n",
      "1/1 [==============================] - 0s 27ms/step\n",
      "11 Parameters: batch_size: 15 - epochs: 5 Accuracy: 120.92063933864155\n",
      "1/1 [==============================] - 0s 27ms/step\n",
      "12 Parameters: batch_size: 15 - epochs: 10 Accuracy: 121.85392479610034\n",
      "1/1 [==============================] - 0s 27ms/step\n",
      "13 Parameters: batch_size: 15 - epochs: 50 Accuracy: 114.82545242693881\n",
      "1/1 [==============================] - 0s 27ms/step\n",
      "14 Parameters: batch_size: 15 - epochs: 100 Accuracy: 92.47845511996483\n",
      "1/1 [==============================] - 0s 26ms/step\n",
      "15 Parameters: batch_size: 15 - epochs: 500 Accuracy: 98.50097183264462\n",
      "1/1 [==============================] - 0s 28ms/step\n",
      "16 Parameters: batch_size: 20 - epochs: 5 Accuracy: 118.21197634084032\n",
      "1/1 [==============================] - 0s 27ms/step\n",
      "17 Parameters: batch_size: 20 - epochs: 10 Accuracy: 120.36891283527716\n",
      "1/1 [==============================] - 0s 27ms/step\n",
      "18 Parameters: batch_size: 20 - epochs: 50 Accuracy: 96.64581521867096\n",
      "1/1 [==============================] - 0s 27ms/step\n",
      "19 Parameters: batch_size: 20 - epochs: 100 Accuracy: 80.6000488335931\n",
      "1/1 [==============================] - 0s 27ms/step\n",
      "20 Parameters: batch_size: 20 - epochs: 500 Accuracy: 91.05453661440393\n"
     ]
    }
   ],
   "source": [
    "# Defining a function to find the best parameters for ANN\n",
    "def FunctionFindBestParams(X_train, y_train, X_test, y_test):\n",
    "    \n",
    "    # Defining the list of hyper parameters to try\n",
    "    batch_size_list=[5, 10, 15, 20]\n",
    "    epoch_list  =   [5, 10, 50, 100, 500]\n",
    "    \n",
    "    import pandas as pd\n",
    "    SearchResultsData=pd.DataFrame(columns=['TrialNumber', 'Parameters', 'Accuracy'])\n",
    "    \n",
    "    # initializing the trials\n",
    "    TrialNumber=0\n",
    "    for batch_size_trial in batch_size_list:\n",
    "        for epochs_trial in epoch_list:\n",
    "            TrialNumber+=1\n",
    "            # create ANN model\n",
    "            model = Sequential()\n",
    "            # Defining the first layer of the model\n",
    "            model.add(Dense(units=5, input_dim=X_train.shape[1], kernel_initializer='normal', activation='relu'))\n",
    "\n",
    "            # Defining the Second layer of the model\n",
    "            model.add(Dense(units=5, kernel_initializer='normal', activation='relu'))\n",
    "\n",
    "            # The output neuron is a single fully connected node \n",
    "            # Since we will be predicting a single number\n",
    "            model.add(Dense(1, kernel_initializer='normal'))\n",
    "\n",
    "            # Compiling the model\n",
    "            model.compile(loss='mean_squared_error', optimizer='adam')\n",
    "\n",
    "            # Fitting the ANN to the Training set\n",
    "            model.fit(X_train, y_train ,batch_size = batch_size_trial, epochs = epochs_trial, verbose=0)\n",
    "\n",
    "            MAPE = np.mean(100 * (np.abs(y_test-model.predict(X_test))/y_test))\n",
    "            \n",
    "            # printing the results of the current iteration\n",
    "            print(TrialNumber, 'Parameters:','batch_size:', batch_size_trial,'-', 'epochs:',epochs_trial, 'Accuracy:', 100-MAPE)\n",
    "            \n",
    "            SearchResultsData=SearchResultsData.append(pd.DataFrame(data=[[TrialNumber, str(batch_size_trial)+'-'+str(epochs_trial), 100-MAPE]],\n",
    "                                                                    columns=['TrialNumber', 'Parameters', 'Accuracy'] ))\n",
    "    return(SearchResultsData)\n",
    "\n",
    "\n",
    "######################################################\n",
    "# Calling the function\n",
    "ResultsData=FunctionFindBestParams(X_train, y_train, X_test, y_test)"
   ]
  },
  {
   "cell_type": "code",
   "execution_count": 10,
   "metadata": {},
   "outputs": [
    {
     "data": {
      "text/plain": [
       "<AxesSubplot:xlabel='Parameters'>"
      ]
     },
     "execution_count": 10,
     "metadata": {},
     "output_type": "execute_result"
    },
    {
     "data": {
      "image/png": "[encoded data removed]",
      "text/plain": [
       "<Figure size 1080x288 with 1 Axes>"
      ]
     },
     "metadata": {
      "needs_background": "light"
     },
     "output_type": "display_data"
    }
   ],
   "source": [
    "%matplotlib inline\n",
    "ResultsData.plot(x='Parameters', y='Accuracy', figsize=(15,4), kind='line')"
   ]
  },
  {
   "cell_type": "code",
   "execution_count": 22,
   "metadata": {},
   "outputs": [
    {
     "name": "stdout",
     "output_type": "stream",
     "text": [
      "2/2 [==============================] - 0s 2ms/step\n"
     ]
    },
    {
     "data": {
      "text/html": [
       "<div>\n",
       "<style scoped>\n",
       "    .dataframe tbody tr th:only-of-type {\n",
       "        vertical-align: middle;\n",
       "    }\n",
       "\n",
       "    .dataframe tbody tr th {\n",
       "        vertical-align: top;\n",
       "    }\n",
       "\n",
       "    .dataframe thead th {\n",
       "        text-align: right;\n",
       "    }\n",
       "</style>\n",
       "<table border=\"1\" class=\"dataframe\">\n",
       "  <thead>\n",
       "    <tr style=\"text-align: right;\">\n",
       "      <th></th>\n",
       "      <th>No. of metering holes</th>\n",
       "      <th>Drum fill level (%)</th>\n",
       "      <th>Shaft speed (rpm)</th>\n",
       "      <th>Feed rate (kg/ha)</th>\n",
       "      <th>Predicted Feed rate (kg/ha)</th>\n",
       "    </tr>\n",
       "  </thead>\n",
       "  <tbody>\n",
       "    <tr>\n",
       "      <th>0</th>\n",
       "      <td>40.0</td>\n",
       "      <td>75.0</td>\n",
       "      <td>40.0</td>\n",
       "      <td>93.73</td>\n",
       "      <td>92.401207</td>\n",
       "    </tr>\n",
       "    <tr>\n",
       "      <th>1</th>\n",
       "      <td>4.0</td>\n",
       "      <td>25.0</td>\n",
       "      <td>40.0</td>\n",
       "      <td>10.35</td>\n",
       "      <td>10.716393</td>\n",
       "    </tr>\n",
       "    <tr>\n",
       "      <th>2</th>\n",
       "      <td>36.0</td>\n",
       "      <td>50.0</td>\n",
       "      <td>30.0</td>\n",
       "      <td>157.16</td>\n",
       "      <td>157.040039</td>\n",
       "    </tr>\n",
       "    <tr>\n",
       "      <th>3</th>\n",
       "      <td>16.0</td>\n",
       "      <td>25.0</td>\n",
       "      <td>50.0</td>\n",
       "      <td>26.67</td>\n",
       "      <td>33.228558</td>\n",
       "    </tr>\n",
       "    <tr>\n",
       "      <th>4</th>\n",
       "      <td>36.0</td>\n",
       "      <td>75.0</td>\n",
       "      <td>50.0</td>\n",
       "      <td>85.72</td>\n",
       "      <td>82.828735</td>\n",
       "    </tr>\n",
       "  </tbody>\n",
       "</table>\n",
       "</div>"
      ],
      "text/plain": [
       "   No. of metering holes  Drum fill level (%)  Shaft speed (rpm)  \\\n",
       "0                   40.0                 75.0               40.0   \n",
       "1                    4.0                 25.0               40.0   \n",
       "2                   36.0                 50.0               30.0   \n",
       "3                   16.0                 25.0               50.0   \n",
       "4                   36.0                 75.0               50.0   \n",
       "\n",
       "   Feed rate (kg/ha)  Predicted Feed rate (kg/ha)  \n",
       "0              93.73                    92.401207  \n",
       "1              10.35                    10.716393  \n",
       "2             157.16                   157.040039  \n",
       "3              26.67                    33.228558  \n",
       "4              85.72                    82.828735  "
      ]
     },
     "execution_count": 22,
     "metadata": {},
     "output_type": "execute_result"
    }
   ],
   "source": [
    "# Fitting the ANN to the Training set\n",
    "model.fit(X_train, y_train ,batch_size = 10, epochs = 350, verbose=0)\n",
    "\n",
    "# Generating Predictions on training data\n",
    "Predictions=model.predict(X_train)\n",
    "\n",
    "# Scaling the predicted Price data back to original price scale\n",
    "Predictions=TargetVarScalerFit.inverse_transform(Predictions)\n",
    "\n",
    "# Scaling the y_test Price data back to original price scale\n",
    "y_train_orig=TargetVarScalerFit.inverse_transform(y_train)\n",
    "\n",
    "# Scaling the test data back to original scale\n",
    "Train_Data=PredictorScalerFit.inverse_transform(X_train)\n",
    "\n",
    "TrainingData=pd.DataFrame(data=Train_Data, columns=['No. of metering holes', 'Drum fill level (%)','Shaft speed (rpm)'])\n",
    "TrainingData['Feed rate (kg/ha)']=y_train_orig\n",
    "TrainingData['Predicted Feed rate (kg/ha)']=Predictions\n",
    "TrainingData.head()\n"
   ]
  },
  {
   "cell_type": "code",
   "execution_count": 24,
   "metadata": {},
   "outputs": [
    {
     "name": "stdout",
     "output_type": "stream",
     "text": [
      "The Accuracy of ANN model is: 90.3368434987109\n"
     ]
    },
    {
     "data": {
      "text/html": [
       "<div>\n",
       "<style scoped>\n",
       "    .dataframe tbody tr th:only-of-type {\n",
       "        vertical-align: middle;\n",
       "    }\n",
       "\n",
       "    .dataframe tbody tr th {\n",
       "        vertical-align: top;\n",
       "    }\n",
       "\n",
       "    .dataframe thead th {\n",
       "        text-align: right;\n",
       "    }\n",
       "</style>\n",
       "<table border=\"1\" class=\"dataframe\">\n",
       "  <thead>\n",
       "    <tr style=\"text-align: right;\">\n",
       "      <th></th>\n",
       "      <th>No. of metering holes</th>\n",
       "      <th>Drum fill level (%)</th>\n",
       "      <th>Shaft speed (rpm)</th>\n",
       "      <th>Feed rate (kg/ha)</th>\n",
       "      <th>Predicted Feed rate (kg/ha)</th>\n",
       "      <th>APE</th>\n",
       "    </tr>\n",
       "  </thead>\n",
       "  <tbody>\n",
       "    <tr>\n",
       "      <th>0</th>\n",
       "      <td>40.0</td>\n",
       "      <td>75.0</td>\n",
       "      <td>40.0</td>\n",
       "      <td>93.73</td>\n",
       "      <td>92.401207</td>\n",
       "      <td>1.417682</td>\n",
       "    </tr>\n",
       "    <tr>\n",
       "      <th>1</th>\n",
       "      <td>4.0</td>\n",
       "      <td>25.0</td>\n",
       "      <td>40.0</td>\n",
       "      <td>10.35</td>\n",
       "      <td>10.716393</td>\n",
       "      <td>3.540024</td>\n",
       "    </tr>\n",
       "    <tr>\n",
       "      <th>2</th>\n",
       "      <td>36.0</td>\n",
       "      <td>50.0</td>\n",
       "      <td>30.0</td>\n",
       "      <td>157.16</td>\n",
       "      <td>157.040039</td>\n",
       "      <td>0.076330</td>\n",
       "    </tr>\n",
       "    <tr>\n",
       "      <th>3</th>\n",
       "      <td>16.0</td>\n",
       "      <td>25.0</td>\n",
       "      <td>50.0</td>\n",
       "      <td>26.67</td>\n",
       "      <td>33.228558</td>\n",
       "      <td>24.591517</td>\n",
       "    </tr>\n",
       "    <tr>\n",
       "      <th>4</th>\n",
       "      <td>36.0</td>\n",
       "      <td>75.0</td>\n",
       "      <td>50.0</td>\n",
       "      <td>85.72</td>\n",
       "      <td>82.828735</td>\n",
       "      <td>3.372917</td>\n",
       "    </tr>\n",
       "  </tbody>\n",
       "</table>\n",
       "</div>"
      ],
      "text/plain": [
       "   No. of metering holes  Drum fill level (%)  Shaft speed (rpm)  \\\n",
       "0                   40.0                 75.0               40.0   \n",
       "1                    4.0                 25.0               40.0   \n",
       "2                   36.0                 50.0               30.0   \n",
       "3                   16.0                 25.0               50.0   \n",
       "4                   36.0                 75.0               50.0   \n",
       "\n",
       "   Feed rate (kg/ha)  Predicted Feed rate (kg/ha)        APE  \n",
       "0              93.73                    92.401207   1.417682  \n",
       "1              10.35                    10.716393   3.540024  \n",
       "2             157.16                   157.040039   0.076330  \n",
       "3              26.67                    33.228558  24.591517  \n",
       "4              85.72                    82.828735   3.372917  "
      ]
     },
     "execution_count": 24,
     "metadata": {},
     "output_type": "execute_result"
    }
   ],
   "source": [
    "# Computing the absolute percent error\n",
    "APE=100*(abs(TrainingData['Feed rate (kg/ha)']-TrainingData['Predicted Feed rate (kg/ha)'])/TrainingData['Feed rate (kg/ha)'])\n",
    "TrainingData['APE']=APE\n",
    "\n",
    "print('The Accuracy of ANN model is:', 100-np.mean(APE))\n",
    "TrainingData.head()"
   ]
  },
  {
   "cell_type": "code",
   "execution_count": 25,
   "metadata": {},
   "outputs": [],
   "source": [
    "TrainingData.to_excel('Training data results by ANN.xlsx', sheet_name='sheet1', index=False)"
   ]
  },
  {
   "cell_type": "code",
   "execution_count": 57,
   "metadata": {},
   "outputs": [
    {
     "data": {
      "image/png": "[encoded data removed]",
      "text/plain": [
       "<Figure size 432x288 with 1 Axes>"
      ]
     },
     "metadata": {
      "needs_background": "light"
     },
     "output_type": "display_data"
    }
   ],
   "source": [
    "import matplotlib.pyplot as plt\n",
    "\n",
    "plt.plot(TrainingData['Feed rate (kg/ha)'], color = 'red', label = 'Real data')\n",
    "plt.plot(TrainingData['Predicted Feed rate (kg/ha)'], color = 'blue', label = 'Predicted data')\n",
    "plt.title('Prediction on Training Data by ANN')\n",
    "plt.xlabel('Data')\n",
    "plt.ylabel('Feed rate (kg/ha)')\n",
    "plt.legend()\n",
    "plt.show()"
   ]
  },
  {
   "cell_type": "code",
   "execution_count": 28,
   "metadata": {},
   "outputs": [
    {
     "name": "stdout",
     "output_type": "stream",
     "text": [
      "Mean Squared Error : 31.381405382912952\n",
      "The co-efficient of determination =  0.9835266008886249\n",
      "RMSE 5.6019108688833095\n"
     ]
    }
   ],
   "source": [
    "from sklearn.metrics import r2_score\n",
    "from sklearn.metrics import mean_squared_error\n",
    "\n",
    "print('Mean Squared Error :', mean_squared_error(TrainingData['Feed rate (kg/ha)'], TrainingData['Predicted Feed rate (kg/ha)']))\n",
    "from sklearn.metrics import r2_score\n",
    "r2 = r2_score(TrainingData['Feed rate (kg/ha)'], TrainingData['Predicted Feed rate (kg/ha)'])\n",
    "print('The co-efficient of determination = ', r2)\n",
    "print(\"RMSE\",np.sqrt(mean_squared_error(TrainingData['Feed rate (kg/ha)'], TrainingData['Predicted Feed rate (kg/ha)'])))"
   ]
  },
  {
   "cell_type": "markdown",
   "metadata": {},
   "source": [
    "## Testing ANN"
   ]
  },
  {
   "cell_type": "code",
   "execution_count": 31,
   "metadata": {},
   "outputs": [
    {
     "name": "stdout",
     "output_type": "stream",
     "text": [
      "1/1 [==============================] - 0s 9ms/step\n"
     ]
    },
    {
     "data": {
      "text/html": [
       "<div>\n",
       "<style scoped>\n",
       "    .dataframe tbody tr th:only-of-type {\n",
       "        vertical-align: middle;\n",
       "    }\n",
       "\n",
       "    .dataframe tbody tr th {\n",
       "        vertical-align: top;\n",
       "    }\n",
       "\n",
       "    .dataframe thead th {\n",
       "        text-align: right;\n",
       "    }\n",
       "</style>\n",
       "<table border=\"1\" class=\"dataframe\">\n",
       "  <thead>\n",
       "    <tr style=\"text-align: right;\">\n",
       "      <th></th>\n",
       "      <th>No. of metering holes</th>\n",
       "      <th>Drum fill level (%)</th>\n",
       "      <th>Shaft speed (rpm)</th>\n",
       "      <th>Feed rate (kg/ha)</th>\n",
       "      <th>Predicted Feed rate (kg/ha)</th>\n",
       "    </tr>\n",
       "  </thead>\n",
       "  <tbody>\n",
       "    <tr>\n",
       "      <th>0</th>\n",
       "      <td>12.0</td>\n",
       "      <td>50.0</td>\n",
       "      <td>50.0</td>\n",
       "      <td>32.73</td>\n",
       "      <td>30.850895</td>\n",
       "    </tr>\n",
       "    <tr>\n",
       "      <th>1</th>\n",
       "      <td>28.0</td>\n",
       "      <td>25.0</td>\n",
       "      <td>40.0</td>\n",
       "      <td>97.57</td>\n",
       "      <td>88.727936</td>\n",
       "    </tr>\n",
       "    <tr>\n",
       "      <th>2</th>\n",
       "      <td>8.0</td>\n",
       "      <td>50.0</td>\n",
       "      <td>50.0</td>\n",
       "      <td>19.94</td>\n",
       "      <td>21.948238</td>\n",
       "    </tr>\n",
       "    <tr>\n",
       "      <th>3</th>\n",
       "      <td>24.0</td>\n",
       "      <td>50.0</td>\n",
       "      <td>30.0</td>\n",
       "      <td>84.35</td>\n",
       "      <td>85.258713</td>\n",
       "    </tr>\n",
       "    <tr>\n",
       "      <th>4</th>\n",
       "      <td>24.0</td>\n",
       "      <td>25.0</td>\n",
       "      <td>50.0</td>\n",
       "      <td>50.12</td>\n",
       "      <td>54.738121</td>\n",
       "    </tr>\n",
       "  </tbody>\n",
       "</table>\n",
       "</div>"
      ],
      "text/plain": [
       "   No. of metering holes  Drum fill level (%)  Shaft speed (rpm)  \\\n",
       "0                   12.0                 50.0               50.0   \n",
       "1                   28.0                 25.0               40.0   \n",
       "2                    8.0                 50.0               50.0   \n",
       "3                   24.0                 50.0               30.0   \n",
       "4                   24.0                 25.0               50.0   \n",
       "\n",
       "   Feed rate (kg/ha)  Predicted Feed rate (kg/ha)  \n",
       "0              32.73                    30.850895  \n",
       "1              97.57                    88.727936  \n",
       "2              19.94                    21.948238  \n",
       "3              84.35                    85.258713  \n",
       "4              50.12                    54.738121  "
      ]
     },
     "execution_count": 31,
     "metadata": {},
     "output_type": "execute_result"
    }
   ],
   "source": [
    "# Fitting the ANN to the Training set\n",
    "model.fit(X_train, y_train ,batch_size = 10, epochs = 350, verbose=0)\n",
    "\n",
    "# Generating Predictions on testing data\n",
    "Predictions=model.predict(X_test)\n",
    "\n",
    "# Scaling the predicted Price data back to original price scale\n",
    "Predictions=TargetVarScalerFit.inverse_transform(Predictions)\n",
    "\n",
    "# Scaling the y_test Price data back to original price scale\n",
    "y_test_orig=TargetVarScalerFit.inverse_transform(y_test)\n",
    "\n",
    "# Scaling the test data back to original scale\n",
    "Test_Data=PredictorScalerFit.inverse_transform(X_test)\n",
    "\n",
    "TestingData=pd.DataFrame(data=Test_Data, columns=['No. of metering holes', 'Drum fill level (%)','Shaft speed (rpm)'])\n",
    "TestingData['Feed rate (kg/ha)']=y_test_orig\n",
    "TestingData['Predicted Feed rate (kg/ha)']=Predictions\n",
    "TestingData.head()"
   ]
  },
  {
   "cell_type": "code",
   "execution_count": 33,
   "metadata": {},
   "outputs": [
    {
     "name": "stdout",
     "output_type": "stream",
     "text": [
      "The Accuracy of ANN model is: 92.28076355391539\n"
     ]
    },
    {
     "data": {
      "text/html": [
       "<div>\n",
       "<style scoped>\n",
       "    .dataframe tbody tr th:only-of-type {\n",
       "        vertical-align: middle;\n",
       "    }\n",
       "\n",
       "    .dataframe tbody tr th {\n",
       "        vertical-align: top;\n",
       "    }\n",
       "\n",
       "    .dataframe thead th {\n",
       "        text-align: right;\n",
       "    }\n",
       "</style>\n",
       "<table border=\"1\" class=\"dataframe\">\n",
       "  <thead>\n",
       "    <tr style=\"text-align: right;\">\n",
       "      <th></th>\n",
       "      <th>No. of metering holes</th>\n",
       "      <th>Drum fill level (%)</th>\n",
       "      <th>Shaft speed (rpm)</th>\n",
       "      <th>Feed rate (kg/ha)</th>\n",
       "      <th>Predicted Feed rate (kg/ha)</th>\n",
       "      <th>APE</th>\n",
       "    </tr>\n",
       "  </thead>\n",
       "  <tbody>\n",
       "    <tr>\n",
       "      <th>0</th>\n",
       "      <td>12.0</td>\n",
       "      <td>50.0</td>\n",
       "      <td>50.0</td>\n",
       "      <td>32.73</td>\n",
       "      <td>30.850895</td>\n",
       "      <td>5.741232</td>\n",
       "    </tr>\n",
       "    <tr>\n",
       "      <th>1</th>\n",
       "      <td>28.0</td>\n",
       "      <td>25.0</td>\n",
       "      <td>40.0</td>\n",
       "      <td>97.57</td>\n",
       "      <td>88.727936</td>\n",
       "      <td>9.062278</td>\n",
       "    </tr>\n",
       "    <tr>\n",
       "      <th>2</th>\n",
       "      <td>8.0</td>\n",
       "      <td>50.0</td>\n",
       "      <td>50.0</td>\n",
       "      <td>19.94</td>\n",
       "      <td>21.948238</td>\n",
       "      <td>10.071406</td>\n",
       "    </tr>\n",
       "    <tr>\n",
       "      <th>3</th>\n",
       "      <td>24.0</td>\n",
       "      <td>50.0</td>\n",
       "      <td>30.0</td>\n",
       "      <td>84.35</td>\n",
       "      <td>85.258713</td>\n",
       "      <td>1.077312</td>\n",
       "    </tr>\n",
       "    <tr>\n",
       "      <th>4</th>\n",
       "      <td>24.0</td>\n",
       "      <td>25.0</td>\n",
       "      <td>50.0</td>\n",
       "      <td>50.12</td>\n",
       "      <td>54.738121</td>\n",
       "      <td>9.214128</td>\n",
       "    </tr>\n",
       "  </tbody>\n",
       "</table>\n",
       "</div>"
      ],
      "text/plain": [
       "   No. of metering holes  Drum fill level (%)  Shaft speed (rpm)  \\\n",
       "0                   12.0                 50.0               50.0   \n",
       "1                   28.0                 25.0               40.0   \n",
       "2                    8.0                 50.0               50.0   \n",
       "3                   24.0                 50.0               30.0   \n",
       "4                   24.0                 25.0               50.0   \n",
       "\n",
       "   Feed rate (kg/ha)  Predicted Feed rate (kg/ha)        APE  \n",
       "0              32.73                    30.850895   5.741232  \n",
       "1              97.57                    88.727936   9.062278  \n",
       "2              19.94                    21.948238  10.071406  \n",
       "3              84.35                    85.258713   1.077312  \n",
       "4              50.12                    54.738121   9.214128  "
      ]
     },
     "execution_count": 33,
     "metadata": {},
     "output_type": "execute_result"
    }
   ],
   "source": [
    "# Computing the absolute percent error\n",
    "APE=100*(abs(TestingData['Feed rate (kg/ha)']-TestingData['Predicted Feed rate (kg/ha)'])/TestingData['Feed rate (kg/ha)'])\n",
    "TestingData['APE']=APE\n",
    "\n",
    "print('The Accuracy of ANN model is:', 100-np.mean(APE))\n",
    "TestingData.head()"
   ]
  },
  {
   "cell_type": "code",
   "execution_count": 36,
   "metadata": {},
   "outputs": [],
   "source": [
    "TestingData.to_excel('Testing data results by ANN.xlsx', sheet_name='sheet1', index=False)"
   ]
  },
  {
   "cell_type": "code",
   "execution_count": 58,
   "metadata": {},
   "outputs": [
    {
     "data": {
      "image/png": "[encoded data removed]",
      "text/plain": [
       "<Figure size 432x288 with 1 Axes>"
      ]
     },
     "metadata": {
      "needs_background": "light"
     },
     "output_type": "display_data"
    }
   ],
   "source": [
    "import matplotlib.pyplot as plt\n",
    "\n",
    "plt.plot(TestingData['Feed rate (kg/ha)'], color = 'red', label = 'Real data')\n",
    "plt.plot(TestingData['Predicted Feed rate (kg/ha)'], color = 'blue', label = 'Predicted data')\n",
    "plt.title('Prediction on Testing Data by ANN')\n",
    "plt.xlabel('Data')\n",
    "plt.ylabel('Feed rate (kg/ha)')\n",
    "plt.legend()\n",
    "plt.show()"
   ]
  },
  {
   "cell_type": "code",
   "execution_count": 38,
   "metadata": {},
   "outputs": [
    {
     "name": "stdout",
     "output_type": "stream",
     "text": [
      "Mean Squared Error : 15.093505749299156\n",
      "The co-efficient of determination =  0.9874471027543894\n",
      "RMSE 3.8850361323029103\n"
     ]
    }
   ],
   "source": [
    "from sklearn.metrics import r2_score\n",
    "from sklearn.metrics import mean_squared_error\n",
    "\n",
    "print('Mean Squared Error :', mean_squared_error(TestingData['Feed rate (kg/ha)'], TestingData['Predicted Feed rate (kg/ha)']))\n",
    "from sklearn.metrics import r2_score\n",
    "r2 = r2_score(TestingData['Feed rate (kg/ha)'], TestingData['Predicted Feed rate (kg/ha)'])\n",
    "print('The co-efficient of determination = ', r2)\n",
    "print(\"RMSE\",np.sqrt(mean_squared_error(TestingData['Feed rate (kg/ha)'], TestingData['Predicted Feed rate (kg/ha)'])))"
   ]
  },
  {
   "cell_type": "code",
   "execution_count": 40,
   "metadata": {},
   "outputs": [],
   "source": [
    "TestingData.to_excel('Testing data results by ANN.xlsx', sheet_name='sheet1', index=False)"
   ]
  },
  {
   "cell_type": "markdown",
   "metadata": {},
   "source": [
    "## RSM results analysis"
   ]
  },
  {
   "cell_type": "code",
   "execution_count": 44,
   "metadata": {},
   "outputs": [
    {
     "data": {
      "text/html": [
       "<div>\n",
       "<style scoped>\n",
       "    .dataframe tbody tr th:only-of-type {\n",
       "        vertical-align: middle;\n",
       "    }\n",
       "\n",
       "    .dataframe tbody tr th {\n",
       "        vertical-align: top;\n",
       "    }\n",
       "\n",
       "    .dataframe thead th {\n",
       "        text-align: right;\n",
       "    }\n",
       "</style>\n",
       "<table border=\"1\" class=\"dataframe\">\n",
       "  <thead>\n",
       "    <tr style=\"text-align: right;\">\n",
       "      <th></th>\n",
       "      <th>Sl No.</th>\n",
       "      <th>No. of metering holes</th>\n",
       "      <th>Shaft speed (rpm)</th>\n",
       "      <th>Drum fill level (%)</th>\n",
       "      <th>Feed rate (kg/ha)</th>\n",
       "      <th>Feed rate predicted by model</th>\n",
       "    </tr>\n",
       "  </thead>\n",
       "  <tbody>\n",
       "    <tr>\n",
       "      <th>0</th>\n",
       "      <td>1</td>\n",
       "      <td>40</td>\n",
       "      <td>50</td>\n",
       "      <td>50</td>\n",
       "      <td>135.13</td>\n",
       "      <td>120.52</td>\n",
       "    </tr>\n",
       "    <tr>\n",
       "      <th>1</th>\n",
       "      <td>2</td>\n",
       "      <td>12</td>\n",
       "      <td>50</td>\n",
       "      <td>75</td>\n",
       "      <td>25.63</td>\n",
       "      <td>21.94</td>\n",
       "    </tr>\n",
       "    <tr>\n",
       "      <th>2</th>\n",
       "      <td>3</td>\n",
       "      <td>16</td>\n",
       "      <td>30</td>\n",
       "      <td>25</td>\n",
       "      <td>32.93</td>\n",
       "      <td>44.69</td>\n",
       "    </tr>\n",
       "    <tr>\n",
       "      <th>3</th>\n",
       "      <td>4</td>\n",
       "      <td>12</td>\n",
       "      <td>50</td>\n",
       "      <td>25</td>\n",
       "      <td>25.22</td>\n",
       "      <td>14.57</td>\n",
       "    </tr>\n",
       "    <tr>\n",
       "      <th>4</th>\n",
       "      <td>5</td>\n",
       "      <td>24</td>\n",
       "      <td>50</td>\n",
       "      <td>50</td>\n",
       "      <td>69.41</td>\n",
       "      <td>69.13</td>\n",
       "    </tr>\n",
       "  </tbody>\n",
       "</table>\n",
       "</div>"
      ],
      "text/plain": [
       "   Sl No.  No. of metering holes  Shaft speed (rpm)  Drum fill level (%)  \\\n",
       "0       1                     40                 50                   50   \n",
       "1       2                     12                 50                   75   \n",
       "2       3                     16                 30                   25   \n",
       "3       4                     12                 50                   25   \n",
       "4       5                     24                 50                   50   \n",
       "\n",
       "   Feed rate (kg/ha)  Feed rate predicted by model  \n",
       "0             135.13                        120.52  \n",
       "1              25.63                         21.94  \n",
       "2              32.93                         44.69  \n",
       "3              25.22                         14.57  \n",
       "4              69.41                         69.13  "
      ]
     },
     "execution_count": 44,
     "metadata": {},
     "output_type": "execute_result"
    }
   ],
   "source": [
    "data_RSM_train=pd.read_csv(r\"C:\\Users\\ASUS\\Desktop\\Applied_AI_Course\\Ritu Project\\Train data (RSM).csv\")\n",
    "data_RSM_train.head()"
   ]
  },
  {
   "cell_type": "code",
   "execution_count": 48,
   "metadata": {},
   "outputs": [
    {
     "data": {
      "image/png": "[encoded data removed]",
      "text/plain": [
       "<Figure size 432x288 with 1 Axes>"
      ]
     },
     "metadata": {
      "needs_background": "light"
     },
     "output_type": "display_data"
    }
   ],
   "source": [
    "import matplotlib.pyplot as plt\n",
    "\n",
    "plt.plot(data_RSM_train['Feed rate (kg/ha)'], color = 'red', label = 'Real data')\n",
    "plt.plot(data_RSM_train['Feed rate predicted by model'], color = 'blue', label = 'Predicted data')\n",
    "plt.title('Prediction on Training Data by RSM')\n",
    "plt.xlabel('Data')\n",
    "plt.ylabel('Feed rate (kg/ha)')\n",
    "plt.legend()\n",
    "plt.show()"
   ]
  },
  {
   "cell_type": "code",
   "execution_count": 46,
   "metadata": {},
   "outputs": [
    {
     "name": "stdout",
     "output_type": "stream",
     "text": [
      "Mean Squared Error : 88.5763761904762\n",
      "The co-efficient of determination =  0.953376549125267\n",
      "RMSE 9.411502334403163\n"
     ]
    }
   ],
   "source": [
    "print('Mean Squared Error :', mean_squared_error(data_RSM_train['Feed rate (kg/ha)'], data_RSM_train['Feed rate predicted by model']))\n",
    "from sklearn.metrics import r2_score\n",
    "r2 = r2_score(data_RSM_train['Feed rate (kg/ha)'], data_RSM_train['Feed rate predicted by model'])\n",
    "print('The co-efficient of determination = ', r2)\n",
    "print(\"RMSE\",np.sqrt(mean_squared_error(data_RSM_train['Feed rate (kg/ha)'], data_RSM_train['Feed rate predicted by model'])))"
   ]
  },
  {
   "cell_type": "code",
   "execution_count": 54,
   "metadata": {},
   "outputs": [
    {
     "data": {
      "text/html": [
       "<div>\n",
       "<style scoped>\n",
       "    .dataframe tbody tr th:only-of-type {\n",
       "        vertical-align: middle;\n",
       "    }\n",
       "\n",
       "    .dataframe tbody tr th {\n",
       "        vertical-align: top;\n",
       "    }\n",
       "\n",
       "    .dataframe thead th {\n",
       "        text-align: right;\n",
       "    }\n",
       "</style>\n",
       "<table border=\"1\" class=\"dataframe\">\n",
       "  <thead>\n",
       "    <tr style=\"text-align: right;\">\n",
       "      <th></th>\n",
       "      <th>Sl No.</th>\n",
       "      <th>No. of metering holes (A)</th>\n",
       "      <th>Shaft speed (rpm) (B)</th>\n",
       "      <th>Drum fill level (%) C</th>\n",
       "      <th>Actual Feed rate (kg/ha)</th>\n",
       "      <th>Feed rate predicted by equation from RSM</th>\n",
       "    </tr>\n",
       "  </thead>\n",
       "  <tbody>\n",
       "    <tr>\n",
       "      <th>0</th>\n",
       "      <td>1</td>\n",
       "      <td>12</td>\n",
       "      <td>30</td>\n",
       "      <td>25</td>\n",
       "      <td>29.32</td>\n",
       "      <td>28.55</td>\n",
       "    </tr>\n",
       "    <tr>\n",
       "      <th>1</th>\n",
       "      <td>2</td>\n",
       "      <td>16</td>\n",
       "      <td>30</td>\n",
       "      <td>50</td>\n",
       "      <td>43.44</td>\n",
       "      <td>56.29</td>\n",
       "    </tr>\n",
       "    <tr>\n",
       "      <th>2</th>\n",
       "      <td>3</td>\n",
       "      <td>16</td>\n",
       "      <td>40</td>\n",
       "      <td>75</td>\n",
       "      <td>30.50</td>\n",
       "      <td>37.48</td>\n",
       "    </tr>\n",
       "    <tr>\n",
       "      <th>3</th>\n",
       "      <td>4</td>\n",
       "      <td>8</td>\n",
       "      <td>40</td>\n",
       "      <td>50</td>\n",
       "      <td>24.59</td>\n",
       "      <td>37.55</td>\n",
       "    </tr>\n",
       "    <tr>\n",
       "      <th>4</th>\n",
       "      <td>5</td>\n",
       "      <td>28</td>\n",
       "      <td>50</td>\n",
       "      <td>25</td>\n",
       "      <td>60.48</td>\n",
       "      <td>66.60</td>\n",
       "    </tr>\n",
       "  </tbody>\n",
       "</table>\n",
       "</div>"
      ],
      "text/plain": [
       "   Sl No.  No. of metering holes (A)  Shaft speed (rpm) (B)  \\\n",
       "0       1                         12                     30   \n",
       "1       2                         16                     30   \n",
       "2       3                         16                     40   \n",
       "3       4                          8                     40   \n",
       "4       5                         28                     50   \n",
       "\n",
       "   Drum fill level (%) C  Actual Feed rate (kg/ha)  \\\n",
       "0                     25                     29.32   \n",
       "1                     50                     43.44   \n",
       "2                     75                     30.50   \n",
       "3                     50                     24.59   \n",
       "4                     25                     60.48   \n",
       "\n",
       "   Feed rate predicted by equation from RSM  \n",
       "0                                     28.55  \n",
       "1                                     56.29  \n",
       "2                                     37.48  \n",
       "3                                     37.55  \n",
       "4                                     66.60  "
      ]
     },
     "execution_count": 54,
     "metadata": {},
     "output_type": "execute_result"
    }
   ],
   "source": [
    "data_RSM_test=pd.read_csv(r\"C:\\Users\\ASUS\\Desktop\\Applied_AI_Course\\Ritu Project\\Test data (RSM).csv\")\n",
    "data_RSM_test.head()"
   ]
  },
  {
   "cell_type": "code",
   "execution_count": 55,
   "metadata": {},
   "outputs": [
    {
     "data": {
      "image/png": "[encoded data removed]",
      "text/plain": [
       "<Figure size 432x288 with 1 Axes>"
      ]
     },
     "metadata": {
      "needs_background": "light"
     },
     "output_type": "display_data"
    }
   ],
   "source": [
    "import matplotlib.pyplot as plt\n",
    "\n",
    "plt.plot(data_RSM_test['Actual Feed rate (kg/ha)'], color = 'red', label = 'Real data')\n",
    "plt.plot(data_RSM_test['Feed rate predicted by equation from RSM'], color = 'blue', label = 'Predicted data')\n",
    "plt.title('Prediction on Testing Data by RSM')\n",
    "plt.xlabel('Data')\n",
    "plt.ylabel('Feed rate (kg/ha)')\n",
    "plt.legend()\n",
    "plt.show()"
   ]
  },
  {
   "cell_type": "code",
   "execution_count": 56,
   "metadata": {},
   "outputs": [
    {
     "name": "stdout",
     "output_type": "stream",
     "text": [
      "Mean Squared Error : 57.66803703703707\n",
      "The co-efficient of determination =  0.9586082479085758\n",
      "RMSE 7.593947394934802\n"
     ]
    }
   ],
   "source": [
    "print('Mean Squared Error :', mean_squared_error(data_RSM_test['Actual Feed rate (kg/ha)'], data_RSM_test['Feed rate predicted by equation from RSM']))\n",
    "from sklearn.metrics import r2_score\n",
    "r2 = r2_score(data_RSM_test['Actual Feed rate (kg/ha)'], data_RSM_test['Feed rate predicted by equation from RSM'])\n",
    "print('The co-efficient of determination = ', r2)\n",
    "print(\"RMSE\",np.sqrt(mean_squared_error(data_RSM_test['Actual Feed rate (kg/ha)'], data_RSM_test['Feed rate predicted by equation from RSM'])))"
   ]
  }
 ],
 "metadata": {
  "kernelspec": {
   "display_name": "Python 3.9.12 ('base')",
   "language": "python",
   "name": "python3"
  },
  "language_info": {
   "codemirror_mode": {
    "name": "ipython",
    "version": 3
   },
   "file_extension": ".py",
   "mimetype": "text/x-python",
   "name": "python",
   "nbconvert_exporter": "python",
   "pygments_lexer": "ipython3",
   "version": "3.9.12"
  },
  "orig_nbformat": 4,
  "vscode": {
   "interpreter": {
    "hash": "a90aeebcf29d64a654773811cc170cb25061cb2498f10ac689db374c7bf325de"
   }
  }
 },
 "nbformat": 4,
 "nbformat_minor": 2
}
