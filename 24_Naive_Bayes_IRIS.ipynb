{
 "cells": [
  {
   "cell_type": "code",
   "execution_count": 1,
   "metadata": {},
   "outputs": [],
   "source": [
    "import numpy as np\n",
    "import pandas as pd\n",
    "import matplotlib.pyplot as plt\n"
   ]
  },
  {
   "cell_type": "code",
   "execution_count": 7,
   "metadata": {},
   "outputs": [],
   "source": [
    "iris=pd.read_csv('/Users/jayraj/Applied_AI_Course/Applied_ai_course/Datasets/iris.csv')\n",
    "iris.columns\n",
    "col_names=list(iris.columns)\n",
    "predictors=col_names[0:3]\n",
    "target=col_names[4]"
   ]
  },
  {
   "cell_type": "code",
   "execution_count": 8,
   "metadata": {},
   "outputs": [],
   "source": [
    "from sklearn.model_selection import train_test_split\n",
    "train,test=train_test_split(iris,test_size=0.3,random_state=0)"
   ]
  },
  {
   "cell_type": "code",
   "execution_count": 10,
   "metadata": {},
   "outputs": [
    {
     "name": "stdout",
     "output_type": "stream",
     "text": [
      "0.9142857142857143\n",
      "0.8888888888888888\n"
     ]
    }
   ],
   "source": [
    "########## Naive Bayes##############\n",
    "\n",
    "#Gausian Naive Bayes\n",
    "\n",
    "\n",
    "from sklearn.naive_bayes import GaussianNB\n",
    "Gmodel=GaussianNB()\n",
    "train_pred_gau=Gmodel.fit(train[predictors],train[target]).predict(train[predictors])\n",
    "test_pred_gau=Gmodel.fit(train[predictors],train[target]).predict(test[predictors])\n",
    "\n",
    "train_acc_gau=np.mean(train_pred_gau==train[target])\n",
    "test_acc_gau=np.mean(test_pred_gau==test[target])\n",
    "print(train_acc_gau)\n",
    "print(test_acc_gau)"
   ]
  }
 ],
 "metadata": {
  "interpreter": {
   "hash": "e2e7e24d714309a7862a0ded29461c7c5d6f939657d549a01c409270611e57d6"
  },
  "kernelspec": {
   "display_name": "Python 3.9.7 ('base')",
   "language": "python",
   "name": "python3"
  },
  "language_info": {
   "codemirror_mode": {
    "name": "ipython",
    "version": 3
   },
   "file_extension": ".py",
   "mimetype": "text/x-python",
   "name": "python",
   "nbconvert_exporter": "python",
   "pygments_lexer": "ipython3",
   "version": "3.9.7"
  },
  "orig_nbformat": 4
 },
 "nbformat": 4,
 "nbformat_minor": 2
}
