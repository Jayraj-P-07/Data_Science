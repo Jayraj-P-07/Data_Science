{
 "cells": [
  {
   "cell_type": "code",
   "execution_count": 3,
   "id": "fa8405eb",
   "metadata": {},
   "outputs": [],
   "source": [
    "# to create a text file \n",
    "file1=open('test1.txt', 'w')\n",
    "file1.write('this is a first line\\n')\n",
    "file1.write(\"this is a second line\\n\")\n",
    "file1.close()"
   ]
  },
  {
   "cell_type": "code",
   "execution_count": 6,
   "id": "9f381768",
   "metadata": {},
   "outputs": [],
   "source": [
    "file1=open(\"test1.txt\")"
   ]
  },
  {
   "cell_type": "code",
   "execution_count": 7,
   "id": "8987c2ed",
   "metadata": {},
   "outputs": [
    {
     "data": {
      "text/plain": [
       "4"
      ]
     },
     "execution_count": 7,
     "metadata": {},
     "output_type": "execute_result"
    }
   ],
   "source": [
    "file1.read()\n",
    "\n",
    "# to read up to fourth character in text file Note: the cursor stays there \n",
    "\n",
    "file1.read(4)\n",
    "\n",
    "# to make the cursor revert back to first position\n",
    "file1.seek(0)\n",
    "\n",
    "# to read the text file upto 4th character note: it doesn't start from 0 it starts 1\n",
    "file1.read(4)\n",
    "\n",
    "# to check the cursor position\n",
    "file1.tell()\n",
    "\n"
   ]
  },
  {
   "cell_type": "code",
   "execution_count": 8,
   "id": "02591f49",
   "metadata": {},
   "outputs": [
    {
     "name": "stdout",
     "output_type": "stream",
     "text": [
      "this is a first line\n",
      "this is a second line\n",
      "\n"
     ]
    }
   ],
   "source": [
    "# to read the whole text file\n",
    "file1.seek(0)\n",
    "print(file1.read())"
   ]
  },
  {
   "cell_type": "code",
   "execution_count": 9,
   "id": "08af4ae6",
   "metadata": {},
   "outputs": [
    {
     "data": {
      "text/plain": [
       "'this is a first line\\n'"
      ]
     },
     "execution_count": 9,
     "metadata": {},
     "output_type": "execute_result"
    }
   ],
   "source": [
    "file1.seek(0)\n",
    "file1.readline()"
   ]
  },
  {
   "cell_type": "code",
   "execution_count": 10,
   "id": "e462433b",
   "metadata": {},
   "outputs": [
    {
     "data": {
      "text/plain": [
       "['this is a first line\\n', 'this is a second line\\n']"
      ]
     },
     "execution_count": 10,
     "metadata": {},
     "output_type": "execute_result"
    }
   ],
   "source": [
    "file1.seek(0)\n",
    "file1.readlines()"
   ]
  },
  {
   "cell_type": "code",
   "execution_count": 11,
   "id": "1e71fbd1",
   "metadata": {},
   "outputs": [],
   "source": [
    "import os\n",
    "os.rename(\"test1.txt\",\"test.txt\")"
   ]
  },
  {
   "cell_type": "code",
   "execution_count": 13,
   "id": "baae967f",
   "metadata": {},
   "outputs": [
    {
     "ename": "FileNotFoundError",
     "evalue": "[Errno 2] No such file or directory: 'test.txt'",
     "output_type": "error",
     "traceback": [
      "\u001b[0;31m---------------------------------------------------------------------------\u001b[0m",
      "\u001b[0;31mFileNotFoundError\u001b[0m                         Traceback (most recent call last)",
      "\u001b[0;32m/var/folders/rp/8sq6h5px3mg90rq964p20c_00000gn/T/ipykernel_3998/948949576.py\u001b[0m in \u001b[0;36m<module>\u001b[0;34m\u001b[0m\n\u001b[0;32m----> 1\u001b[0;31m \u001b[0mfile\u001b[0m\u001b[0;34m=\u001b[0m\u001b[0mopen\u001b[0m\u001b[0;34m(\u001b[0m\u001b[0;34m\"test.txt\"\u001b[0m\u001b[0;34m)\u001b[0m\u001b[0;34m\u001b[0m\u001b[0;34m\u001b[0m\u001b[0m\n\u001b[0m\u001b[1;32m      2\u001b[0m \u001b[0mfile\u001b[0m\u001b[0;34m.\u001b[0m\u001b[0mreadlines\u001b[0m\u001b[0;34m(\u001b[0m\u001b[0;34m)\u001b[0m\u001b[0;34m\u001b[0m\u001b[0;34m\u001b[0m\u001b[0m\n\u001b[1;32m      3\u001b[0m \u001b[0mos\u001b[0m\u001b[0;34m.\u001b[0m\u001b[0mremove\u001b[0m\u001b[0;34m(\u001b[0m\u001b[0;34m\"test.txt\"\u001b[0m\u001b[0;34m)\u001b[0m\u001b[0;34m\u001b[0m\u001b[0;34m\u001b[0m\u001b[0m\n\u001b[1;32m      4\u001b[0m \u001b[0mfile\u001b[0m\u001b[0;34m=\u001b[0m\u001b[0mopen\u001b[0m\u001b[0;34m(\u001b[0m\u001b[0;34m\"test.txt\"\u001b[0m\u001b[0;34m)\u001b[0m\u001b[0;34m\u001b[0m\u001b[0;34m\u001b[0m\u001b[0m\n",
      "\u001b[0;31mFileNotFoundError\u001b[0m: [Errno 2] No such file or directory: 'test.txt'"
     ]
    }
   ],
   "source": [
    "file=open(\"test.txt\")\n",
    "file.readlines()\n",
    "os.remove(\"test.txt\")\n",
    "file=open(\"test.txt\")"
   ]
  },
  {
   "cell_type": "code",
   "execution_count": 17,
   "id": "abed72f1",
   "metadata": {},
   "outputs": [
    {
     "data": {
      "text/plain": [
       "['6_Pandas.ipynb',\n",
       " 'Multiclass ROC.png',\n",
       " '30_RandomForest.ipynb',\n",
       " 'Assignments',\n",
       " '.DS_Store',\n",
       " '12_Randomly_sample_datapoints.ipynb',\n",
       " '7_Pandas_dataframe.ipynb',\n",
       " '11_Q-Q plot.ipynb',\n",
       " 'Handling_Missing_Data.ipynb',\n",
       " '1_Python_Basics.ipynb',\n",
       " '18_PCA_Using_scikit_learn.ipynb',\n",
       " 'iris',\n",
       " 'Images',\n",
       " '31_Gradient_Boosting.ipynb',\n",
       " 'RandomForest_&_GBDT.ipynb',\n",
       " '3_File input or output.ipynb',\n",
       " '4_Numpy.ipynb',\n",
       " '34_Keras.ipynb',\n",
       " '9_ IRIS_Plotting for exploratory data analysis.ipynb',\n",
       " 'Datasets',\n",
       " '25_Logisitic_Regression.ipynb',\n",
       " '36_RNN.ipynb',\n",
       " '19_Breast_cancer_PCA.ipynb',\n",
       " '35_CNN.ipynb',\n",
       " '28_SVM_Application.ipynb',\n",
       " '10_Haberman Dataset.ipynb',\n",
       " '15_Proportional_sampling.ipynb',\n",
       " '27_SGD_Linear_Regression.ipynb',\n",
       " '17.1_MNIST_PCA.ipynb',\n",
       " '20_MNIST_tSNE.ipynb',\n",
       " '8_Space and time complexity.ipynb',\n",
       " '33_TensorFlow.ipynb',\n",
       " '22_KNN.ipynb',\n",
       " 'ROC.png',\n",
       " '16_Normal_Distribution.ipynb',\n",
       " '32_Clustering.ipynb',\n",
       " 'final.sqlite',\n",
       " '17_MNIST_Dataset_(15k).ipynb',\n",
       " '23_ KNN_CV&10Fold_CV.ipynb',\n",
       " '5_Matplotlib.ipynb',\n",
       " '13_Finding_Confidence_interval_using_Bootstrap.ipynb',\n",
       " 'scatter_hue.png',\n",
       " '21_Amazon_Fine_Food_Review_Analysis.ipynb',\n",
       " 'Logisitic_Regression on boston dataset.ipynb.ipynb',\n",
       " '26_Linear_Regression.ipynb',\n",
       " '24_Naive_Bayes_IRIS.ipynb',\n",
       " '32_Truncated_SVD.ipynb',\n",
       " 'best_calif.pkl',\n",
       " '29_Decision_Tree.ipynb',\n",
       " '14_KS_Test_for_Similarity_of_Two_Distributions.ipynb']"
      ]
     },
     "execution_count": 17,
     "metadata": {},
     "output_type": "execute_result"
    }
   ],
   "source": [
    "# to check the working directory\n",
    "directory=os.getcwd()\n",
    "\n",
    "# to check the list of files in the directory\n",
    "os.listdir(directory)"
   ]
  },
  {
   "cell_type": "code",
   "execution_count": 59,
   "id": "84a52e88",
   "metadata": {},
   "outputs": [
    {
     "data": {
      "text/plain": [
       "['ArithmeticError',\n",
       " 'AssertionError',\n",
       " 'AttributeError',\n",
       " 'BaseException',\n",
       " 'BlockingIOError',\n",
       " 'BrokenPipeError',\n",
       " 'BufferError',\n",
       " 'BytesWarning',\n",
       " 'ChildProcessError',\n",
       " 'ConnectionAbortedError',\n",
       " 'ConnectionError',\n",
       " 'ConnectionRefusedError',\n",
       " 'ConnectionResetError',\n",
       " 'DeprecationWarning',\n",
       " 'EOFError',\n",
       " 'Ellipsis',\n",
       " 'EnvironmentError',\n",
       " 'Exception',\n",
       " 'False',\n",
       " 'FileExistsError',\n",
       " 'FileNotFoundError',\n",
       " 'FloatingPointError',\n",
       " 'FutureWarning',\n",
       " 'GeneratorExit',\n",
       " 'IOError',\n",
       " 'ImportError',\n",
       " 'ImportWarning',\n",
       " 'IndentationError',\n",
       " 'IndexError',\n",
       " 'InterruptedError',\n",
       " 'IsADirectoryError',\n",
       " 'KeyError',\n",
       " 'KeyboardInterrupt',\n",
       " 'LookupError',\n",
       " 'MemoryError',\n",
       " 'ModuleNotFoundError',\n",
       " 'NameError',\n",
       " 'None',\n",
       " 'NotADirectoryError',\n",
       " 'NotImplemented',\n",
       " 'NotImplementedError',\n",
       " 'OSError',\n",
       " 'OverflowError',\n",
       " 'PendingDeprecationWarning',\n",
       " 'PermissionError',\n",
       " 'ProcessLookupError',\n",
       " 'RecursionError',\n",
       " 'ReferenceError',\n",
       " 'ResourceWarning',\n",
       " 'RuntimeError',\n",
       " 'RuntimeWarning',\n",
       " 'StopAsyncIteration',\n",
       " 'StopIteration',\n",
       " 'SyntaxError',\n",
       " 'SyntaxWarning',\n",
       " 'SystemError',\n",
       " 'SystemExit',\n",
       " 'TabError',\n",
       " 'TimeoutError',\n",
       " 'True',\n",
       " 'TypeError',\n",
       " 'UnboundLocalError',\n",
       " 'UnicodeDecodeError',\n",
       " 'UnicodeEncodeError',\n",
       " 'UnicodeError',\n",
       " 'UnicodeTranslateError',\n",
       " 'UnicodeWarning',\n",
       " 'UserWarning',\n",
       " 'ValueError',\n",
       " 'Warning',\n",
       " 'ZeroDivisionError',\n",
       " '__IPYTHON__',\n",
       " '__build_class__',\n",
       " '__debug__',\n",
       " '__doc__',\n",
       " '__import__',\n",
       " '__loader__',\n",
       " '__name__',\n",
       " '__package__',\n",
       " '__spec__',\n",
       " 'abs',\n",
       " 'all',\n",
       " 'any',\n",
       " 'ascii',\n",
       " 'bin',\n",
       " 'bool',\n",
       " 'breakpoint',\n",
       " 'bytearray',\n",
       " 'bytes',\n",
       " 'callable',\n",
       " 'chr',\n",
       " 'classmethod',\n",
       " 'compile',\n",
       " 'complex',\n",
       " 'copyright',\n",
       " 'credits',\n",
       " 'delattr',\n",
       " 'dict',\n",
       " 'dir',\n",
       " 'display',\n",
       " 'divmod',\n",
       " 'enumerate',\n",
       " 'eval',\n",
       " 'exec',\n",
       " 'execfile',\n",
       " 'filter',\n",
       " 'float',\n",
       " 'format',\n",
       " 'frozenset',\n",
       " 'get_ipython',\n",
       " 'getattr',\n",
       " 'globals',\n",
       " 'hasattr',\n",
       " 'hash',\n",
       " 'help',\n",
       " 'hex',\n",
       " 'id',\n",
       " 'input',\n",
       " 'int',\n",
       " 'isinstance',\n",
       " 'issubclass',\n",
       " 'iter',\n",
       " 'len',\n",
       " 'license',\n",
       " 'list',\n",
       " 'locals',\n",
       " 'map',\n",
       " 'max',\n",
       " 'memoryview',\n",
       " 'min',\n",
       " 'next',\n",
       " 'object',\n",
       " 'oct',\n",
       " 'open',\n",
       " 'ord',\n",
       " 'pow',\n",
       " 'print',\n",
       " 'property',\n",
       " 'range',\n",
       " 'repr',\n",
       " 'reversed',\n",
       " 'round',\n",
       " 'runfile',\n",
       " 'set',\n",
       " 'setattr',\n",
       " 'slice',\n",
       " 'sorted',\n",
       " 'staticmethod',\n",
       " 'str',\n",
       " 'sum',\n",
       " 'super',\n",
       " 'tuple',\n",
       " 'type',\n",
       " 'vars',\n",
       " 'zip']"
      ]
     },
     "execution_count": 59,
     "metadata": {},
     "output_type": "execute_result"
    }
   ],
   "source": [
    "# different type of errors\n",
    "dir(__builtins__)"
   ]
  },
  {
   "cell_type": "markdown",
   "id": "234be976",
   "metadata": {},
   "source": [
    "## Try and except"
   ]
  },
  {
   "cell_type": "code",
   "execution_count": 66,
   "id": "0f020532",
   "metadata": {},
   "outputs": [
    {
     "name": "stdout",
     "output_type": "stream",
     "text": [
      "the entry is a\n",
      "oops <class 'ValueError'> occurred.\n",
      "next entry\n",
      "*********************\n",
      "the entry is 0\n",
      "oops <class 'ZeroDivisionError'> occurred.\n",
      "next entry\n",
      "*********************\n",
      "the entry is 1\n",
      "the entry is 2\n",
      "the reciprocal of 1/2 is 0.5 \n"
     ]
    }
   ],
   "source": [
    "import sys\n",
    "lst=['a', 0, 1, 2]\n",
    "\n",
    "for entry in lst:\n",
    "    try:\n",
    "        print(\"the entry is\", entry)\n",
    "        r= 1/int(entry)\n",
    "    except:\n",
    "        print(\"oops\", sys.exc_info()[0], \"occurred.\")\n",
    "        print('next entry')\n",
    "        print(\"*********************\")\n",
    "print(\"the reciprocal of 1/{} is {} \".format(entry, r))        "
   ]
  },
  {
   "cell_type": "code",
   "execution_count": 70,
   "id": "1128d5c9",
   "metadata": {},
   "outputs": [
    {
     "name": "stdout",
     "output_type": "stream",
     "text": [
      "the entry is  a\n",
      "this is value error\n",
      "the entry is  0\n",
      " zero cannot be a denominator\n",
      "the entry is  2\n",
      "the entry is  3\n",
      "the reciprocal of 3 is 0.3333333333333333\n"
     ]
    }
   ],
   "source": [
    "#  using mutiple except in exception handling\n",
    "\n",
    "import sys\n",
    "\n",
    "lst=['a', 0, 2, 3 ]\n",
    "\n",
    "for item in lst:\n",
    "    try:\n",
    "        print(\"the entry is \", item)\n",
    "        r = 1/int(item)\n",
    "    except (ValueError):\n",
    "        print(\"this is value error\")\n",
    "    except (ZeroDivisionError):\n",
    "        print(\" zero cannot be a denominator\")\n",
    "    except:\n",
    "        print(\"other type of error\")\n",
    "print(\"the reciprocal of {} is {}\".format(item, r))\n"
   ]
  },
  {
   "cell_type": "code",
   "execution_count": 19,
   "id": "90a99ef1",
   "metadata": {},
   "outputs": [
    {
     "ename": "MemoryError",
     "evalue": "",
     "output_type": "error",
     "traceback": [
      "\u001b[0;31m---------------------------------------------------------------------------\u001b[0m",
      "\u001b[0;31mMemoryError\u001b[0m                               Traceback (most recent call last)",
      "\u001b[0;32m/var/folders/rp/8sq6h5px3mg90rq964p20c_00000gn/T/ipykernel_3998/2733307018.py\u001b[0m in \u001b[0;36m<module>\u001b[0;34m\u001b[0m\n\u001b[1;32m      1\u001b[0m \u001b[0;31m# For raising the error\u001b[0m\u001b[0;34m\u001b[0m\u001b[0;34m\u001b[0m\u001b[0m\n\u001b[0;32m----> 2\u001b[0;31m \u001b[0;32mraise\u001b[0m \u001b[0mMemoryError\u001b[0m\u001b[0;34m\u001b[0m\u001b[0;34m\u001b[0m\u001b[0m\n\u001b[0m",
      "\u001b[0;31mMemoryError\u001b[0m: "
     ]
    }
   ],
   "source": [
    "# For raising the error\n",
    "raise MemoryError"
   ]
  },
  {
   "cell_type": "code",
   "execution_count": 20,
   "id": "dadb049e",
   "metadata": {},
   "outputs": [
    {
     "ename": "KeyboardInterrupt",
     "evalue": "",
     "output_type": "error",
     "traceback": [
      "\u001b[0;31m---------------------------------------------------------------------------\u001b[0m",
      "\u001b[0;31mKeyboardInterrupt\u001b[0m                         Traceback (most recent call last)",
      "\u001b[0;32m/var/folders/rp/8sq6h5px3mg90rq964p20c_00000gn/T/ipykernel_3998/2006531705.py\u001b[0m in \u001b[0;36m<module>\u001b[0;34m\u001b[0m\n\u001b[0;32m----> 1\u001b[0;31m \u001b[0;32mraise\u001b[0m \u001b[0mKeyboardInterrupt\u001b[0m\u001b[0;34m\u001b[0m\u001b[0;34m\u001b[0m\u001b[0m\n\u001b[0m",
      "\u001b[0;31mKeyboardInterrupt\u001b[0m: "
     ]
    }
   ],
   "source": [
    "raise KeyboardInterrupt"
   ]
  },
  {
   "cell_type": "code",
   "execution_count": 21,
   "id": "17bfbd04",
   "metadata": {},
   "outputs": [
    {
     "name": "stdout",
     "output_type": "stream",
     "text": [
      "0\n",
      "1\n",
      "2\n",
      "3\n",
      "4\n"
     ]
    }
   ],
   "source": [
    "def seq(n):\n",
    "    for i in range(n):\n",
    "        print(i)\n",
    "seq(5)"
   ]
  },
  {
   "cell_type": "markdown",
   "id": "d9980381",
   "metadata": {},
   "source": [
    "## Python debugger"
   ]
  },
  {
   "cell_type": "code",
   "execution_count": 7,
   "id": "559b0697",
   "metadata": {},
   "outputs": [
    {
     "name": "stdout",
     "output_type": "stream",
     "text": [
      "> \u001b[0;32m/var/folders/rp/8sq6h5px3mg90rq964p20c_00000gn/T/ipykernel_2228/939816674.py\u001b[0m(6)\u001b[0;36mseq_\u001b[0;34m()\u001b[0m\n",
      "\u001b[0;32m      4 \u001b[0;31m    \u001b[0;32mfor\u001b[0m \u001b[0mi\u001b[0m \u001b[0;32min\u001b[0m \u001b[0mrange\u001b[0m\u001b[0;34m(\u001b[0m\u001b[0mn\u001b[0m\u001b[0;34m)\u001b[0m\u001b[0;34m:\u001b[0m\u001b[0;34m\u001b[0m\u001b[0;34m\u001b[0m\u001b[0m\n",
      "\u001b[0m\u001b[0;32m      5 \u001b[0;31m        \u001b[0mpdb\u001b[0m\u001b[0;34m.\u001b[0m\u001b[0mset_trace\u001b[0m\u001b[0;34m(\u001b[0m\u001b[0;34m)\u001b[0m\u001b[0;34m\u001b[0m\u001b[0;34m\u001b[0m\u001b[0m\n",
      "\u001b[0m\u001b[0;32m----> 6 \u001b[0;31m        \u001b[0mprint\u001b[0m\u001b[0;34m(\u001b[0m\u001b[0mi\u001b[0m\u001b[0;34m)\u001b[0m\u001b[0;34m\u001b[0m\u001b[0;34m\u001b[0m\u001b[0m\n",
      "\u001b[0m\u001b[0;32m      7 \u001b[0;31m    \u001b[0;32mreturn\u001b[0m\u001b[0;34m(\u001b[0m\u001b[0;34m)\u001b[0m\u001b[0;34m\u001b[0m\u001b[0;34m\u001b[0m\u001b[0m\n",
      "\u001b[0m\u001b[0;32m      8 \u001b[0;31m\u001b[0;34m\u001b[0m\u001b[0m\n",
      "\u001b[0m\n",
      "ipdb> plocals()\n",
      "*** NameError: name 'plocals' is not defined\n",
      "ipdb> p locals()\n",
      "{'n': 5, 'i': 0}\n",
      "ipdb> c\n",
      "0\n",
      "> \u001b[0;32m/var/folders/rp/8sq6h5px3mg90rq964p20c_00000gn/T/ipykernel_2228/939816674.py\u001b[0m(5)\u001b[0;36mseq_\u001b[0;34m()\u001b[0m\n",
      "\u001b[0;32m      3 \u001b[0;31m\u001b[0;32mdef\u001b[0m \u001b[0mseq_\u001b[0m\u001b[0;34m(\u001b[0m\u001b[0mn\u001b[0m\u001b[0;34m)\u001b[0m\u001b[0;34m:\u001b[0m\u001b[0;34m\u001b[0m\u001b[0;34m\u001b[0m\u001b[0m\n",
      "\u001b[0m\u001b[0;32m      4 \u001b[0;31m    \u001b[0;32mfor\u001b[0m \u001b[0mi\u001b[0m \u001b[0;32min\u001b[0m \u001b[0mrange\u001b[0m\u001b[0;34m(\u001b[0m\u001b[0mn\u001b[0m\u001b[0;34m)\u001b[0m\u001b[0;34m:\u001b[0m\u001b[0;34m\u001b[0m\u001b[0;34m\u001b[0m\u001b[0m\n",
      "\u001b[0m\u001b[0;32m----> 5 \u001b[0;31m        \u001b[0mpdb\u001b[0m\u001b[0;34m.\u001b[0m\u001b[0mset_trace\u001b[0m\u001b[0;34m(\u001b[0m\u001b[0;34m)\u001b[0m\u001b[0;34m\u001b[0m\u001b[0;34m\u001b[0m\u001b[0m\n",
      "\u001b[0m\u001b[0;32m      6 \u001b[0;31m        \u001b[0mprint\u001b[0m\u001b[0;34m(\u001b[0m\u001b[0mi\u001b[0m\u001b[0;34m)\u001b[0m\u001b[0;34m\u001b[0m\u001b[0;34m\u001b[0m\u001b[0m\n",
      "\u001b[0m\u001b[0;32m      7 \u001b[0;31m    \u001b[0;32mreturn\u001b[0m\u001b[0;34m(\u001b[0m\u001b[0;34m)\u001b[0m\u001b[0;34m\u001b[0m\u001b[0;34m\u001b[0m\u001b[0m\n",
      "\u001b[0m\n",
      "ipdb> p globals()\n",
      "{'__name__': '__main__', '__doc__': 'Automatically created module for IPython interactive environment', '__package__': None, '__loader__': None, '__spec__': None, '__builtin__': <module 'builtins' (built-in)>, '__builtins__': <module 'builtins' (built-in)>, '_ih': ['', 'import pdb\\n\\ndef seq_(n):\\n    for i in range(n):\\n        pdb.set_trace()\\n        print(i)\\n    return()\\n\\nseq_(5)', 'import pdb\\n\\ndef seq_(n):\\n    for i in range(n):\\n      \\n        print(i)\\n    return()\\n\\nseq_(5)', 'import pdb\\n\\ndef seq_(n):\\n    for i in range(n):   \\n        print(i)\\n\\nseq_(5)', 'import pdb\\n\\ndef seq_(n):\\n    for i in range(n):   \\n        print(i)\\n    return\\n\\nseq_(5)', 'import pdb\\n\\ndef seq_(n):\\n    for i in range(n):   \\n        print(i)\\n    return\\n\\nseq_(5)', 'import pdb\\n\\ndef seq_(n):\\n    for i in range(n):   \\n        print(i)\\n    return()\\n\\nseq_(5)', 'import pdb\\n\\ndef seq_(n):\\n    for i in range(n):   \\n        pdb.set_trace()\\n        print(i)\\n    return()\\n\\nseq_(5)'], '_oh': {2: (), 6: ()}, '_dh': ['/Users/jayraj/Applied_AI_Course'], 'In': ['', 'import pdb\\n\\ndef seq_(n):\\n    for i in range(n):\\n        pdb.set_trace()\\n        print(i)\\n    return()\\n\\nseq_(5)', 'import pdb\\n\\ndef seq_(n):\\n    for i in range(n):\\n      \\n        print(i)\\n    return()\\n\\nseq_(5)', 'import pdb\\n\\ndef seq_(n):\\n    for i in range(n):   \\n        print(i)\\n\\nseq_(5)', 'import pdb\\n\\ndef seq_(n):\\n    for i in range(n):   \\n        print(i)\\n    return\\n\\nseq_(5)', 'import pdb\\n\\ndef seq_(n):\\n    for i in range(n):   \\n        print(i)\\n    return\\n\\nseq_(5)', 'import pdb\\n\\ndef seq_(n):\\n    for i in range(n):   \\n        print(i)\\n    return()\\n\\nseq_(5)', 'import pdb\\n\\ndef seq_(n):\\n    for i in range(n):   \\n        pdb.set_trace()\\n        print(i)\\n    return()\\n\\nseq_(5)'], 'Out': {2: (), 6: ()}, 'get_ipython': <bound method InteractiveShell.get_ipython of <ipykernel.zmqshell.ZMQInteractiveShell object at 0x7fa439dd08b0>>, 'exit': <IPython.core.autocall.ZMQExitAutocall object at 0x7fa439df3610>, 'quit': <IPython.core.autocall.ZMQExitAutocall object at 0x7fa439df3610>, '_': (), '__': (), '___': '', '_i': 'import pdb\\n\\ndef seq_(n):\\n    for i in range(n):   \\n        print(i)\\n    return()\\n\\nseq_(5)', '_ii': 'import pdb\\n\\ndef seq_(n):\\n    for i in range(n):   \\n        print(i)\\n    return\\n\\nseq_(5)', '_iii': 'import pdb\\n\\ndef seq_(n):\\n    for i in range(n):   \\n        print(i)\\n    return\\n\\nseq_(5)', '_i1': 'import pdb\\n\\ndef seq_(n):\\n    for i in range(n):\\n        pdb.set_trace()\\n        print(i)\\n    return()\\n\\nseq_(5)', 'pdb': <module 'pdb' from '/Users/jayraj/opt/anaconda3/lib/python3.9/pdb.py'>, 'seq_': <function seq_ at 0x7fa439f00a60>, '_i2': 'import pdb\\n\\ndef seq_(n):\\n    for i in range(n):\\n      \\n        print(i)\\n    return()\\n\\nseq_(5)', '_2': (), '_i3': 'import pdb\\n\\ndef seq_(n):\\n    for i in range(n):   \\n        print(i)\\n\\nseq_(5)', '_i4': 'import pdb\\n\\ndef seq_(n):\\n    for i in range(n):   \\n        print(i)\\n    return\\n\\nseq_(5)', '_i5': 'import pdb\\n\\ndef seq_(n):\\n    for i in range(n):   \\n        print(i)\\n    return\\n\\nseq_(5)', '_i6': 'import pdb\\n\\ndef seq_(n):\\n    for i in range(n):   \\n        print(i)\\n    return()\\n\\nseq_(5)', '_6': (), '_i7': 'import pdb\\n\\ndef seq_(n):\\n    for i in range(n):   \\n        pdb.set_trace()\\n        print(i)\\n    return()\\n\\nseq_(5)'}\n",
      "ipdb> c\n",
      "1\n",
      "> \u001b[0;32m/var/folders/rp/8sq6h5px3mg90rq964p20c_00000gn/T/ipykernel_2228/939816674.py\u001b[0m(6)\u001b[0;36mseq_\u001b[0;34m()\u001b[0m\n",
      "\u001b[0;32m      4 \u001b[0;31m    \u001b[0;32mfor\u001b[0m \u001b[0mi\u001b[0m \u001b[0;32min\u001b[0m \u001b[0mrange\u001b[0m\u001b[0;34m(\u001b[0m\u001b[0mn\u001b[0m\u001b[0;34m)\u001b[0m\u001b[0;34m:\u001b[0m\u001b[0;34m\u001b[0m\u001b[0;34m\u001b[0m\u001b[0m\n",
      "\u001b[0m\u001b[0;32m      5 \u001b[0;31m        \u001b[0mpdb\u001b[0m\u001b[0;34m.\u001b[0m\u001b[0mset_trace\u001b[0m\u001b[0;34m(\u001b[0m\u001b[0;34m)\u001b[0m\u001b[0;34m\u001b[0m\u001b[0;34m\u001b[0m\u001b[0m\n",
      "\u001b[0m\u001b[0;32m----> 6 \u001b[0;31m        \u001b[0mprint\u001b[0m\u001b[0;34m(\u001b[0m\u001b[0mi\u001b[0m\u001b[0;34m)\u001b[0m\u001b[0;34m\u001b[0m\u001b[0;34m\u001b[0m\u001b[0m\n",
      "\u001b[0m\u001b[0;32m      7 \u001b[0;31m    \u001b[0;32mreturn\u001b[0m\u001b[0;34m(\u001b[0m\u001b[0;34m)\u001b[0m\u001b[0;34m\u001b[0m\u001b[0;34m\u001b[0m\u001b[0m\n",
      "\u001b[0m\u001b[0;32m      8 \u001b[0;31m\u001b[0;34m\u001b[0m\u001b[0m\n",
      "\u001b[0m\n",
      "ipdb> q\n"
     ]
    },
    {
     "ename": "BdbQuit",
     "evalue": "",
     "output_type": "error",
     "traceback": [
      "\u001b[0;31m---------------------------------------------------------------------------\u001b[0m",
      "\u001b[0;31mBdbQuit\u001b[0m                                   Traceback (most recent call last)",
      "\u001b[0;32m/var/folders/rp/8sq6h5px3mg90rq964p20c_00000gn/T/ipykernel_2228/939816674.py\u001b[0m in \u001b[0;36m<module>\u001b[0;34m\u001b[0m\n\u001b[1;32m      7\u001b[0m     \u001b[0;32mreturn\u001b[0m\u001b[0;34m(\u001b[0m\u001b[0;34m)\u001b[0m\u001b[0;34m\u001b[0m\u001b[0;34m\u001b[0m\u001b[0m\n\u001b[1;32m      8\u001b[0m \u001b[0;34m\u001b[0m\u001b[0m\n\u001b[0;32m----> 9\u001b[0;31m \u001b[0mseq_\u001b[0m\u001b[0;34m(\u001b[0m\u001b[0;36m5\u001b[0m\u001b[0;34m)\u001b[0m\u001b[0;34m\u001b[0m\u001b[0;34m\u001b[0m\u001b[0m\n\u001b[0m",
      "\u001b[0;32m/var/folders/rp/8sq6h5px3mg90rq964p20c_00000gn/T/ipykernel_2228/939816674.py\u001b[0m in \u001b[0;36mseq_\u001b[0;34m(n)\u001b[0m\n\u001b[1;32m      4\u001b[0m     \u001b[0;32mfor\u001b[0m \u001b[0mi\u001b[0m \u001b[0;32min\u001b[0m \u001b[0mrange\u001b[0m\u001b[0;34m(\u001b[0m\u001b[0mn\u001b[0m\u001b[0;34m)\u001b[0m\u001b[0;34m:\u001b[0m\u001b[0;34m\u001b[0m\u001b[0;34m\u001b[0m\u001b[0m\n\u001b[1;32m      5\u001b[0m         \u001b[0mpdb\u001b[0m\u001b[0;34m.\u001b[0m\u001b[0mset_trace\u001b[0m\u001b[0;34m(\u001b[0m\u001b[0;34m)\u001b[0m\u001b[0;34m\u001b[0m\u001b[0;34m\u001b[0m\u001b[0m\n\u001b[0;32m----> 6\u001b[0;31m         \u001b[0mprint\u001b[0m\u001b[0;34m(\u001b[0m\u001b[0mi\u001b[0m\u001b[0;34m)\u001b[0m\u001b[0;34m\u001b[0m\u001b[0;34m\u001b[0m\u001b[0m\n\u001b[0m\u001b[1;32m      7\u001b[0m     \u001b[0;32mreturn\u001b[0m\u001b[0;34m(\u001b[0m\u001b[0;34m)\u001b[0m\u001b[0;34m\u001b[0m\u001b[0;34m\u001b[0m\u001b[0m\n\u001b[1;32m      8\u001b[0m \u001b[0;34m\u001b[0m\u001b[0m\n",
      "\u001b[0;32m/var/folders/rp/8sq6h5px3mg90rq964p20c_00000gn/T/ipykernel_2228/939816674.py\u001b[0m in \u001b[0;36mseq_\u001b[0;34m(n)\u001b[0m\n\u001b[1;32m      4\u001b[0m     \u001b[0;32mfor\u001b[0m \u001b[0mi\u001b[0m \u001b[0;32min\u001b[0m \u001b[0mrange\u001b[0m\u001b[0;34m(\u001b[0m\u001b[0mn\u001b[0m\u001b[0;34m)\u001b[0m\u001b[0;34m:\u001b[0m\u001b[0;34m\u001b[0m\u001b[0;34m\u001b[0m\u001b[0m\n\u001b[1;32m      5\u001b[0m         \u001b[0mpdb\u001b[0m\u001b[0;34m.\u001b[0m\u001b[0mset_trace\u001b[0m\u001b[0;34m(\u001b[0m\u001b[0;34m)\u001b[0m\u001b[0;34m\u001b[0m\u001b[0;34m\u001b[0m\u001b[0m\n\u001b[0;32m----> 6\u001b[0;31m         \u001b[0mprint\u001b[0m\u001b[0;34m(\u001b[0m\u001b[0mi\u001b[0m\u001b[0;34m)\u001b[0m\u001b[0;34m\u001b[0m\u001b[0;34m\u001b[0m\u001b[0m\n\u001b[0m\u001b[1;32m      7\u001b[0m     \u001b[0;32mreturn\u001b[0m\u001b[0;34m(\u001b[0m\u001b[0;34m)\u001b[0m\u001b[0;34m\u001b[0m\u001b[0;34m\u001b[0m\u001b[0m\n\u001b[1;32m      8\u001b[0m \u001b[0;34m\u001b[0m\u001b[0m\n",
      "\u001b[0;32m~/opt/anaconda3/lib/python3.9/bdb.py\u001b[0m in \u001b[0;36mtrace_dispatch\u001b[0;34m(self, frame, event, arg)\u001b[0m\n\u001b[1;32m     86\u001b[0m             \u001b[0;32mreturn\u001b[0m \u001b[0;31m# None\u001b[0m\u001b[0;34m\u001b[0m\u001b[0;34m\u001b[0m\u001b[0m\n\u001b[1;32m     87\u001b[0m         \u001b[0;32mif\u001b[0m \u001b[0mevent\u001b[0m \u001b[0;34m==\u001b[0m \u001b[0;34m'line'\u001b[0m\u001b[0;34m:\u001b[0m\u001b[0;34m\u001b[0m\u001b[0;34m\u001b[0m\u001b[0m\n\u001b[0;32m---> 88\u001b[0;31m             \u001b[0;32mreturn\u001b[0m \u001b[0mself\u001b[0m\u001b[0;34m.\u001b[0m\u001b[0mdispatch_line\u001b[0m\u001b[0;34m(\u001b[0m\u001b[0mframe\u001b[0m\u001b[0;34m)\u001b[0m\u001b[0;34m\u001b[0m\u001b[0;34m\u001b[0m\u001b[0m\n\u001b[0m\u001b[1;32m     89\u001b[0m         \u001b[0;32mif\u001b[0m \u001b[0mevent\u001b[0m \u001b[0;34m==\u001b[0m \u001b[0;34m'call'\u001b[0m\u001b[0;34m:\u001b[0m\u001b[0;34m\u001b[0m\u001b[0;34m\u001b[0m\u001b[0m\n\u001b[1;32m     90\u001b[0m             \u001b[0;32mreturn\u001b[0m \u001b[0mself\u001b[0m\u001b[0;34m.\u001b[0m\u001b[0mdispatch_call\u001b[0m\u001b[0;34m(\u001b[0m\u001b[0mframe\u001b[0m\u001b[0;34m,\u001b[0m \u001b[0marg\u001b[0m\u001b[0;34m)\u001b[0m\u001b[0;34m\u001b[0m\u001b[0;34m\u001b[0m\u001b[0m\n",
      "\u001b[0;32m~/opt/anaconda3/lib/python3.9/bdb.py\u001b[0m in \u001b[0;36mdispatch_line\u001b[0;34m(self, frame)\u001b[0m\n\u001b[1;32m    111\u001b[0m         \u001b[0;32mif\u001b[0m \u001b[0mself\u001b[0m\u001b[0;34m.\u001b[0m\u001b[0mstop_here\u001b[0m\u001b[0;34m(\u001b[0m\u001b[0mframe\u001b[0m\u001b[0;34m)\u001b[0m \u001b[0;32mor\u001b[0m \u001b[0mself\u001b[0m\u001b[0;34m.\u001b[0m\u001b[0mbreak_here\u001b[0m\u001b[0;34m(\u001b[0m\u001b[0mframe\u001b[0m\u001b[0;34m)\u001b[0m\u001b[0;34m:\u001b[0m\u001b[0;34m\u001b[0m\u001b[0;34m\u001b[0m\u001b[0m\n\u001b[1;32m    112\u001b[0m             \u001b[0mself\u001b[0m\u001b[0;34m.\u001b[0m\u001b[0muser_line\u001b[0m\u001b[0;34m(\u001b[0m\u001b[0mframe\u001b[0m\u001b[0;34m)\u001b[0m\u001b[0;34m\u001b[0m\u001b[0;34m\u001b[0m\u001b[0m\n\u001b[0;32m--> 113\u001b[0;31m             \u001b[0;32mif\u001b[0m \u001b[0mself\u001b[0m\u001b[0;34m.\u001b[0m\u001b[0mquitting\u001b[0m\u001b[0;34m:\u001b[0m \u001b[0;32mraise\u001b[0m \u001b[0mBdbQuit\u001b[0m\u001b[0;34m\u001b[0m\u001b[0;34m\u001b[0m\u001b[0m\n\u001b[0m\u001b[1;32m    114\u001b[0m         \u001b[0;32mreturn\u001b[0m \u001b[0mself\u001b[0m\u001b[0;34m.\u001b[0m\u001b[0mtrace_dispatch\u001b[0m\u001b[0;34m\u001b[0m\u001b[0;34m\u001b[0m\u001b[0m\n\u001b[1;32m    115\u001b[0m \u001b[0;34m\u001b[0m\u001b[0m\n",
      "\u001b[0;31mBdbQuit\u001b[0m: "
     ]
    }
   ],
   "source": [
    "import pdb\n",
    "\n",
    "def seq_(n):\n",
    "    for i in range(n):   \n",
    "        pdb.set_trace()\n",
    "        print(i)\n",
    "    return()\n",
    "\n",
    "seq_(5)\n"
   ]
  }
 ],
 "metadata": {
  "kernelspec": {
   "display_name": "Python 3 (ipykernel)",
   "language": "python",
   "name": "python3"
  },
  "language_info": {
   "codemirror_mode": {
    "name": "ipython",
    "version": 3
   },
   "file_extension": ".py",
   "mimetype": "text/x-python",
   "name": "python",
   "nbconvert_exporter": "python",
   "pygments_lexer": "ipython3",
   "version": "3.10.0"
  }
 },
 "nbformat": 4,
 "nbformat_minor": 5
}
